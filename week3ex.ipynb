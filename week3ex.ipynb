{
 "cells": [
  {
   "cell_type": "markdown",
   "metadata": {},
   "source": [
    "## Week 03 Exercises\n",
    "1.2.2017 Chanh Nguyen 1504202"
   ]
  },
  {
   "cell_type": "code",
   "execution_count": 4,
   "metadata": {
    "collapsed": true
   },
   "outputs": [],
   "source": [
    "%matplotlib notebook\n",
    "import matplotlib.pyplot as plt\n",
    "import numpy as np\n",
    "from matplotlib.pyplot import *\n",
    "from numpy import *\n",
    "\n",
    "from scipy.misc import factorial"
   ]
  },
  {
   "cell_type": "markdown",
   "metadata": {},
   "source": [
    "### Problem 6"
   ]
  },
  {
   "cell_type": "code",
   "execution_count": 24,
   "metadata": {
    "collapsed": false
   },
   "outputs": [
    {
     "name": "stdout",
     "output_type": "stream",
     "text": [
      "0 1.0 0.412214747708\n",
      "1 0.555867801951 0.0319174503415\n",
      "2 0.588743370175 0.000958117882482\n",
      "3 0.587769963616 1.52886760134e-05\n",
      "4 0.587785403659 1.51366644441e-07\n",
      "5 0.587785251272 1.02046848749e-09\n",
      "Done\n",
      "0.587785252292\n"
     ]
    }
   ],
   "source": [
    "maxiter = 50\n",
    "i = 0\n",
    "x = 0.3*pi\n",
    "y_true = cos(x)\n",
    "y = 0\n",
    "\n",
    "es = 0.5*10**(-8)\n",
    "\n",
    "while i < maxiter:\n",
    "    \n",
    "    y += (-1.0)**i * x**(2*i)/factorial(2*i)\n",
    "       \n",
    "    et = abs(y_true-y)\n",
    "    print(i, y, et)\n",
    "    if et < es:\n",
    "        break\n",
    "    \n",
    "    i += 1\n",
    "        \n",
    "print(\"Done\")\n",
    "print(y_true)"
   ]
  },
  {
   "cell_type": "markdown",
   "metadata": {},
   "source": [
    "### Problem 8"
   ]
  },
  {
   "cell_type": "code",
   "execution_count": 27,
   "metadata": {
    "collapsed": false
   },
   "outputs": [
    {
     "name": "stdout",
     "output_type": "stream",
     "text": [
      "1.082323233710861\n",
      "Done\n",
      "1.082323233711138\n"
     ]
    }
   ],
   "source": [
    "maxiter = 10000\n",
    "k = 1\n",
    "\n",
    "f_true = pi**4/90\n",
    "f = 0\n",
    "\n",
    "while k < maxiter:\n",
    "    \n",
    "    f += 1/k**4\n",
    "    \n",
    "    #print(k, f)\n",
    "    \n",
    "    k += 1\n",
    "\n",
    "print(f)    \n",
    "print(\"Done\")\n",
    "print(f_true)"
   ]
  },
  {
   "cell_type": "code",
   "execution_count": null,
   "metadata": {
    "collapsed": true
   },
   "outputs": [],
   "source": []
  }
 ],
 "metadata": {
  "kernelspec": {
   "display_name": "Python [default]",
   "language": "python",
   "name": "python3"
  },
  "language_info": {
   "codemirror_mode": {
    "name": "ipython",
    "version": 3
   },
   "file_extension": ".py",
   "mimetype": "text/x-python",
   "name": "python",
   "nbconvert_exporter": "python",
   "pygments_lexer": "ipython3",
   "version": "3.5.2"
  }
 },
 "nbformat": 4,
 "nbformat_minor": 1
}
