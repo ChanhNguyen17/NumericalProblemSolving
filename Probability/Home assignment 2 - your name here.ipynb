{
 "cells": [
  {
   "cell_type": "markdown",
   "metadata": {},
   "source": [
    "# Home assignment 2 - Your name here\n",
    "Probability and Statistics   \n",
    "CC BY-NC-SA, Sakari Lukkarinen   \n",
    "Helsinki Metropolia University of Applied Sciences"
   ]
  },
  {
   "cell_type": "code",
   "execution_count": 1,
   "metadata": {
    "collapsed": false
   },
   "outputs": [
    {
     "name": "stdout",
     "output_type": "stream",
     "text": [
      "Populating the interactive namespace from numpy and matplotlib\n"
     ]
    }
   ],
   "source": [
    "%pylab inline\n",
    "import numpy.random as random\n",
    "import scipy.stats as stats\n",
    "import pandas as pd"
   ]
  },
  {
   "cell_type": "markdown",
   "metadata": {},
   "source": [
    "## Reliability analysis\n",
    "\n",
    "The goal of this home assignment is to get familiar with reliability analysis of electronic devices. Common way to define the reliability of electronic devices is to measure the [Mean Time Before Failure (MTBF)](https://en.wikipedia.org/wiki/Mean_time_between_failures), which typically follows [the exponential distribution](https://en.wikipedia.org/wiki/Exponential_distribution).\n",
    "\n",
    "<img src=\"https://upload.wikimedia.org/wikipedia/commons/thumb/e/ec/Exponential_pdf.svg/488px-Exponential_pdf.svg.png\" alt=\"Probability density functions for exponential distributions for different expected values ($\\lambda$)\" style=\"Height:200px\">\n",
    "*<center>Figure 1: Probability density functions for exponential distributions.</center>*\n",
    "\n",
    "\n",
    "You can simulate the MTBF by generating random numbers from exponential distribution. For more details how to do that, see for example: [scipy.stats.expon](https://docs.scipy.org/doc/scipy/reference/generated/scipy.stats.expon.html).\n",
    "\n",
    "A real life example data for MTBF analysis can found from Lumio's pages. In [the MTBF report](http://lumio.com/outgoing/Documentation/Certification_Regulation/MTBF_Report.pdf) they have theoretically analyzed the MTBF of their [two sensor optical touch system](http://www.lumio.com/Products/optical-touch.html).\n",
    "\n",
    "Based on the report a sample MTBF data was generated. The data file contains 10,000 rows and 7 columns. You can read the data into Notebook with the following command."
   ]
  },
  {
   "cell_type": "code",
   "execution_count": 4,
   "metadata": {
    "collapsed": false
   },
   "outputs": [
    {
     "data": {
      "text/html": [
       "<div>\n",
       "<table border=\"1\" class=\"dataframe\">\n",
       "  <thead>\n",
       "    <tr style=\"text-align: right;\">\n",
       "      <th></th>\n",
       "      <th>Unnamed: 0</th>\n",
       "      <th>Bar1</th>\n",
       "      <th>Bar2</th>\n",
       "      <th>Bar3</th>\n",
       "      <th>Ledwire</th>\n",
       "      <th>Other</th>\n",
       "      <th>PCB</th>\n",
       "      <th>Sensor1</th>\n",
       "      <th>Sensor2</th>\n",
       "    </tr>\n",
       "  </thead>\n",
       "  <tbody>\n",
       "    <tr>\n",
       "      <th>0</th>\n",
       "      <td>0</td>\n",
       "      <td>47738</td>\n",
       "      <td>16661</td>\n",
       "      <td>89340</td>\n",
       "      <td>35536256</td>\n",
       "      <td>1733151</td>\n",
       "      <td>5089363</td>\n",
       "      <td>118013</td>\n",
       "      <td>706649</td>\n",
       "    </tr>\n",
       "    <tr>\n",
       "      <th>1</th>\n",
       "      <td>1</td>\n",
       "      <td>25224</td>\n",
       "      <td>461960</td>\n",
       "      <td>207892</td>\n",
       "      <td>1288040</td>\n",
       "      <td>602050</td>\n",
       "      <td>6380622</td>\n",
       "      <td>135817</td>\n",
       "      <td>156081</td>\n",
       "    </tr>\n",
       "    <tr>\n",
       "      <th>2</th>\n",
       "      <td>2</td>\n",
       "      <td>264358</td>\n",
       "      <td>78382</td>\n",
       "      <td>34696</td>\n",
       "      <td>1965911</td>\n",
       "      <td>111334</td>\n",
       "      <td>711417</td>\n",
       "      <td>200020</td>\n",
       "      <td>258389</td>\n",
       "    </tr>\n",
       "    <tr>\n",
       "      <th>3</th>\n",
       "      <td>3</td>\n",
       "      <td>173766</td>\n",
       "      <td>60687</td>\n",
       "      <td>19159</td>\n",
       "      <td>5399647</td>\n",
       "      <td>653105</td>\n",
       "      <td>9282464</td>\n",
       "      <td>561615</td>\n",
       "      <td>309686</td>\n",
       "    </tr>\n",
       "    <tr>\n",
       "      <th>4</th>\n",
       "      <td>4</td>\n",
       "      <td>136754</td>\n",
       "      <td>236812</td>\n",
       "      <td>9762</td>\n",
       "      <td>24376764</td>\n",
       "      <td>2499409</td>\n",
       "      <td>265387</td>\n",
       "      <td>700599</td>\n",
       "      <td>496351</td>\n",
       "    </tr>\n",
       "  </tbody>\n",
       "</table>\n",
       "</div>"
      ],
      "text/plain": [
       "   Unnamed: 0    Bar1    Bar2    Bar3   Ledwire    Other      PCB  Sensor1  \\\n",
       "0           0   47738   16661   89340  35536256  1733151  5089363   118013   \n",
       "1           1   25224  461960  207892   1288040   602050  6380622   135817   \n",
       "2           2  264358   78382   34696   1965911   111334   711417   200020   \n",
       "3           3  173766   60687   19159   5399647   653105  9282464   561615   \n",
       "4           4  136754  236812    9762  24376764  2499409   265387   700599   \n",
       "\n",
       "   Sensor2  \n",
       "0   706649  \n",
       "1   156081  \n",
       "2   258389  \n",
       "3   309686  \n",
       "4   496351  "
      ]
     },
     "execution_count": 4,
     "metadata": {},
     "output_type": "execute_result"
    }
   ],
   "source": [
    "df = pd.read_csv('http://users.metropolia.fi/~tommiluk/Notebooks/Statistics/lumio.csv')\n",
    "df.head()"
   ]
  },
  {
   "cell_type": "markdown",
   "metadata": {},
   "source": [
    "### To do\n",
    "\n",
    "1. Draw histograms and calculate the basic descriptive statistics for each component.\n",
    "2. Using `numpy.random.choice` select randomly only 100 samples from each column and calculate the sample mean, standard deviation and standard error for each column.\n",
    "3. Based on the sample mean and standard error calculated in previous task, estimate what is the 95 % confidence interval for the mean MTBF for each component.\n",
    "4. Estimate what is the mean MTBF of the whole system. We assume that if any of the components fails, then the whole system fails. You can model this situation by finding the minimum value for each row of the table and then by making the histogram for the minimum values and calculating the descriptive statistics."
   ]
  },
  {
   "cell_type": "code",
   "execution_count": null,
   "metadata": {
    "collapsed": true
   },
   "outputs": [],
   "source": []
  }
 ],
 "metadata": {
  "kernelspec": {
   "display_name": "Python [Root]",
   "language": "python",
   "name": "Python [Root]"
  },
  "language_info": {
   "codemirror_mode": {
    "name": "ipython",
    "version": 3
   },
   "file_extension": ".py",
   "mimetype": "text/x-python",
   "name": "python",
   "nbconvert_exporter": "python",
   "pygments_lexer": "ipython3",
   "version": "3.5.2"
  }
 },
 "nbformat": 4,
 "nbformat_minor": 0
}
