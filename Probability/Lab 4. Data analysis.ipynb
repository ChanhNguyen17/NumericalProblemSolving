{
 "cells": [
  {
   "cell_type": "markdown",
   "metadata": {},
   "source": [
    "# Lab 4 - Data analysis\n",
    "Probability and Statistics, Spring 2017   \n",
    "CC-BY-SA, Sakari Lukkarinen   \n",
    "Helsinki Metropolia University of Applied Sciences      \n",
    "Adapted from: OpenIntro Statistics, [www.openintro.org](http://www.openintro.org)   "
   ]
  },
  {
   "cell_type": "markdown",
   "metadata": {},
   "source": [
    "## Introduction\n",
    "\n",
    "In this laboratory exercise we get familiar with common statistical data analysis tools. We use Python's Pandas package which is designed to work with relational and labeled data easy. More information about the pandas package can be read from its [documentation pages](http://pandas.pydata.org/pandas-docs/stable/?v=20170424134716). \n",
    "\n",
    "We start by importing the most common libraries `numpy`, `matplotlib` and `pandas`."
   ]
  },
  {
   "cell_type": "code",
   "execution_count": 1,
   "metadata": {
    "collapsed": false
   },
   "outputs": [
    {
     "name": "stdout",
     "output_type": "stream",
     "text": [
      "Populating the interactive namespace from numpy and matplotlib\n"
     ]
    }
   ],
   "source": [
    "# Import libraries needed\n",
    "%pylab inline\n",
    "import pandas as pd"
   ]
  },
  {
   "cell_type": "markdown",
   "metadata": {},
   "source": [
    "## Example of basic data analysis"
   ]
  },
  {
   "cell_type": "markdown",
   "metadata": {},
   "source": [
    "Our first example data contains body girth measurements and skeletal diameter measurements, as well as age, weight, height and gender, given for 507 physically active individuals - 247 men and 260 women. These data can be used to practice data analysis. Such analyses range from simple descriptive displays to more complicated multivariate analyses such as multiple regression and discriminant analysis.\n",
    "\n",
    "Data Source: Heinz G, Peterson LJ, Johnson RW, Kerk CJ. 2003. Exploring Relationships in Body Dimensions. Journal of Statistics Education 11(2). For more information, see https://www.openintro.org/stat/data/?data=bdims"
   ]
  },
  {
   "cell_type": "markdown",
   "metadata": {},
   "source": [
    "Let's start by reading the data into Python and showing the first 5 rows of it."
   ]
  },
  {
   "cell_type": "code",
   "execution_count": 2,
   "metadata": {
    "collapsed": false
   },
   "outputs": [
    {
     "data": {
      "text/html": [
       "<div>\n",
       "<table border=\"1\" class=\"dataframe\">\n",
       "  <thead>\n",
       "    <tr style=\"text-align: right;\">\n",
       "      <th></th>\n",
       "      <th>bia.di</th>\n",
       "      <th>bii.di</th>\n",
       "      <th>bit.di</th>\n",
       "      <th>che.de</th>\n",
       "      <th>che.di</th>\n",
       "      <th>elb.di</th>\n",
       "      <th>wri.di</th>\n",
       "      <th>kne.di</th>\n",
       "      <th>ank.di</th>\n",
       "      <th>sho.gi</th>\n",
       "      <th>...</th>\n",
       "      <th>bic.gi</th>\n",
       "      <th>for.gi</th>\n",
       "      <th>kne.gi</th>\n",
       "      <th>cal.gi</th>\n",
       "      <th>ank.gi</th>\n",
       "      <th>wri.gi</th>\n",
       "      <th>age</th>\n",
       "      <th>wgt</th>\n",
       "      <th>hgt</th>\n",
       "      <th>sex</th>\n",
       "    </tr>\n",
       "  </thead>\n",
       "  <tbody>\n",
       "    <tr>\n",
       "      <th>0</th>\n",
       "      <td>42.9</td>\n",
       "      <td>26.0</td>\n",
       "      <td>31.5</td>\n",
       "      <td>17.7</td>\n",
       "      <td>28.0</td>\n",
       "      <td>13.1</td>\n",
       "      <td>10.4</td>\n",
       "      <td>18.8</td>\n",
       "      <td>14.1</td>\n",
       "      <td>106.2</td>\n",
       "      <td>...</td>\n",
       "      <td>32.5</td>\n",
       "      <td>26.0</td>\n",
       "      <td>34.5</td>\n",
       "      <td>36.5</td>\n",
       "      <td>23.5</td>\n",
       "      <td>16.5</td>\n",
       "      <td>21</td>\n",
       "      <td>65.6</td>\n",
       "      <td>174.0</td>\n",
       "      <td>1</td>\n",
       "    </tr>\n",
       "    <tr>\n",
       "      <th>1</th>\n",
       "      <td>43.7</td>\n",
       "      <td>28.5</td>\n",
       "      <td>33.5</td>\n",
       "      <td>16.9</td>\n",
       "      <td>30.8</td>\n",
       "      <td>14.0</td>\n",
       "      <td>11.8</td>\n",
       "      <td>20.6</td>\n",
       "      <td>15.1</td>\n",
       "      <td>110.5</td>\n",
       "      <td>...</td>\n",
       "      <td>34.4</td>\n",
       "      <td>28.0</td>\n",
       "      <td>36.5</td>\n",
       "      <td>37.5</td>\n",
       "      <td>24.5</td>\n",
       "      <td>17.0</td>\n",
       "      <td>23</td>\n",
       "      <td>71.8</td>\n",
       "      <td>175.3</td>\n",
       "      <td>1</td>\n",
       "    </tr>\n",
       "    <tr>\n",
       "      <th>2</th>\n",
       "      <td>40.1</td>\n",
       "      <td>28.2</td>\n",
       "      <td>33.3</td>\n",
       "      <td>20.9</td>\n",
       "      <td>31.7</td>\n",
       "      <td>13.9</td>\n",
       "      <td>10.9</td>\n",
       "      <td>19.7</td>\n",
       "      <td>14.1</td>\n",
       "      <td>115.1</td>\n",
       "      <td>...</td>\n",
       "      <td>33.4</td>\n",
       "      <td>28.8</td>\n",
       "      <td>37.0</td>\n",
       "      <td>37.3</td>\n",
       "      <td>21.9</td>\n",
       "      <td>16.9</td>\n",
       "      <td>28</td>\n",
       "      <td>80.7</td>\n",
       "      <td>193.5</td>\n",
       "      <td>1</td>\n",
       "    </tr>\n",
       "    <tr>\n",
       "      <th>3</th>\n",
       "      <td>44.3</td>\n",
       "      <td>29.9</td>\n",
       "      <td>34.0</td>\n",
       "      <td>18.4</td>\n",
       "      <td>28.2</td>\n",
       "      <td>13.9</td>\n",
       "      <td>11.2</td>\n",
       "      <td>20.9</td>\n",
       "      <td>15.0</td>\n",
       "      <td>104.5</td>\n",
       "      <td>...</td>\n",
       "      <td>31.0</td>\n",
       "      <td>26.2</td>\n",
       "      <td>37.0</td>\n",
       "      <td>34.8</td>\n",
       "      <td>23.0</td>\n",
       "      <td>16.6</td>\n",
       "      <td>23</td>\n",
       "      <td>72.6</td>\n",
       "      <td>186.5</td>\n",
       "      <td>1</td>\n",
       "    </tr>\n",
       "    <tr>\n",
       "      <th>4</th>\n",
       "      <td>42.5</td>\n",
       "      <td>29.9</td>\n",
       "      <td>34.0</td>\n",
       "      <td>21.5</td>\n",
       "      <td>29.4</td>\n",
       "      <td>15.2</td>\n",
       "      <td>11.6</td>\n",
       "      <td>20.7</td>\n",
       "      <td>14.9</td>\n",
       "      <td>107.5</td>\n",
       "      <td>...</td>\n",
       "      <td>32.0</td>\n",
       "      <td>28.4</td>\n",
       "      <td>37.7</td>\n",
       "      <td>38.6</td>\n",
       "      <td>24.4</td>\n",
       "      <td>18.0</td>\n",
       "      <td>22</td>\n",
       "      <td>78.8</td>\n",
       "      <td>187.2</td>\n",
       "      <td>1</td>\n",
       "    </tr>\n",
       "  </tbody>\n",
       "</table>\n",
       "<p>5 rows × 25 columns</p>\n",
       "</div>"
      ],
      "text/plain": [
       "   bia.di  bii.di  bit.di  che.de  che.di  elb.di  wri.di  kne.di  ank.di  \\\n",
       "0    42.9    26.0    31.5    17.7    28.0    13.1    10.4    18.8    14.1   \n",
       "1    43.7    28.5    33.5    16.9    30.8    14.0    11.8    20.6    15.1   \n",
       "2    40.1    28.2    33.3    20.9    31.7    13.9    10.9    19.7    14.1   \n",
       "3    44.3    29.9    34.0    18.4    28.2    13.9    11.2    20.9    15.0   \n",
       "4    42.5    29.9    34.0    21.5    29.4    15.2    11.6    20.7    14.9   \n",
       "\n",
       "   sho.gi ...   bic.gi  for.gi  kne.gi  cal.gi  ank.gi  wri.gi  age   wgt  \\\n",
       "0   106.2 ...     32.5    26.0    34.5    36.5    23.5    16.5   21  65.6   \n",
       "1   110.5 ...     34.4    28.0    36.5    37.5    24.5    17.0   23  71.8   \n",
       "2   115.1 ...     33.4    28.8    37.0    37.3    21.9    16.9   28  80.7   \n",
       "3   104.5 ...     31.0    26.2    37.0    34.8    23.0    16.6   23  72.6   \n",
       "4   107.5 ...     32.0    28.4    37.7    38.6    24.4    18.0   22  78.8   \n",
       "\n",
       "     hgt  sex  \n",
       "0  174.0    1  \n",
       "1  175.3    1  \n",
       "2  193.5    1  \n",
       "3  186.5    1  \n",
       "4  187.2    1  \n",
       "\n",
       "[5 rows x 25 columns]"
      ]
     },
     "execution_count": 2,
     "metadata": {},
     "output_type": "execute_result"
    }
   ],
   "source": [
    "# Read the example data into Python\n",
    "file = \"https://www.openintro.org/stat/data/bdims.csv\"\n",
    "sep = \",\"\n",
    "data = pd.read_csv(file, sep)\n",
    "data.head()"
   ]
  },
  {
   "cell_type": "markdown",
   "metadata": {},
   "source": [
    "Similar to `head()` check you can check with `tail()` function what are the last five rows in the data."
   ]
  },
  {
   "cell_type": "code",
   "execution_count": 3,
   "metadata": {
    "collapsed": false
   },
   "outputs": [
    {
     "data": {
      "text/html": [
       "<div>\n",
       "<table border=\"1\" class=\"dataframe\">\n",
       "  <thead>\n",
       "    <tr style=\"text-align: right;\">\n",
       "      <th></th>\n",
       "      <th>bia.di</th>\n",
       "      <th>bii.di</th>\n",
       "      <th>bit.di</th>\n",
       "      <th>che.de</th>\n",
       "      <th>che.di</th>\n",
       "      <th>elb.di</th>\n",
       "      <th>wri.di</th>\n",
       "      <th>kne.di</th>\n",
       "      <th>ank.di</th>\n",
       "      <th>sho.gi</th>\n",
       "      <th>...</th>\n",
       "      <th>bic.gi</th>\n",
       "      <th>for.gi</th>\n",
       "      <th>kne.gi</th>\n",
       "      <th>cal.gi</th>\n",
       "      <th>ank.gi</th>\n",
       "      <th>wri.gi</th>\n",
       "      <th>age</th>\n",
       "      <th>wgt</th>\n",
       "      <th>hgt</th>\n",
       "      <th>sex</th>\n",
       "    </tr>\n",
       "  </thead>\n",
       "  <tbody>\n",
       "    <tr>\n",
       "      <th>502</th>\n",
       "      <td>38.0</td>\n",
       "      <td>30.4</td>\n",
       "      <td>32.9</td>\n",
       "      <td>17.0</td>\n",
       "      <td>27.1</td>\n",
       "      <td>12.9</td>\n",
       "      <td>10.4</td>\n",
       "      <td>19.5</td>\n",
       "      <td>14.4</td>\n",
       "      <td>108.4</td>\n",
       "      <td>...</td>\n",
       "      <td>30.3</td>\n",
       "      <td>25.4</td>\n",
       "      <td>37.7</td>\n",
       "      <td>37.9</td>\n",
       "      <td>22.4</td>\n",
       "      <td>15.4</td>\n",
       "      <td>29</td>\n",
       "      <td>71.8</td>\n",
       "      <td>176.5</td>\n",
       "      <td>0</td>\n",
       "    </tr>\n",
       "    <tr>\n",
       "      <th>503</th>\n",
       "      <td>35.3</td>\n",
       "      <td>28.7</td>\n",
       "      <td>30.4</td>\n",
       "      <td>17.7</td>\n",
       "      <td>25.6</td>\n",
       "      <td>12.4</td>\n",
       "      <td>9.8</td>\n",
       "      <td>17.3</td>\n",
       "      <td>13.6</td>\n",
       "      <td>99.3</td>\n",
       "      <td>...</td>\n",
       "      <td>30.1</td>\n",
       "      <td>23.6</td>\n",
       "      <td>35.6</td>\n",
       "      <td>33.3</td>\n",
       "      <td>22.4</td>\n",
       "      <td>15.2</td>\n",
       "      <td>21</td>\n",
       "      <td>55.5</td>\n",
       "      <td>164.4</td>\n",
       "      <td>0</td>\n",
       "    </tr>\n",
       "    <tr>\n",
       "      <th>504</th>\n",
       "      <td>34.7</td>\n",
       "      <td>24.9</td>\n",
       "      <td>24.7</td>\n",
       "      <td>17.3</td>\n",
       "      <td>24.2</td>\n",
       "      <td>12.0</td>\n",
       "      <td>10.2</td>\n",
       "      <td>18.0</td>\n",
       "      <td>13.6</td>\n",
       "      <td>91.9</td>\n",
       "      <td>...</td>\n",
       "      <td>27.4</td>\n",
       "      <td>24.0</td>\n",
       "      <td>34.4</td>\n",
       "      <td>34.1</td>\n",
       "      <td>21.2</td>\n",
       "      <td>15.5</td>\n",
       "      <td>33</td>\n",
       "      <td>48.6</td>\n",
       "      <td>160.7</td>\n",
       "      <td>0</td>\n",
       "    </tr>\n",
       "    <tr>\n",
       "      <th>505</th>\n",
       "      <td>38.5</td>\n",
       "      <td>29.0</td>\n",
       "      <td>32.9</td>\n",
       "      <td>15.3</td>\n",
       "      <td>25.6</td>\n",
       "      <td>12.0</td>\n",
       "      <td>9.8</td>\n",
       "      <td>18.6</td>\n",
       "      <td>13.3</td>\n",
       "      <td>107.1</td>\n",
       "      <td>...</td>\n",
       "      <td>30.6</td>\n",
       "      <td>24.9</td>\n",
       "      <td>38.4</td>\n",
       "      <td>36.6</td>\n",
       "      <td>22.0</td>\n",
       "      <td>15.5</td>\n",
       "      <td>33</td>\n",
       "      <td>66.4</td>\n",
       "      <td>174.0</td>\n",
       "      <td>0</td>\n",
       "    </tr>\n",
       "    <tr>\n",
       "      <th>506</th>\n",
       "      <td>35.6</td>\n",
       "      <td>29.0</td>\n",
       "      <td>29.0</td>\n",
       "      <td>20.4</td>\n",
       "      <td>26.8</td>\n",
       "      <td>13.4</td>\n",
       "      <td>10.8</td>\n",
       "      <td>18.7</td>\n",
       "      <td>13.8</td>\n",
       "      <td>100.5</td>\n",
       "      <td>...</td>\n",
       "      <td>33.2</td>\n",
       "      <td>25.5</td>\n",
       "      <td>39.6</td>\n",
       "      <td>35.9</td>\n",
       "      <td>23.0</td>\n",
       "      <td>16.4</td>\n",
       "      <td>38</td>\n",
       "      <td>67.3</td>\n",
       "      <td>163.8</td>\n",
       "      <td>0</td>\n",
       "    </tr>\n",
       "  </tbody>\n",
       "</table>\n",
       "<p>5 rows × 25 columns</p>\n",
       "</div>"
      ],
      "text/plain": [
       "     bia.di  bii.di  bit.di  che.de  che.di  elb.di  wri.di  kne.di  ank.di  \\\n",
       "502    38.0    30.4    32.9    17.0    27.1    12.9    10.4    19.5    14.4   \n",
       "503    35.3    28.7    30.4    17.7    25.6    12.4     9.8    17.3    13.6   \n",
       "504    34.7    24.9    24.7    17.3    24.2    12.0    10.2    18.0    13.6   \n",
       "505    38.5    29.0    32.9    15.3    25.6    12.0     9.8    18.6    13.3   \n",
       "506    35.6    29.0    29.0    20.4    26.8    13.4    10.8    18.7    13.8   \n",
       "\n",
       "     sho.gi ...   bic.gi  for.gi  kne.gi  cal.gi  ank.gi  wri.gi  age   wgt  \\\n",
       "502   108.4 ...     30.3    25.4    37.7    37.9    22.4    15.4   29  71.8   \n",
       "503    99.3 ...     30.1    23.6    35.6    33.3    22.4    15.2   21  55.5   \n",
       "504    91.9 ...     27.4    24.0    34.4    34.1    21.2    15.5   33  48.6   \n",
       "505   107.1 ...     30.6    24.9    38.4    36.6    22.0    15.5   33  66.4   \n",
       "506   100.5 ...     33.2    25.5    39.6    35.9    23.0    16.4   38  67.3   \n",
       "\n",
       "       hgt  sex  \n",
       "502  176.5    0  \n",
       "503  164.4    0  \n",
       "504  160.7    0  \n",
       "505  174.0    0  \n",
       "506  163.8    0  \n",
       "\n",
       "[5 rows x 25 columns]"
      ]
     },
     "execution_count": 3,
     "metadata": {},
     "output_type": "execute_result"
    }
   ],
   "source": [
    "data.tail()"
   ]
  },
  {
   "cell_type": "markdown",
   "metadata": {},
   "source": [
    "To calculate the basic desrciptive statistics, like mean, standard deviation, minimum, maximum, and quartile percentiles, we can use pandas function [`describe`](http://pandas.pydata.org/pandas-docs/stable/generated/pandas.DataFrame.describe.html?highlight=describe#pandas.DataFrame.describe)."
   ]
  },
  {
   "cell_type": "code",
   "execution_count": 5,
   "metadata": {
    "collapsed": false,
    "scrolled": false
   },
   "outputs": [
    {
     "data": {
      "text/html": [
       "<div>\n",
       "<table border=\"1\" class=\"dataframe\">\n",
       "  <thead>\n",
       "    <tr style=\"text-align: right;\">\n",
       "      <th></th>\n",
       "      <th>bia.di</th>\n",
       "      <th>bii.di</th>\n",
       "      <th>bit.di</th>\n",
       "      <th>che.de</th>\n",
       "      <th>che.di</th>\n",
       "      <th>elb.di</th>\n",
       "      <th>wri.di</th>\n",
       "      <th>kne.di</th>\n",
       "      <th>ank.di</th>\n",
       "      <th>sho.gi</th>\n",
       "      <th>...</th>\n",
       "      <th>bic.gi</th>\n",
       "      <th>for.gi</th>\n",
       "      <th>kne.gi</th>\n",
       "      <th>cal.gi</th>\n",
       "      <th>ank.gi</th>\n",
       "      <th>wri.gi</th>\n",
       "      <th>age</th>\n",
       "      <th>wgt</th>\n",
       "      <th>hgt</th>\n",
       "      <th>sex</th>\n",
       "    </tr>\n",
       "  </thead>\n",
       "  <tbody>\n",
       "    <tr>\n",
       "      <th>count</th>\n",
       "      <td>507.000000</td>\n",
       "      <td>507.000000</td>\n",
       "      <td>507.000000</td>\n",
       "      <td>507.000000</td>\n",
       "      <td>507.000000</td>\n",
       "      <td>507.000000</td>\n",
       "      <td>507.000000</td>\n",
       "      <td>507.000000</td>\n",
       "      <td>507.000000</td>\n",
       "      <td>507.000000</td>\n",
       "      <td>...</td>\n",
       "      <td>507.000000</td>\n",
       "      <td>507.000000</td>\n",
       "      <td>507.000000</td>\n",
       "      <td>507.000000</td>\n",
       "      <td>507.000000</td>\n",
       "      <td>507.000000</td>\n",
       "      <td>507.000000</td>\n",
       "      <td>507.000000</td>\n",
       "      <td>507.000000</td>\n",
       "      <td>507.000000</td>\n",
       "    </tr>\n",
       "    <tr>\n",
       "      <th>mean</th>\n",
       "      <td>38.811440</td>\n",
       "      <td>27.829980</td>\n",
       "      <td>31.980473</td>\n",
       "      <td>19.226036</td>\n",
       "      <td>27.973767</td>\n",
       "      <td>13.385207</td>\n",
       "      <td>10.542604</td>\n",
       "      <td>18.810651</td>\n",
       "      <td>13.863314</td>\n",
       "      <td>108.195069</td>\n",
       "      <td>...</td>\n",
       "      <td>31.169625</td>\n",
       "      <td>25.942998</td>\n",
       "      <td>36.202959</td>\n",
       "      <td>36.078304</td>\n",
       "      <td>22.157396</td>\n",
       "      <td>16.097436</td>\n",
       "      <td>30.181460</td>\n",
       "      <td>69.147535</td>\n",
       "      <td>171.143787</td>\n",
       "      <td>0.487179</td>\n",
       "    </tr>\n",
       "    <tr>\n",
       "      <th>std</th>\n",
       "      <td>3.059132</td>\n",
       "      <td>2.206308</td>\n",
       "      <td>2.030916</td>\n",
       "      <td>2.515877</td>\n",
       "      <td>2.741650</td>\n",
       "      <td>1.352906</td>\n",
       "      <td>0.944361</td>\n",
       "      <td>1.347595</td>\n",
       "      <td>1.247351</td>\n",
       "      <td>10.374834</td>\n",
       "      <td>...</td>\n",
       "      <td>4.246941</td>\n",
       "      <td>2.830579</td>\n",
       "      <td>2.617570</td>\n",
       "      <td>2.847661</td>\n",
       "      <td>1.862337</td>\n",
       "      <td>1.380931</td>\n",
       "      <td>9.608472</td>\n",
       "      <td>13.345762</td>\n",
       "      <td>9.407205</td>\n",
       "      <td>0.500329</td>\n",
       "    </tr>\n",
       "    <tr>\n",
       "      <th>min</th>\n",
       "      <td>32.400000</td>\n",
       "      <td>18.700000</td>\n",
       "      <td>24.700000</td>\n",
       "      <td>14.300000</td>\n",
       "      <td>22.200000</td>\n",
       "      <td>9.900000</td>\n",
       "      <td>8.100000</td>\n",
       "      <td>15.700000</td>\n",
       "      <td>9.900000</td>\n",
       "      <td>85.900000</td>\n",
       "      <td>...</td>\n",
       "      <td>22.400000</td>\n",
       "      <td>19.600000</td>\n",
       "      <td>29.000000</td>\n",
       "      <td>28.400000</td>\n",
       "      <td>16.400000</td>\n",
       "      <td>13.000000</td>\n",
       "      <td>18.000000</td>\n",
       "      <td>42.000000</td>\n",
       "      <td>147.200000</td>\n",
       "      <td>0.000000</td>\n",
       "    </tr>\n",
       "    <tr>\n",
       "      <th>25%</th>\n",
       "      <td>36.200000</td>\n",
       "      <td>26.500000</td>\n",
       "      <td>30.600000</td>\n",
       "      <td>17.300000</td>\n",
       "      <td>25.650000</td>\n",
       "      <td>12.400000</td>\n",
       "      <td>9.800000</td>\n",
       "      <td>17.900000</td>\n",
       "      <td>13.000000</td>\n",
       "      <td>99.450000</td>\n",
       "      <td>...</td>\n",
       "      <td>27.600000</td>\n",
       "      <td>23.600000</td>\n",
       "      <td>34.400000</td>\n",
       "      <td>34.100000</td>\n",
       "      <td>21.000000</td>\n",
       "      <td>15.000000</td>\n",
       "      <td>23.000000</td>\n",
       "      <td>58.400000</td>\n",
       "      <td>163.800000</td>\n",
       "      <td>0.000000</td>\n",
       "    </tr>\n",
       "    <tr>\n",
       "      <th>50%</th>\n",
       "      <td>38.700000</td>\n",
       "      <td>28.000000</td>\n",
       "      <td>32.000000</td>\n",
       "      <td>19.000000</td>\n",
       "      <td>27.800000</td>\n",
       "      <td>13.300000</td>\n",
       "      <td>10.500000</td>\n",
       "      <td>18.700000</td>\n",
       "      <td>13.800000</td>\n",
       "      <td>108.200000</td>\n",
       "      <td>...</td>\n",
       "      <td>31.000000</td>\n",
       "      <td>25.800000</td>\n",
       "      <td>36.000000</td>\n",
       "      <td>36.000000</td>\n",
       "      <td>22.000000</td>\n",
       "      <td>16.100000</td>\n",
       "      <td>27.000000</td>\n",
       "      <td>68.200000</td>\n",
       "      <td>170.300000</td>\n",
       "      <td>0.000000</td>\n",
       "    </tr>\n",
       "    <tr>\n",
       "      <th>75%</th>\n",
       "      <td>41.150000</td>\n",
       "      <td>29.250000</td>\n",
       "      <td>33.350000</td>\n",
       "      <td>20.900000</td>\n",
       "      <td>29.950000</td>\n",
       "      <td>14.400000</td>\n",
       "      <td>11.200000</td>\n",
       "      <td>19.600000</td>\n",
       "      <td>14.800000</td>\n",
       "      <td>116.550000</td>\n",
       "      <td>...</td>\n",
       "      <td>34.450000</td>\n",
       "      <td>28.400000</td>\n",
       "      <td>37.950000</td>\n",
       "      <td>38.000000</td>\n",
       "      <td>23.300000</td>\n",
       "      <td>17.100000</td>\n",
       "      <td>36.000000</td>\n",
       "      <td>78.850000</td>\n",
       "      <td>177.800000</td>\n",
       "      <td>1.000000</td>\n",
       "    </tr>\n",
       "    <tr>\n",
       "      <th>max</th>\n",
       "      <td>47.400000</td>\n",
       "      <td>34.700000</td>\n",
       "      <td>38.000000</td>\n",
       "      <td>27.500000</td>\n",
       "      <td>35.600000</td>\n",
       "      <td>16.700000</td>\n",
       "      <td>13.300000</td>\n",
       "      <td>24.300000</td>\n",
       "      <td>17.200000</td>\n",
       "      <td>134.800000</td>\n",
       "      <td>...</td>\n",
       "      <td>42.400000</td>\n",
       "      <td>32.500000</td>\n",
       "      <td>49.000000</td>\n",
       "      <td>47.700000</td>\n",
       "      <td>29.300000</td>\n",
       "      <td>19.600000</td>\n",
       "      <td>67.000000</td>\n",
       "      <td>116.400000</td>\n",
       "      <td>198.100000</td>\n",
       "      <td>1.000000</td>\n",
       "    </tr>\n",
       "  </tbody>\n",
       "</table>\n",
       "<p>8 rows × 25 columns</p>\n",
       "</div>"
      ],
      "text/plain": [
       "           bia.di      bii.di      bit.di      che.de      che.di      elb.di  \\\n",
       "count  507.000000  507.000000  507.000000  507.000000  507.000000  507.000000   \n",
       "mean    38.811440   27.829980   31.980473   19.226036   27.973767   13.385207   \n",
       "std      3.059132    2.206308    2.030916    2.515877    2.741650    1.352906   \n",
       "min     32.400000   18.700000   24.700000   14.300000   22.200000    9.900000   \n",
       "25%     36.200000   26.500000   30.600000   17.300000   25.650000   12.400000   \n",
       "50%     38.700000   28.000000   32.000000   19.000000   27.800000   13.300000   \n",
       "75%     41.150000   29.250000   33.350000   20.900000   29.950000   14.400000   \n",
       "max     47.400000   34.700000   38.000000   27.500000   35.600000   16.700000   \n",
       "\n",
       "           wri.di      kne.di      ank.di      sho.gi     ...          bic.gi  \\\n",
       "count  507.000000  507.000000  507.000000  507.000000     ...      507.000000   \n",
       "mean    10.542604   18.810651   13.863314  108.195069     ...       31.169625   \n",
       "std      0.944361    1.347595    1.247351   10.374834     ...        4.246941   \n",
       "min      8.100000   15.700000    9.900000   85.900000     ...       22.400000   \n",
       "25%      9.800000   17.900000   13.000000   99.450000     ...       27.600000   \n",
       "50%     10.500000   18.700000   13.800000  108.200000     ...       31.000000   \n",
       "75%     11.200000   19.600000   14.800000  116.550000     ...       34.450000   \n",
       "max     13.300000   24.300000   17.200000  134.800000     ...       42.400000   \n",
       "\n",
       "           for.gi      kne.gi      cal.gi      ank.gi      wri.gi         age  \\\n",
       "count  507.000000  507.000000  507.000000  507.000000  507.000000  507.000000   \n",
       "mean    25.942998   36.202959   36.078304   22.157396   16.097436   30.181460   \n",
       "std      2.830579    2.617570    2.847661    1.862337    1.380931    9.608472   \n",
       "min     19.600000   29.000000   28.400000   16.400000   13.000000   18.000000   \n",
       "25%     23.600000   34.400000   34.100000   21.000000   15.000000   23.000000   \n",
       "50%     25.800000   36.000000   36.000000   22.000000   16.100000   27.000000   \n",
       "75%     28.400000   37.950000   38.000000   23.300000   17.100000   36.000000   \n",
       "max     32.500000   49.000000   47.700000   29.300000   19.600000   67.000000   \n",
       "\n",
       "              wgt         hgt         sex  \n",
       "count  507.000000  507.000000  507.000000  \n",
       "mean    69.147535  171.143787    0.487179  \n",
       "std     13.345762    9.407205    0.500329  \n",
       "min     42.000000  147.200000    0.000000  \n",
       "25%     58.400000  163.800000    0.000000  \n",
       "50%     68.200000  170.300000    0.000000  \n",
       "75%     78.850000  177.800000    1.000000  \n",
       "max    116.400000  198.100000    1.000000  \n",
       "\n",
       "[8 rows x 25 columns]"
      ]
     },
     "execution_count": 5,
     "metadata": {},
     "output_type": "execute_result"
    }
   ],
   "source": [
    "data.describe()"
   ]
  },
  {
   "cell_type": "markdown",
   "metadata": {},
   "source": [
    "If we want to study only one variable, we select that from the data table, like `data[\"hgt\"]`. Calculate the basic descriptive statistics for \"hgt\" data."
   ]
  },
  {
   "cell_type": "code",
   "execution_count": 6,
   "metadata": {
    "collapsed": false,
    "scrolled": false
   },
   "outputs": [
    {
     "data": {
      "text/plain": [
       "0      174.0\n",
       "1      175.3\n",
       "2      193.5\n",
       "3      186.5\n",
       "4      187.2\n",
       "5      181.5\n",
       "6      184.0\n",
       "7      184.5\n",
       "8      175.0\n",
       "9      184.0\n",
       "10     180.0\n",
       "11     177.8\n",
       "12     192.0\n",
       "13     176.0\n",
       "14     174.0\n",
       "15     184.0\n",
       "16     192.7\n",
       "17     171.5\n",
       "18     173.0\n",
       "19     176.0\n",
       "20     176.0\n",
       "21     180.5\n",
       "22     172.7\n",
       "23     176.0\n",
       "24     173.5\n",
       "25     178.0\n",
       "26     180.3\n",
       "27     180.3\n",
       "28     164.5\n",
       "29     173.0\n",
       "       ...  \n",
       "477    167.6\n",
       "478    167.6\n",
       "479    167.6\n",
       "480    154.9\n",
       "481    162.6\n",
       "482    175.3\n",
       "483    171.4\n",
       "484    157.5\n",
       "485    165.1\n",
       "486    160.0\n",
       "487    174.0\n",
       "488    162.6\n",
       "489    174.0\n",
       "490    162.6\n",
       "491    161.3\n",
       "492    156.2\n",
       "493    149.9\n",
       "494    169.5\n",
       "495    160.0\n",
       "496    175.3\n",
       "497    169.5\n",
       "498    160.0\n",
       "499    172.7\n",
       "500    162.6\n",
       "501    157.5\n",
       "502    176.5\n",
       "503    164.4\n",
       "504    160.7\n",
       "505    174.0\n",
       "506    163.8\n",
       "Name: hgt, dtype: float64"
      ]
     },
     "execution_count": 6,
     "metadata": {},
     "output_type": "execute_result"
    }
   ],
   "source": [
    "data[\"hgt\"]"
   ]
  },
  {
   "cell_type": "markdown",
   "metadata": {},
   "source": [
    "What if we want to see the histogram of a variable? Then we select that variable and add `.hist()` at the end. Calculate the histogram of the height data. Use bins size of 2.5 starting from 140 and ending to 200. Add also x- and y-labels to the graph."
   ]
  },
  {
   "cell_type": "code",
   "execution_count": 11,
   "metadata": {
    "collapsed": false
   },
   "outputs": [
    {
     "data": {
      "text/plain": [
       "<matplotlib.axes._subplots.AxesSubplot at 0x16617ced908>"
      ]
     },
     "execution_count": 11,
     "metadata": {},
     "output_type": "execute_result"
    },
    {
     "data": {
      "image/png": "[encoded data removed]",
      "text/plain": [
       "<matplotlib.figure.Figure at 0x166191a76d8>"
      ]
     },
     "metadata": {},
     "output_type": "display_data"
    }
   ],
   "source": [
    "data['hgt'].hist(bins=arange(140, 200, 2.5))"
   ]
  },
  {
   "cell_type": "markdown",
   "metadata": {},
   "source": [
    "### Exercise 1\n",
    "Now want to study men's and women's heights separately? We can use binary indexing for that. For examples `data[\"sex\"] == 0`, gives true value for all rows where `sex` is 0. Then `data[\"hgt\"][data[\"sex\"] == 0]` selects all the height of females from the data.\n",
    "\n",
    "Calculate the basic descriptive statistics of the height data separately both for males and females. Compare the results to each other.\n",
    "\n",
    "You might also want check from the [data description](https://www.openintro.org/stat/data/?data=bdims) what are the variables in the data."
   ]
  },
  {
   "cell_type": "code",
   "execution_count": 24,
   "metadata": {
    "collapsed": false
   },
   "outputs": [
    {
     "name": "stdout",
     "output_type": "stream",
     "text": [
      "------- Female height -------\n",
      "count    260.000000\n",
      "mean     164.872308\n",
      "std        6.544602\n",
      "min      147.200000\n",
      "25%      160.000000\n",
      "50%      164.500000\n",
      "75%      169.500000\n",
      "max      182.900000\n",
      "Name: hgt, dtype: float64\n",
      "\n",
      "------- Male height -------\n",
      "count    247.000000\n",
      "mean     177.745344\n",
      "std        7.183629\n",
      "min      157.200000\n",
      "25%      172.900000\n",
      "50%      177.800000\n",
      "75%      182.650000\n",
      "max      198.100000\n",
      "Name: hgt, dtype: float64\n"
     ]
    }
   ],
   "source": [
    "femaleHgt = data[\"hgt\"][data[\"sex\"] == 0]\n",
    "maleHgt = data[\"hgt\"][data[\"sex\"] == 1]\n",
    "\n",
    "print(\"------- Female height -------\")\n",
    "print(femaleHgt.describe())\n",
    "print(\"\\n------- Male height -------\")\n",
    "print(maleHgt.describe())"
   ]
  },
  {
   "cell_type": "markdown",
   "metadata": {},
   "source": [
    "### Exercise 2\n",
    "\n",
    "Make a histogram of the males' and females' heights. Draw them into the same graph. Define the bins properly and use the same bins for both histograms. Compare the histograms. Can the difference in the mean height also seen in the histograms?"
   ]
  },
  {
   "cell_type": "code",
   "execution_count": 39,
   "metadata": {
    "collapsed": false
   },
   "outputs": [
    {
     "data": {
      "text/plain": [
       "<matplotlib.axes._subplots.AxesSubplot at 0x166195750b8>"
      ]
     },
     "execution_count": 39,
     "metadata": {},
     "output_type": "execute_result"
    },
    {
     "data": {
      "image/png": "[encoded data removed]",
      "text/plain": [
       "<matplotlib.figure.Figure at 0x16617c1d940>"
      ]
     },
     "metadata": {},
     "output_type": "display_data"
    }
   ],
   "source": [
    "femaleHgt.hist(alpha = 0.5)\n",
    "maleHgt.hist(alpha = 0.5)"
   ]
  },
  {
   "cell_type": "markdown",
   "metadata": {},
   "source": [
    "### Exercise 3\n",
    "\n",
    "Do the same analysis as in previous exercises (1 and 2), but now for the weight variable. How does weight behave?"
   ]
  },
  {
   "cell_type": "code",
   "execution_count": 38,
   "metadata": {
    "collapsed": false
   },
   "outputs": [
    {
     "name": "stdout",
     "output_type": "stream",
     "text": [
      "------- Female weight -------\n",
      "count    260.000000\n",
      "mean      60.600385\n",
      "std        9.615699\n",
      "min       42.000000\n",
      "25%       54.500000\n",
      "50%       59.000000\n",
      "75%       65.600000\n",
      "max      105.200000\n",
      "Name: wgt, dtype: float64\n",
      "\n",
      "------- Male weight -------\n",
      "count    247.000000\n",
      "mean      78.144534\n",
      "std       10.512890\n",
      "min       53.900000\n",
      "25%       70.950000\n",
      "50%       77.300000\n",
      "75%       85.500000\n",
      "max      116.400000\n",
      "Name: wgt, dtype: float64\n"
     ]
    },
    {
     "data": {
      "text/plain": [
       "<matplotlib.axes._subplots.AxesSubplot at 0x166178c47f0>"
      ]
     },
     "execution_count": 38,
     "metadata": {},
     "output_type": "execute_result"
    },
    {
     "data": {
      "image/png": "[encoded data removed]",
      "text/plain": [
       "<matplotlib.figure.Figure at 0x16617a5cf60>"
      ]
     },
     "metadata": {},
     "output_type": "display_data"
    }
   ],
   "source": [
    "femaleWgt = data[\"wgt\"][data[\"sex\"] == 0]\n",
    "maleWgt = data[\"wgt\"][data[\"sex\"] == 1]\n",
    "\n",
    "print(\"------- Female weight -------\")\n",
    "print(femaleWgt.describe())\n",
    "print(\"\\n------- Male weight -------\")\n",
    "print(maleWgt.describe())\n",
    "\n",
    "femaleWgt.hist(alpha = 0.5)\n",
    "maleWgt.hist(alpha = 0.5)"
   ]
  },
  {
   "cell_type": "markdown",
   "metadata": {},
   "source": [
    "## Comparing data to normal distribution\n",
    "\n"
   ]
  },
  {
   "cell_type": "markdown",
   "metadata": {},
   "source": [
    "The histograms of height and weight look much like the bell shaped normal distribution curve. Let's draw the normal distribution curve here."
   ]
  },
  {
   "cell_type": "code",
   "execution_count": 33,
   "metadata": {
    "collapsed": false
   },
   "outputs": [
    {
     "data": {
      "image/png": "[encoded data removed]",
      "text/plain": [
       "<matplotlib.figure.Figure at 0x16618e6edd8>"
      ]
     },
     "metadata": {},
     "output_type": "display_data"
    }
   ],
   "source": [
    "# Use scipy.stats normal distribution\n",
    "from scipy.stats import norm\n",
    "\n",
    "# Create a normal distribution with default values loc = 1.0, and scale = 1.0\n",
    "rv = norm()\n",
    "\n",
    "# Create x-axis\n",
    "x = arange(-4, 4, 0.01)\n",
    "\n",
    "# Draw the probability density function (pdf)\n",
    "plot(x, rv.pdf(x))\n",
    "title('Normal distribution')\n",
    "xlabel('x')\n",
    "ylabel('Probability')\n",
    "grid();"
   ]
  },
  {
   "cell_type": "markdown",
   "metadata": {},
   "source": [
    "What if we generate random numbers from normal distribution? How does the histogram look like? Let's use same amount of data as in our example data."
   ]
  },
  {
   "cell_type": "code",
   "execution_count": 34,
   "metadata": {
    "collapsed": false
   },
   "outputs": [
    {
     "data": {
      "image/png": "[encoded data removed]",
      "text/plain": [
       "<matplotlib.figure.Figure at 0x16618ec1da0>"
      ]
     },
     "metadata": {},
     "output_type": "display_data"
    }
   ],
   "source": [
    "xrnd = rv.rvs(size = 260)\n",
    "hist(xrnd, bins = arange(-4, 4, 0.25))\n",
    "title('Distribution of random numbers')\n",
    "xlabel('x')\n",
    "ylabel('Count (#)')\n",
    "grid()"
   ]
  },
  {
   "cell_type": "markdown",
   "metadata": {},
   "source": [
    "The only problem here is that the mean and standard deviation don't match to the data. Let's use the mean and standard deviation from the data."
   ]
  },
  {
   "cell_type": "code",
   "execution_count": 35,
   "metadata": {
    "collapsed": false
   },
   "outputs": [
    {
     "name": "stdout",
     "output_type": "stream",
     "text": [
      "Mean:  60.6\n",
      "Standard deviation: 9.6\n"
     ]
    }
   ],
   "source": [
    "# Select the weight data for females\n",
    "w = data.wgt[data.sex == 0]\n",
    "\n",
    "# Calculate mean and standard deviation\n",
    "m = w.mean()\n",
    "sd = w.std()\n",
    "print(\"Mean: \", around(m, 1))\n",
    "print(\"Standard deviation:\", around(sd, 1))"
   ]
  },
  {
   "cell_type": "markdown",
   "metadata": {},
   "source": [
    "Next we generate random numbers using these values."
   ]
  },
  {
   "cell_type": "code",
   "execution_count": 36,
   "metadata": {
    "collapsed": false
   },
   "outputs": [
    {
     "data": {
      "image/png": "[encoded data removed]",
      "text/plain": [
       "<matplotlib.figure.Figure at 0x16619091898>"
      ]
     },
     "metadata": {},
     "output_type": "display_data"
    }
   ],
   "source": [
    "rv = norm(loc = 60.6, scale = 9.6)\n",
    "xrnd = rv.rvs(size = 260)\n",
    "hist(xrnd, bins = arange(35, 130, 2), alpha = 0.5)\n",
    "grid()"
   ]
  },
  {
   "cell_type": "markdown",
   "metadata": {},
   "source": [
    "Let's compare that to the real data."
   ]
  },
  {
   "cell_type": "code",
   "execution_count": 43,
   "metadata": {
    "collapsed": false
   },
   "outputs": [
    {
     "data": {
      "image/png": "[encoded data removed]",
      "text/plain": [
       "<matplotlib.figure.Figure at 0x16619811da0>"
      ]
     },
     "metadata": {},
     "output_type": "display_data"
    }
   ],
   "source": [
    "hist(w, bins = arange(35, 120, 2), alpha = 0.5, label = \"data\")\n",
    "hist(xrnd, bins = arange(35, 120, 2), alpha = 0.5, label = \"random\")\n",
    "xlabel('Weight (kg)')\n",
    "ylabel('Frequency (#)')\n",
    "legend()\n",
    "grid()"
   ]
  },
  {
   "cell_type": "markdown",
   "metadata": {},
   "source": [
    "They are rather close to each other. Next we compare the normed histogram of the original data to the theoretical curve."
   ]
  },
  {
   "cell_type": "code",
   "execution_count": 44,
   "metadata": {
    "collapsed": false
   },
   "outputs": [
    {
     "data": {
      "image/png": "[encoded data removed]",
      "text/plain": [
       "<matplotlib.figure.Figure at 0x1661979e550>"
      ]
     },
     "metadata": {},
     "output_type": "display_data"
    }
   ],
   "source": [
    "hist(w, bins = arange(35, 130, 2), alpha = 0.5, normed = True, label = \"data\")\n",
    "x = arange(20, 120, 0.1)\n",
    "plot(x, rv.pdf(x), lw = 2, label = \"theoretical\")\n",
    "xlabel('Weight (kg)')\n",
    "ylabel('Probability')\n",
    "legend()\n",
    "grid()"
   ]
  },
  {
   "cell_type": "markdown",
   "metadata": {},
   "source": [
    "It looks like the data is asymmetric, and the weight is more on the right side. Can we somehow show that numerically? \n",
    "\n",
    "Yes, the measure is called [skewness](https://en.wikipedia.org/wiki/Skewness). It measures the asymmetry of the distribution about its mean value. If the value is negative, the tail is longer in the left-side. If the value is positive, the tail is longer on right-side. In case the value is 0, the distribution is perfectly symmetric.\n",
    "\n",
    "<img src=\"https://upload.wikimedia.org/wikipedia/commons/thumb/f/f8/Negative_and_positive_skew_diagrams_%28English%29.svg/892px-Negative_and_positive_skew_diagrams_%28English%29.svg.png\" alt=\"Skewness\" style=\"Height:200px\">\n",
    "\n"
   ]
  },
  {
   "cell_type": "markdown",
   "metadata": {},
   "source": [
    "You can calculate the skewness by function `.skew()` in pandas. Try that here now and check whether the weight data is positively or negatively skewed."
   ]
  },
  {
   "cell_type": "code",
   "execution_count": 46,
   "metadata": {
    "collapsed": false
   },
   "outputs": [
    {
     "data": {
      "text/plain": [
       "1.1483866709595556"
      ]
     },
     "execution_count": 46,
     "metadata": {},
     "output_type": "execute_result"
    }
   ],
   "source": [
    "w.skew()"
   ]
  },
  {
   "cell_type": "markdown",
   "metadata": {},
   "source": [
    "### Exercise 4 \n",
    "\n",
    "Compare the height data to the normal distribution. How close are they each other? Test both for the whole height data, and then separately for female and male heights.\n",
    "\n",
    "Calculate also the skewness for each of the cases. What do you observe?"
   ]
  },
  {
   "cell_type": "code",
   "execution_count": null,
   "metadata": {
    "collapsed": false
   },
   "outputs": [],
   "source": []
  },
  {
   "cell_type": "markdown",
   "metadata": {},
   "source": [
    "## Confidence intervals"
   ]
  },
  {
   "cell_type": "markdown",
   "metadata": {},
   "source": [
    "When we calculate the mean from the data, how certain are we that the mean value represents the whole population? For example, in this data, we have measurements for 506 persons. Can say anything certain about the mean height of whole population?\n",
    "\n",
    "The traditional way is to calculate the standard error for the mean using the sample standard deviation. The standard error is calculated by formula \n",
    "\n",
    "$$SE = \\frac{\\sigma}{\\sqrt{n}}$$\n",
    "\n",
    "where \n",
    "\n",
    "*  $\\sigma$ is the sample standard deviation and \n",
    "* $n$ is the sample size.\n",
    "\n",
    "If we want to be 95% certain (=confidence level) that our calculated mean is correct we calculate the confidence interval for the population mean. The 95 % confidence interval for the population mean is:\n",
    "$$\\mu = \\bar{x} \\pm 1.96\\cdot SE$$\n",
    "\n",
    "where\n",
    "\n",
    "* $\\mu$ is the population mean\n",
    "* $\\bar{x}$ is the sample mean\n",
    "* $1.96$ is the multiplier for 95 % confidence level\n",
    "* $SE$ is the standard error"
   ]
  },
  {
   "cell_type": "markdown",
   "metadata": {
    "collapsed": false,
    "scrolled": true
   },
   "source": [
    "### Exercise 5\n",
    "\n",
    "Review how to use `choice()` function from `numpy.random` package. Choose randomly 10 samples from the height data. Calculate the sample mean, the sample standard deviation, the standard error, and the confidence interval for the population mean.\n",
    "\n",
    "Compare these values to the sample mean, standard deviation, the standard error, and the confidence interval calculated from all samples available. How do they differ?"
   ]
  },
  {
   "cell_type": "code",
   "execution_count": 1,
   "metadata": {
    "collapsed": true
   },
   "outputs": [],
   "source": [
    "from numpy.random import choice\n",
    "\n",
    "\n"
   ]
  },
  {
   "cell_type": "markdown",
   "metadata": {},
   "source": [
    "### Exercise 6 (Bonus)\n",
    "\n",
    "Make a scatter-plot of the height vs. weight. Study from [introduction to linear regression](https://github.com/justmarkham/DAT4/blob/master/notebooks/08_linear_regression.ipynb) how to fit a linear model between two variables. Based on that draw the best linear model that between the height and weight of this data."
   ]
  },
  {
   "cell_type": "code",
   "execution_count": null,
   "metadata": {
    "collapsed": true
   },
   "outputs": [],
   "source": [
    "\n",
    "\n"
   ]
  }
 ],
 "metadata": {
  "kernelspec": {
   "display_name": "Python [default]",
   "language": "python",
   "name": "python3"
  },
  "language_info": {
   "codemirror_mode": {
    "name": "ipython",
    "version": 3
   },
   "file_extension": ".py",
   "mimetype": "text/x-python",
   "name": "python",
   "nbconvert_exporter": "python",
   "pygments_lexer": "ipython3",
   "version": "3.5.2"
  }
 },
 "nbformat": 4,
 "nbformat_minor": 0
}
