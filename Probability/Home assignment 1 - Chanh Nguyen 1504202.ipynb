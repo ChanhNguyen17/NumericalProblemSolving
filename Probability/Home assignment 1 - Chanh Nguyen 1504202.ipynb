{
 "cells": [
  {
   "cell_type": "markdown",
   "metadata": {},
   "source": [
    "# Home assignment 1 - Chanh Nguyen 1504202\n",
    "Probability and Statistics   \n",
    "CC BY-NC-SA, Sakari Lukkarinen   \n",
    "Helsinki Metropolia University of Applied Sciences"
   ]
  },
  {
   "cell_type": "code",
   "execution_count": 37,
   "metadata": {
    "collapsed": false
   },
   "outputs": [
    {
     "name": "stdout",
     "output_type": "stream",
     "text": [
      "Populating the interactive namespace from numpy and matplotlib\n"
     ]
    }
   ],
   "source": [
    "%pylab inline\n",
    "from numpy.random import randint"
   ]
  },
  {
   "cell_type": "markdown",
   "metadata": {},
   "source": [
    "## Theoretical values"
   ]
  },
  {
   "cell_type": "markdown",
   "metadata": {},
   "source": [
    "The goal is to compute the probability that at least two people in the room have the same birthday. Let's denote that $P(A)$. However, it is much easier to calculate the probability, that no two persons have the same birthday, e.g. $P(A')$. As these two probabilities are mutually exclusive, we can write $P(A) = 1- P(A')$.\n",
    "\n",
    "$P(A')$ can be calculated iteratively:\n",
    "$$P(A') = \\frac{365}{365} \\times \\frac{364}{365} \\times \\frac{363}{365} \\times ... \\frac{365 - N + 1}{365}$$\n",
    "\n",
    "where $N$ is the number of persons in the same room. \n",
    "\n",
    "First write a code that iteratively calculates the propabilities of $P(A')$ and stores the results into an array `P2`"
   ]
  },
  {
   "cell_type": "code",
   "execution_count": 38,
   "metadata": {
    "collapsed": false
   },
   "outputs": [],
   "source": [
    "# The probability P(A) complement\n",
    "def pAc(N):\n",
    "    # Check conditions\n",
    "    if N <= 1:\n",
    "        return 1\n",
    "    if N >365:\n",
    "        return 0\n",
    "    \n",
    "    # Forloop multiplication\n",
    "    result = 1\n",
    "    for n in range(2, N+1):\n",
    "        result *= (366-n)/365\n",
    "    return result"
   ]
  },
  {
   "cell_type": "code",
   "execution_count": 39,
   "metadata": {
    "collapsed": false
   },
   "outputs": [
    {
     "data": {
      "text/plain": [
       "array([  1.00000000e+000,   1.00000000e+000,   9.97260274e-001,\n",
       "         9.91795834e-001,   9.83644088e-001,   9.72864426e-001,\n",
       "         9.59537516e-001,   9.43764297e-001,   9.25664708e-001,\n",
       "         9.05376166e-001,   8.83051822e-001,   8.58858622e-001,\n",
       "         8.32975211e-001,   8.05589725e-001,   7.76897488e-001,\n",
       "         7.47098680e-001,   7.16395995e-001,   6.84992335e-001,\n",
       "         6.53088582e-001,   6.20881474e-001,   5.88561616e-001,\n",
       "         5.56311665e-001,   5.24304692e-001,   4.92702766e-001,\n",
       "         4.61655742e-001,   4.31300296e-001,   4.01759180e-001,\n",
       "         3.73140718e-001,   3.45538528e-001,   3.19031463e-001,\n",
       "         2.93683757e-001,   2.69545366e-001,   2.46652472e-001,\n",
       "         2.25028146e-001,   2.04683135e-001,   1.85616761e-001,\n",
       "         1.67817894e-001,   1.51265992e-001,   1.35932179e-001,\n",
       "         1.21780336e-001,   1.08768190e-001,   9.68483885e-002,\n",
       "         8.59695284e-002,   7.60771443e-002,   6.71146314e-002,\n",
       "         5.90241005e-002,   5.17471566e-002,   4.52255972e-002,\n",
       "         3.94020271e-002,   3.42203907e-002,   2.96264204e-002,\n",
       "         2.55680067e-002,   2.19954907e-002,   1.88618865e-002,\n",
       "         1.61230372e-002,   1.37377112e-002,   1.16676451e-002,\n",
       "         9.87754066e-003,   8.33502061e-003,   7.01055158e-003,\n",
       "         5.87733913e-003,   4.91120119e-003,   4.09042510e-003,\n",
       "         3.39561317e-003,   2.80952103e-003,   2.31689269e-003,\n",
       "         1.90429536e-003,   1.55995702e-003,   1.27360875e-003,\n",
       "         1.03633369e-003,   8.40424035e-004,   6.79246823e-004,\n",
       "         5.47119359e-004,   4.39194444e-004,   3.51355555e-004,\n",
       "         2.80121826e-004,   2.22562547e-004,   1.76220756e-004,\n",
       "         1.39045419e-004,   1.09331603e-004,   8.56680507e-005,\n",
       "         6.68914916e-005,   5.20470784e-005,   4.03543101e-005,\n",
       "         3.11778506e-005,   2.40026740e-005,   1.84130102e-005,\n",
       "         1.40746023e-005,   1.07198341e-005,   8.13532614e-006,\n",
       "         6.15164388e-006,   4.63480018e-006,   3.47927466e-006,\n",
       "         2.60230680e-006,   1.93925328e-006,   1.43982915e-006,\n",
       "         1.06507910e-006,   7.84948705e-007,   5.76345899e-007,\n",
       "         4.21600972e-007,   3.07248928e-007,   2.23071139e-007,\n",
       "         1.61344605e-007,   1.16256524e-007,   8.34498881e-008,\n",
       "         5.96723858e-008,   4.25063570e-008,   3.01620451e-008,\n",
       "         2.13200209e-008,   1.50116312e-008,   1.05287057e-008,\n",
       "         7.35567110e-009,   5.11874099e-009,   3.54805882e-009,\n",
       "         2.44961869e-009,   1.68453231e-009,   1.15378925e-009,\n",
       "         7.87105544e-010,   5.34800479e-010,   3.61906078e-010,\n",
       "         2.43914781e-010,   1.63723620e-010,   1.09448119e-010,\n",
       "         7.28654598e-011,   4.83107980e-011,   3.18983625e-011,\n",
       "         2.09742658e-011,   1.37338343e-011,   8.95521250e-012,\n",
       "         5.81475442e-012,   3.75967683e-012,   2.42061385e-012,\n",
       "         1.55184559e-012,   9.90630199e-013,   6.29660839e-013,\n",
       "         3.98497682e-013,   2.51108128e-013,   1.57544552e-013,\n",
       "         9.84113912e-014,   6.12037967e-014,   3.78960495e-014,\n",
       "         2.33605784e-014,   1.43363550e-014,   8.75892373e-015,\n",
       "         5.32734539e-015,   3.22559817e-015,   1.94419616e-015,\n",
       "         1.16651769e-015,   6.96714678e-016,   4.14211192e-016,\n",
       "         2.45122240e-016,   1.44387073e-016,   8.46543385e-017,\n",
       "         4.94010249e-017,   2.86931980e-017,   1.65870268e-017,\n",
       "         9.54322090e-018,   5.46447444e-018,   3.11400187e-018,\n",
       "         1.76602298e-018,   9.96714338e-019,   5.59798464e-019,\n",
       "         3.12873662e-019,   1.74009187e-019,   9.63009750e-020,\n",
       "         5.30314958e-020,   2.90583539e-020,   1.58427737e-020,\n",
       "         8.59416220e-021,   4.63849302e-021,   2.49080721e-021,\n",
       "         1.33070522e-021,   7.07278940e-022,   3.73985851e-022,\n",
       "         1.96726804e-022,   1.02944711e-022,   5.35876577e-023,\n",
       "         2.77481296e-023,   1.42921873e-023,   7.32229871e-024,\n",
       "         3.73136318e-024,   1.89123887e-024,   9.53391650e-025,\n",
       "         4.78001841e-025,   2.38346123e-025,   1.18193557e-025,\n",
       "         5.82872336e-026,   2.85846981e-026,   1.39399350e-026,\n",
       "         6.75991368e-027,   3.25957481e-027,   1.56280984e-027,\n",
       "         7.45010719e-028,   3.53114670e-028,   1.66399242e-028,\n",
       "         7.79569050e-029,   3.63086955e-029,   1.68114234e-029,\n",
       "         7.73786062e-030,   3.54033623e-030,   1.61012552e-030,\n",
       "         7.27864960e-031,   3.27040695e-031,   1.46048310e-031,\n",
       "         6.48214418e-032,   2.85924716e-032,   1.25336862e-032,\n",
       "         5.45987973e-033,   2.36345479e-033,   1.01660932e-033,\n",
       "         4.34496038e-034,   1.84512016e-034,   7.78489054e-035,\n",
       "         3.26325549e-035,   1.35894475e-035,   5.62193582e-036,\n",
       "         2.31038458e-036,   9.43143295e-037,   3.82425227e-037,\n",
       "         1.54017831e-037,   6.16071324e-038,   2.44740663e-038,\n",
       "         9.65552205e-039,   3.78284836e-039,   1.47168347e-039,\n",
       "         5.68513342e-040,   2.18059912e-040,   8.30419938e-041,\n",
       "         3.13966990e-041,   1.17845144e-041,   4.39094236e-042,\n",
       "         1.62404718e-042,   5.96225538e-043,   2.17254785e-043,\n",
       "         7.85688538e-044,   2.81986845e-044,   1.00433671e-044,\n",
       "         3.54957357e-045,   1.24478197e-045,   4.33115917e-046,\n",
       "         1.49513988e-046,   5.12034205e-047,   1.73951346e-047,\n",
       "         5.86192208e-048,   1.95932738e-048,   6.49530446e-049,\n",
       "         2.13544256e-049,   6.96212781e-050,   2.25077009e-050,\n",
       "         7.21479726e-051,   2.29292187e-051,   7.22427439e-052,\n",
       "         2.25634871e-052,   6.98540834e-053,   2.14346777e-053,\n",
       "         6.51849101e-054,   1.96447674e-054,   5.86651959e-055,\n",
       "         1.73584689e-055,   5.08864705e-056,   1.47779887e-056,\n",
       "         4.25120223e-057,   1.21130146e-057,   3.41819315e-058,\n",
       "         9.55221100e-059,   2.64321455e-059,   7.24168370e-060,\n",
       "         1.96418270e-060,   5.27369603e-061,   1.40150278e-061,\n",
       "         3.68614430e-062,   9.59407420e-063,   2.47080267e-063,\n",
       "         6.29546982e-064,   1.58680335e-064,   3.95613986e-065,\n",
       "         9.75486541e-066,   2.37858362e-066,   5.73466736e-067,\n",
       "         1.36689332e-067,   3.22062535e-068,   7.50008642e-069,\n",
       "         1.72604729e-069,   3.92498424e-070,   8.81777282e-071,\n",
       "         1.95682082e-071,   4.28892234e-072,   9.28287300e-073,\n",
       "         1.98373724e-073,   4.18487035e-074,   8.71370265e-075,\n",
       "         1.79048685e-075,   3.63002813e-076,   7.26005625e-077,\n",
       "         1.43212069e-077,   2.78576900e-078,   5.34257069e-079,\n",
       "         1.00996542e-079,   1.88157941e-080,   3.45385810e-081,\n",
       "         6.24533245e-082,   1.11218249e-082,   1.95012820e-083,\n",
       "         3.36597471e-084,   5.71754608e-085,   9.55535098e-086,\n",
       "         1.57074263e-086,   2.53900863e-087,   4.03458905e-088,\n",
       "         6.30059113e-089,   9.66666036e-090,   1.45662005e-090,\n",
       "         2.15499953e-091,   3.12917740e-092,   4.45800616e-093,\n",
       "         6.22899491e-094,   8.53286974e-095,   1.14550854e-095,\n",
       "         1.50642219e-096,   1.93977652e-097,   2.44464986e-098,\n",
       "         3.01395188e-099,   3.63325706e-100,   4.28027544e-101,\n",
       "         4.92524846e-102,   5.53247087e-103,   6.06298177e-104,\n",
       "         6.47825450e-105,   6.74448413e-106,   6.83687433e-107,\n",
       "         6.74321852e-108,   6.46609995e-109,   6.02321639e-110,\n",
       "         5.44564769e-111,   4.77426647e-112,   4.05485645e-113,\n",
       "         3.33275873e-114,   2.64794529e-115,   2.03130050e-116,\n",
       "         1.50260585e-117,   1.07034937e-118,   7.33116008e-120,\n",
       "         4.82048882e-121,   3.03756830e-122,   1.83086308e-123,\n",
       "         1.05337328e-124,   5.77190839e-126,   3.00455505e-127,\n",
       "         1.48169838e-128,   6.90106095e-130,   3.02512261e-131,\n",
       "         1.24320107e-132,   4.76844247e-134,   1.69834937e-135,\n",
       "         5.58361438e-137,   1.68273310e-138,   4.61022767e-140,\n",
       "         1.13676847e-141,   2.49154732e-143,   4.77830994e-145,\n",
       "         7.85475606e-147,   1.07599398e-148,   1.17917149e-150,\n",
       "         9.69182043e-153,   5.31058654e-155,   1.45495522e-157])"
      ]
     },
     "execution_count": 39,
     "metadata": {},
     "output_type": "execute_result"
    }
   ],
   "source": [
    "# Store the result of p(A) complement\n",
    "# Initialize array zeros\n",
    "P2 = zeros(366)\n",
    "\n",
    "# Use forloop to store results\n",
    "for i in range(366):\n",
    "    P2[i] = pAc(i)\n",
    "P2"
   ]
  },
  {
   "cell_type": "markdown",
   "metadata": {},
   "source": [
    "Now you can calculate the $P(A)$ values by using the mutually exclusive rule. Store the results into an array `P1`."
   ]
  },
  {
   "cell_type": "code",
   "execution_count": 40,
   "metadata": {
    "collapsed": false
   },
   "outputs": [
    {
     "data": {
      "text/plain": [
       "array([ 0.        ,  0.        ,  0.00273973,  0.00820417,  0.01635591,\n",
       "        0.02713557,  0.04046248,  0.0562357 ,  0.07433529,  0.09462383,\n",
       "        0.11694818,  0.14114138,  0.16702479,  0.19441028,  0.22310251,\n",
       "        0.25290132,  0.28360401,  0.31500767,  0.34691142,  0.37911853,\n",
       "        0.41143838,  0.44368834,  0.47569531,  0.50729723,  0.53834426,\n",
       "        0.5686997 ,  0.59824082,  0.62685928,  0.65446147,  0.68096854,\n",
       "        0.70631624,  0.73045463,  0.75334753,  0.77497185,  0.79531686,\n",
       "        0.81438324,  0.83218211,  0.84873401,  0.86406782,  0.87821966,\n",
       "        0.89123181,  0.90315161,  0.91403047,  0.92392286,  0.93288537,\n",
       "        0.9409759 ,  0.94825284,  0.9547744 ,  0.96059797,  0.96577961,\n",
       "        0.97037358,  0.97443199,  0.97800451,  0.98113811,  0.98387696,\n",
       "        0.98626229,  0.98833235,  0.99012246,  0.99166498,  0.99298945,\n",
       "        0.99412266,  0.9950888 ,  0.99590957,  0.99660439,  0.99719048,\n",
       "        0.99768311,  0.9980957 ,  0.99844004,  0.99872639,  0.99896367,\n",
       "        0.99915958,  0.99932075,  0.99945288,  0.99956081,  0.99964864,\n",
       "        0.99971988,  0.99977744,  0.99982378,  0.99986095,  0.99989067,\n",
       "        0.99991433,  0.99993311,  0.99994795,  0.99995965,  0.99996882,\n",
       "        0.999976  ,  0.99998159,  0.99998593,  0.99998928,  0.99999186,\n",
       "        0.99999385,  0.99999537,  0.99999652,  0.9999974 ,  0.99999806,\n",
       "        0.99999856,  0.99999893,  0.99999922,  0.99999942,  0.99999958,\n",
       "        0.99999969,  0.99999978,  0.99999984,  0.99999988,  0.99999992,\n",
       "        0.99999994,  0.99999996,  0.99999997,  0.99999998,  0.99999998,\n",
       "        0.99999999,  0.99999999,  0.99999999,  1.        ,  1.        ,\n",
       "        1.        ,  1.        ,  1.        ,  1.        ,  1.        ,\n",
       "        1.        ,  1.        ,  1.        ,  1.        ,  1.        ,\n",
       "        1.        ,  1.        ,  1.        ,  1.        ,  1.        ,\n",
       "        1.        ,  1.        ,  1.        ,  1.        ,  1.        ,\n",
       "        1.        ,  1.        ,  1.        ,  1.        ,  1.        ,\n",
       "        1.        ,  1.        ,  1.        ,  1.        ,  1.        ,\n",
       "        1.        ,  1.        ,  1.        ,  1.        ,  1.        ,\n",
       "        1.        ,  1.        ,  1.        ,  1.        ,  1.        ,\n",
       "        1.        ,  1.        ,  1.        ,  1.        ,  1.        ,\n",
       "        1.        ,  1.        ,  1.        ,  1.        ,  1.        ,\n",
       "        1.        ,  1.        ,  1.        ,  1.        ,  1.        ,\n",
       "        1.        ,  1.        ,  1.        ,  1.        ,  1.        ,\n",
       "        1.        ,  1.        ,  1.        ,  1.        ,  1.        ,\n",
       "        1.        ,  1.        ,  1.        ,  1.        ,  1.        ,\n",
       "        1.        ,  1.        ,  1.        ,  1.        ,  1.        ,\n",
       "        1.        ,  1.        ,  1.        ,  1.        ,  1.        ,\n",
       "        1.        ,  1.        ,  1.        ,  1.        ,  1.        ,\n",
       "        1.        ,  1.        ,  1.        ,  1.        ,  1.        ,\n",
       "        1.        ,  1.        ,  1.        ,  1.        ,  1.        ,\n",
       "        1.        ,  1.        ,  1.        ,  1.        ,  1.        ,\n",
       "        1.        ,  1.        ,  1.        ,  1.        ,  1.        ,\n",
       "        1.        ,  1.        ,  1.        ,  1.        ,  1.        ,\n",
       "        1.        ,  1.        ,  1.        ,  1.        ,  1.        ,\n",
       "        1.        ,  1.        ,  1.        ,  1.        ,  1.        ,\n",
       "        1.        ,  1.        ,  1.        ,  1.        ,  1.        ,\n",
       "        1.        ,  1.        ,  1.        ,  1.        ,  1.        ,\n",
       "        1.        ,  1.        ,  1.        ,  1.        ,  1.        ,\n",
       "        1.        ,  1.        ,  1.        ,  1.        ,  1.        ,\n",
       "        1.        ,  1.        ,  1.        ,  1.        ,  1.        ,\n",
       "        1.        ,  1.        ,  1.        ,  1.        ,  1.        ,\n",
       "        1.        ,  1.        ,  1.        ,  1.        ,  1.        ,\n",
       "        1.        ,  1.        ,  1.        ,  1.        ,  1.        ,\n",
       "        1.        ,  1.        ,  1.        ,  1.        ,  1.        ,\n",
       "        1.        ,  1.        ,  1.        ,  1.        ,  1.        ,\n",
       "        1.        ,  1.        ,  1.        ,  1.        ,  1.        ,\n",
       "        1.        ,  1.        ,  1.        ,  1.        ,  1.        ,\n",
       "        1.        ,  1.        ,  1.        ,  1.        ,  1.        ,\n",
       "        1.        ,  1.        ,  1.        ,  1.        ,  1.        ,\n",
       "        1.        ,  1.        ,  1.        ,  1.        ,  1.        ,\n",
       "        1.        ,  1.        ,  1.        ,  1.        ,  1.        ,\n",
       "        1.        ,  1.        ,  1.        ,  1.        ,  1.        ,\n",
       "        1.        ,  1.        ,  1.        ,  1.        ,  1.        ,\n",
       "        1.        ,  1.        ,  1.        ,  1.        ,  1.        ,\n",
       "        1.        ,  1.        ,  1.        ,  1.        ,  1.        ,\n",
       "        1.        ,  1.        ,  1.        ,  1.        ,  1.        ,\n",
       "        1.        ,  1.        ,  1.        ,  1.        ,  1.        ,\n",
       "        1.        ,  1.        ,  1.        ,  1.        ,  1.        ,\n",
       "        1.        ,  1.        ,  1.        ,  1.        ,  1.        ,\n",
       "        1.        ,  1.        ,  1.        ,  1.        ,  1.        ,\n",
       "        1.        ,  1.        ,  1.        ,  1.        ,  1.        ,  1.        ])"
      ]
     },
     "execution_count": 40,
     "metadata": {},
     "output_type": "execute_result"
    }
   ],
   "source": [
    "P1 = 1-P2\n",
    "P1"
   ]
  },
  {
   "cell_type": "markdown",
   "metadata": {},
   "source": [
    "Lastly you can make a graphical plot of $P(A)$ (array `P1`) against the number of persons in the room and study how can you interpret the results."
   ]
  },
  {
   "cell_type": "code",
   "execution_count": 41,
   "metadata": {
    "collapsed": false
   },
   "outputs": [
    {
     "data": {
      "text/plain": [
       "0.50729723432398566"
      ]
     },
     "execution_count": 41,
     "metadata": {},
     "output_type": "execute_result"
    },
    {
     "data": {
      "image/png": "[encoded data removed]",
      "text/plain": [
       "<matplotlib.figure.Figure at 0x2690287fc18>"
      ]
     },
     "metadata": {},
     "output_type": "display_data"
    }
   ],
   "source": [
    "plot(P1)\n",
    "xlim(0, 100)\n",
    "grid()\n",
    "P1[23]"
   ]
  },
  {
   "cell_type": "markdown",
   "metadata": {},
   "source": [
    "Based on the graph, estimate how many persons are needed that the probability is 0.5 for that at least two persons have the same birthday."
   ]
  },
  {
   "cell_type": "raw",
   "metadata": {},
   "source": [
    "Your answer: 23 people needed"
   ]
  },
  {
   "cell_type": "markdown",
   "metadata": {},
   "source": [
    "## Using random values\n",
    "\n",
    "Next your task is to use random integers for the same task - calculating the probabilities of the birthday problem. \n",
    "\n",
    "You can use `numpy.random.randint()` function to generate random numbers between 1 and 365. Try that here."
   ]
  },
  {
   "cell_type": "code",
   "execution_count": 42,
   "metadata": {
    "collapsed": false
   },
   "outputs": [
    {
     "data": {
      "text/plain": [
       "array([213, 140, 252,  57, 345, 227, 276,   4, 192, 335])"
      ]
     },
     "execution_count": 42,
     "metadata": {},
     "output_type": "execute_result"
    }
   ],
   "source": [
    "random.randint(1,366,10)"
   ]
  },
  {
   "cell_type": "markdown",
   "metadata": {},
   "source": [
    "Then you can use [`numpy.unique()`](https://docs.scipy.org/doc/numpy/reference/generated/numpy.unique.html) function to find the unique values in an array. Create, for example, 20 random numbers between 1 and 365 and find how many unique values do you have in the array."
   ]
  },
  {
   "cell_type": "code",
   "execution_count": 43,
   "metadata": {
    "collapsed": false
   },
   "outputs": [
    {
     "data": {
      "text/plain": [
       "20"
      ]
     },
     "execution_count": 43,
     "metadata": {},
     "output_type": "execute_result"
    }
   ],
   "source": [
    "len(unique(random.randint(1,366,20)))"
   ]
  },
  {
   "cell_type": "markdown",
   "metadata": {},
   "source": [
    "If you compare the number of unique values to the number of total values in the array, you can create a test if all the numbers are unique. Write a code that makes that test and gives a result of either `True` or `False`. `True` means that all numbers were unique and `False` that some of the values were similar."
   ]
  },
  {
   "cell_type": "code",
   "execution_count": 44,
   "metadata": {
    "collapsed": false
   },
   "outputs": [
    {
     "data": {
      "text/plain": [
       "False"
      ]
     },
     "execution_count": 44,
     "metadata": {},
     "output_type": "execute_result"
    }
   ],
   "source": [
    "N = 20\n",
    "len(unique(random.randint(1,366,N))) == N"
   ]
  },
  {
   "cell_type": "markdown",
   "metadata": {},
   "source": [
    "Now write a code where you can change the number of persons within the same room. Use random integers to select a birthday for each person and test if all birthdays are unique or not. Write a loop that repeats that test several times and collect how many times the birthdays were unique."
   ]
  },
  {
   "cell_type": "code",
   "execution_count": 45,
   "metadata": {
    "collapsed": false
   },
   "outputs": [
    {
     "name": "stdout",
     "output_type": "stream",
     "text": [
      "False\n",
      "False\n",
      "True\n",
      "True\n",
      "False\n",
      "True\n",
      "False\n",
      "False\n",
      "True\n",
      "True\n"
     ]
    }
   ],
   "source": [
    "# Check if N people have unique birthdays\n",
    "def checkUnique(N):\n",
    "    return len(unique(random.randint(1,366,N))) == N\n",
    "\n",
    "for i in range(10):\n",
    "    print(checkUnique(20))"
   ]
  },
  {
   "cell_type": "markdown",
   "metadata": {},
   "source": [
    "Now it is time to combine all and write a Python code that by generating random integers several thousands of times and collecting the data for several numbers of persons, $N$, estimates the probability curve of $P(A)$. Store the results into a variable `P1_random`."
   ]
  },
  {
   "cell_type": "code",
   "execution_count": 46,
   "metadata": {
    "collapsed": false
   },
   "outputs": [
    {
     "data": {
      "text/plain": [
       "array([ 0.   ,  0.   ,  0.002,  0.01 ,  0.012,  0.012,  0.041,  0.04 ,\n",
       "        0.066,  0.087,  0.132,  0.128,  0.17 ,  0.173,  0.227,  0.248,\n",
       "        0.284,  0.322,  0.349,  0.375,  0.443,  0.441,  0.463,  0.505,\n",
       "        0.549,  0.573,  0.596,  0.626,  0.652,  0.667,  0.724,  0.744,\n",
       "        0.749,  0.778,  0.794,  0.82 ,  0.822,  0.847,  0.858,  0.885,\n",
       "        0.892,  0.915,  0.906,  0.9  ,  0.946,  0.936,  0.958,  0.962,\n",
       "        0.956,  0.961,  0.965,  0.977,  0.977,  0.983,  0.987,  0.985,\n",
       "        0.984,  0.991,  0.989,  0.99 ,  0.998,  0.996,  0.998,  0.997,\n",
       "        0.998,  0.998,  0.996,  0.998,  0.996,  0.999,  1.   ,  0.999,\n",
       "        1.   ,  1.   ,  1.   ,  1.   ,  1.   ,  1.   ,  1.   ,  1.   ,\n",
       "        1.   ,  0.999,  1.   ,  1.   ,  1.   ,  1.   ,  1.   ,  1.   ,\n",
       "        1.   ,  1.   ,  1.   ,  1.   ,  1.   ,  1.   ,  1.   ,  1.   ,\n",
       "        1.   ,  1.   ,  1.   ,  1.   ,  1.   ,  1.   ,  1.   ,  1.   ,\n",
       "        1.   ,  1.   ,  1.   ,  1.   ,  1.   ,  1.   ,  1.   ,  1.   ,\n",
       "        1.   ,  1.   ,  1.   ,  1.   ,  1.   ,  1.   ,  1.   ,  1.   ,\n",
       "        1.   ,  1.   ,  1.   ,  1.   ,  1.   ,  1.   ,  1.   ,  1.   ,\n",
       "        1.   ,  1.   ,  1.   ,  1.   ,  1.   ,  1.   ,  1.   ,  1.   ,\n",
       "        1.   ,  1.   ,  1.   ,  1.   ,  1.   ,  1.   ,  1.   ,  1.   ,\n",
       "        1.   ,  1.   ,  1.   ,  1.   ,  1.   ,  1.   ,  1.   ,  1.   ,\n",
       "        1.   ,  1.   ,  1.   ,  1.   ,  1.   ,  1.   ,  1.   ,  1.   ,\n",
       "        1.   ,  1.   ,  1.   ,  1.   ,  1.   ,  1.   ,  1.   ,  1.   ,\n",
       "        1.   ,  1.   ,  1.   ,  1.   ,  1.   ,  1.   ,  1.   ,  1.   ,\n",
       "        1.   ,  1.   ,  1.   ,  1.   ,  1.   ,  1.   ,  1.   ,  1.   ,\n",
       "        1.   ,  1.   ,  1.   ,  1.   ,  1.   ,  1.   ,  1.   ,  1.   ,\n",
       "        1.   ,  1.   ,  1.   ,  1.   ,  1.   ,  1.   ,  1.   ,  1.   ,\n",
       "        1.   ,  1.   ,  1.   ,  1.   ,  1.   ,  1.   ,  1.   ,  1.   ,\n",
       "        1.   ,  1.   ,  1.   ,  1.   ,  1.   ,  1.   ,  1.   ,  1.   ,\n",
       "        1.   ,  1.   ,  1.   ,  1.   ,  1.   ,  1.   ,  1.   ,  1.   ,\n",
       "        1.   ,  1.   ,  1.   ,  1.   ,  1.   ,  1.   ,  1.   ,  1.   ,\n",
       "        1.   ,  1.   ,  1.   ,  1.   ,  1.   ,  1.   ,  1.   ,  1.   ,\n",
       "        1.   ,  1.   ,  1.   ,  1.   ,  1.   ,  1.   ,  1.   ,  1.   ,\n",
       "        1.   ,  1.   ,  1.   ,  1.   ,  1.   ,  1.   ,  1.   ,  1.   ,\n",
       "        1.   ,  1.   ,  1.   ,  1.   ,  1.   ,  1.   ,  1.   ,  1.   ,\n",
       "        1.   ,  1.   ,  1.   ,  1.   ,  1.   ,  1.   ,  1.   ,  1.   ,\n",
       "        1.   ,  1.   ,  1.   ,  1.   ,  1.   ,  1.   ,  1.   ,  1.   ,\n",
       "        1.   ,  1.   ,  1.   ,  1.   ,  1.   ,  1.   ,  1.   ,  1.   ,\n",
       "        1.   ,  1.   ,  1.   ,  1.   ,  1.   ,  1.   ,  1.   ,  1.   ,\n",
       "        1.   ,  1.   ,  1.   ,  1.   ,  1.   ,  1.   ,  1.   ,  1.   ,\n",
       "        1.   ,  1.   ,  1.   ,  1.   ,  1.   ,  1.   ,  1.   ,  1.   ,\n",
       "        1.   ,  1.   ,  1.   ,  1.   ,  1.   ,  1.   ,  1.   ,  1.   ,\n",
       "        1.   ,  1.   ,  1.   ,  1.   ,  1.   ,  1.   ,  1.   ,  1.   ,\n",
       "        1.   ,  1.   ,  1.   ,  1.   ,  1.   ,  1.   ,  1.   ,  1.   ,\n",
       "        1.   ,  1.   ,  1.   ,  1.   ,  1.   ,  1.   ,  1.   ,  1.   ,\n",
       "        1.   ,  1.   ,  1.   ,  1.   ,  1.   ,  1.   ,  1.   ,  1.   ,\n",
       "        1.   ,  1.   ,  1.   ,  1.   ,  1.   ,  1.   ,  1.   ,  1.   ,\n",
       "        1.   ,  1.   ,  1.   ,  1.   ,  1.   ])"
      ]
     },
     "execution_count": 46,
     "metadata": {},
     "output_type": "execute_result"
    }
   ],
   "source": [
    "H = 1000\n",
    "P1_random = zeros(365)\n",
    "for k in range(H):\n",
    "    for i in range(365):\n",
    "        P1_random[i] += not checkUnique(i)\n",
    "P1_random /= H\n",
    "P1_random"
   ]
  },
  {
   "cell_type": "markdown",
   "metadata": {
    "collapsed": false
   },
   "source": [
    "## Comparison of the theoretical values to random simulation\n",
    "\n",
    "Lastly compare the results of the theoretical values (`P1`) to those you created by generating random numbers (`P1_random`). Create a graph where you draw both the theoretical probabilities and the values calculated by using random numbers for the birthday problem. How much is the difference between these two graphs?"
   ]
  },
  {
   "cell_type": "code",
   "execution_count": 47,
   "metadata": {
    "collapsed": false
   },
   "outputs": [
    {
     "data": {
      "image/png": "[encoded data removed]",
      "text/plain": [
       "<matplotlib.figure.Figure at 0x2690274de48>"
      ]
     },
     "metadata": {},
     "output_type": "display_data"
    }
   ],
   "source": [
    "plot(P1)\n",
    "plot(P1_random)\n",
    "xlim(0, 100)\n",
    "grid()"
   ]
  }
 ],
 "metadata": {
  "anaconda-cloud": {},
  "kernelspec": {
   "display_name": "Python [default]",
   "language": "python",
   "name": "python3"
  },
  "language_info": {
   "codemirror_mode": {
    "name": "ipython",
    "version": 3
   },
   "file_extension": ".py",
   "mimetype": "text/x-python",
   "name": "python",
   "nbconvert_exporter": "python",
   "pygments_lexer": "ipython3",
   "version": "3.5.2"
  }
 },
 "nbformat": 4,
 "nbformat_minor": 0
}
