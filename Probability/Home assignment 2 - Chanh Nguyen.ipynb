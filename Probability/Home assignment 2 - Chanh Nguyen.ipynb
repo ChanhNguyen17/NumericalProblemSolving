{
 "cells": [
  {
   "cell_type": "markdown",
   "metadata": {},
   "source": [
    "# Home assignment 2 - Chanh Nguyen 1504202\n",
    "Probability and Statistics   \n",
    "CC BY-NC-SA, Sakari Lukkarinen   \n",
    "Helsinki Metropolia University of Applied Sciences"
   ]
  },
  {
   "cell_type": "code",
   "execution_count": 144,
   "metadata": {
    "collapsed": false
   },
   "outputs": [
    {
     "name": "stdout",
     "output_type": "stream",
     "text": [
      "Populating the interactive namespace from numpy and matplotlib\n"
     ]
    }
   ],
   "source": [
    "%pylab inline\n",
    "import numpy.random as random\n",
    "import scipy.stats as stats\n",
    "import pandas as pd"
   ]
  },
  {
   "cell_type": "markdown",
   "metadata": {},
   "source": [
    "## Reliability analysis\n",
    "\n",
    "The goal of this home assignment is to get familiar with reliability analysis of electronic devices. Common way to define the reliability of electronic devices is to measure the [Mean Time Before Failure (MTBF)](https://en.wikipedia.org/wiki/Mean_time_between_failures), which typically follows [the exponential distribution](https://en.wikipedia.org/wiki/Exponential_distribution).\n",
    "\n",
    "<img src=\"https://upload.wikimedia.org/wikipedia/commons/thumb/e/ec/Exponential_pdf.svg/488px-Exponential_pdf.svg.png\" alt=\"Probability density functions for exponential distributions for different expected values ($\\lambda$)\" style=\"Height:200px\">\n",
    "*<center>Figure 1: Probability density functions for exponential distributions.</center>*\n",
    "\n",
    "\n",
    "You can simulate the MTBF by generating random numbers from exponential distribution. For more details how to do that, see for example: [scipy.stats.expon](https://docs.scipy.org/doc/scipy/reference/generated/scipy.stats.expon.html).\n",
    "\n",
    "A real life example data for MTBF analysis can found from Lumio's pages. In [the MTBF report](http://lumio.com/outgoing/Documentation/Certification_Regulation/MTBF_Report.pdf) they have theoretically analyzed the MTBF of their [two sensor optical touch system](http://www.lumio.com/Products/optical-touch.html).\n",
    "\n",
    "Based on the report a sample MTBF data was generated. The data file contains 10,000 rows and 7 columns. You can read the data into Notebook with the following command."
   ]
  },
  {
   "cell_type": "code",
   "execution_count": 134,
   "metadata": {
    "collapsed": false
   },
   "outputs": [
    {
     "data": {
      "text/html": [
       "<div>\n",
       "<table border=\"1\" class=\"dataframe\">\n",
       "  <thead>\n",
       "    <tr style=\"text-align: right;\">\n",
       "      <th></th>\n",
       "      <th>Unnamed: 0</th>\n",
       "      <th>Bar1</th>\n",
       "      <th>Bar2</th>\n",
       "      <th>Bar3</th>\n",
       "      <th>Ledwire</th>\n",
       "      <th>Other</th>\n",
       "      <th>PCB</th>\n",
       "      <th>Sensor1</th>\n",
       "      <th>Sensor2</th>\n",
       "    </tr>\n",
       "  </thead>\n",
       "  <tbody>\n",
       "    <tr>\n",
       "      <th>0</th>\n",
       "      <td>0</td>\n",
       "      <td>47738</td>\n",
       "      <td>16661</td>\n",
       "      <td>89340</td>\n",
       "      <td>35536256</td>\n",
       "      <td>1733151</td>\n",
       "      <td>5089363</td>\n",
       "      <td>118013</td>\n",
       "      <td>706649</td>\n",
       "    </tr>\n",
       "    <tr>\n",
       "      <th>1</th>\n",
       "      <td>1</td>\n",
       "      <td>25224</td>\n",
       "      <td>461960</td>\n",
       "      <td>207892</td>\n",
       "      <td>1288040</td>\n",
       "      <td>602050</td>\n",
       "      <td>6380622</td>\n",
       "      <td>135817</td>\n",
       "      <td>156081</td>\n",
       "    </tr>\n",
       "    <tr>\n",
       "      <th>2</th>\n",
       "      <td>2</td>\n",
       "      <td>264358</td>\n",
       "      <td>78382</td>\n",
       "      <td>34696</td>\n",
       "      <td>1965911</td>\n",
       "      <td>111334</td>\n",
       "      <td>711417</td>\n",
       "      <td>200020</td>\n",
       "      <td>258389</td>\n",
       "    </tr>\n",
       "    <tr>\n",
       "      <th>3</th>\n",
       "      <td>3</td>\n",
       "      <td>173766</td>\n",
       "      <td>60687</td>\n",
       "      <td>19159</td>\n",
       "      <td>5399647</td>\n",
       "      <td>653105</td>\n",
       "      <td>9282464</td>\n",
       "      <td>561615</td>\n",
       "      <td>309686</td>\n",
       "    </tr>\n",
       "    <tr>\n",
       "      <th>4</th>\n",
       "      <td>4</td>\n",
       "      <td>136754</td>\n",
       "      <td>236812</td>\n",
       "      <td>9762</td>\n",
       "      <td>24376764</td>\n",
       "      <td>2499409</td>\n",
       "      <td>265387</td>\n",
       "      <td>700599</td>\n",
       "      <td>496351</td>\n",
       "    </tr>\n",
       "  </tbody>\n",
       "</table>\n",
       "</div>"
      ],
      "text/plain": [
       "   Unnamed: 0    Bar1    Bar2    Bar3   Ledwire    Other      PCB  Sensor1  \\\n",
       "0           0   47738   16661   89340  35536256  1733151  5089363   118013   \n",
       "1           1   25224  461960  207892   1288040   602050  6380622   135817   \n",
       "2           2  264358   78382   34696   1965911   111334   711417   200020   \n",
       "3           3  173766   60687   19159   5399647   653105  9282464   561615   \n",
       "4           4  136754  236812    9762  24376764  2499409   265387   700599   \n",
       "\n",
       "   Sensor2  \n",
       "0   706649  \n",
       "1   156081  \n",
       "2   258389  \n",
       "3   309686  \n",
       "4   496351  "
      ]
     },
     "execution_count": 134,
     "metadata": {},
     "output_type": "execute_result"
    }
   ],
   "source": [
    "df = pd.read_csv('http://users.metropolia.fi/~tommiluk/Notebooks/Statistics/lumio.csv')\n",
    "df.head()"
   ]
  },
  {
   "cell_type": "markdown",
   "metadata": {},
   "source": [
    "### To do\n",
    "\n",
    "1. Draw histograms and calculate the basic descriptive statistics for each component.\n",
    "2. Using `numpy.random.choice` select randomly only 100 samples from each column and calculate the sample mean, standard deviation and standard error for each column.\n",
    "3. Based on the sample mean and standard error calculated in previous task, estimate what is the 95 % confidence interval for the mean MTBF for each component.\n",
    "4. Estimate what is the mean MTBF of the whole system. We assume that if any of the components fails, then the whole system fails. You can model this situation by finding the minimum value for each row of the table and then by making the histogram for the minimum values and calculating the descriptive statistics."
   ]
  },
  {
   "cell_type": "markdown",
   "metadata": {},
   "source": [
    "###### 1.Draw histograms and calculate the basic descriptive statistics for each component."
   ]
  },
  {
   "cell_type": "code",
   "execution_count": 135,
   "metadata": {
    "collapsed": false,
    "scrolled": false
   },
   "outputs": [
    {
     "data": {
      "image/png": "[encoded data removed]",
      "text/plain": [
       "<matplotlib.figure.Figure at 0x1d34ab79470>"
      ]
     },
     "metadata": {},
     "output_type": "display_data"
    }
   ],
   "source": [
    "# Create a list of data components\n",
    "data = [None]*8\n",
    "data[0] = df['Bar1']\n",
    "data[1] = df['Bar2']\n",
    "data[2] = df['Bar3']\n",
    "data[3] = df['Ledwire']\n",
    "data[4] = df['Other']\n",
    "data[5] = df['PCB']\n",
    "data[6] = df['Sensor1']\n",
    "data[7] = df['Sensor2']\n",
    "\n",
    "fig,axes = plt.subplots(2,4,figsize=(17,6),sharey=True)\n",
    "c = 0\n",
    "for i in range(2):\n",
    "    for k in range(4):\n",
    "        axes[i][k].hist(data[c])\n",
    "        axes[i][k].grid()\n",
    "        c += 1"
   ]
  },
  {
   "cell_type": "code",
   "execution_count": 136,
   "metadata": {
    "collapsed": false
   },
   "outputs": [
    {
     "data": {
      "text/html": [
       "<div>\n",
       "<table border=\"1\" class=\"dataframe\">\n",
       "  <thead>\n",
       "    <tr style=\"text-align: right;\">\n",
       "      <th></th>\n",
       "      <th>Unnamed: 0</th>\n",
       "      <th>Bar1</th>\n",
       "      <th>Bar2</th>\n",
       "      <th>Bar3</th>\n",
       "      <th>Ledwire</th>\n",
       "      <th>Other</th>\n",
       "      <th>PCB</th>\n",
       "      <th>Sensor1</th>\n",
       "      <th>Sensor2</th>\n",
       "    </tr>\n",
       "  </thead>\n",
       "  <tbody>\n",
       "    <tr>\n",
       "      <th>count</th>\n",
       "      <td>10000.00000</td>\n",
       "      <td>1.000000e+04</td>\n",
       "      <td>1.000000e+04</td>\n",
       "      <td>1.000000e+04</td>\n",
       "      <td>1.000000e+04</td>\n",
       "      <td>1.000000e+04</td>\n",
       "      <td>1.000000e+04</td>\n",
       "      <td>1.000000e+04</td>\n",
       "      <td>1.000000e+04</td>\n",
       "    </tr>\n",
       "    <tr>\n",
       "      <th>mean</th>\n",
       "      <td>4999.50000</td>\n",
       "      <td>1.436702e+05</td>\n",
       "      <td>1.418828e+05</td>\n",
       "      <td>1.440420e+05</td>\n",
       "      <td>2.325788e+07</td>\n",
       "      <td>1.266864e+06</td>\n",
       "      <td>4.500215e+06</td>\n",
       "      <td>6.066229e+05</td>\n",
       "      <td>6.133862e+05</td>\n",
       "    </tr>\n",
       "    <tr>\n",
       "      <th>std</th>\n",
       "      <td>2886.89568</td>\n",
       "      <td>1.431291e+05</td>\n",
       "      <td>1.392456e+05</td>\n",
       "      <td>1.446179e+05</td>\n",
       "      <td>2.314970e+07</td>\n",
       "      <td>1.290932e+06</td>\n",
       "      <td>4.561019e+06</td>\n",
       "      <td>6.055939e+05</td>\n",
       "      <td>6.048200e+05</td>\n",
       "    </tr>\n",
       "    <tr>\n",
       "      <th>min</th>\n",
       "      <td>0.00000</td>\n",
       "      <td>9.000000e+00</td>\n",
       "      <td>5.000000e+00</td>\n",
       "      <td>3.000000e+00</td>\n",
       "      <td>3.474000e+03</td>\n",
       "      <td>1.730000e+02</td>\n",
       "      <td>2.510000e+02</td>\n",
       "      <td>0.000000e+00</td>\n",
       "      <td>1.600000e+01</td>\n",
       "    </tr>\n",
       "    <tr>\n",
       "      <th>25%</th>\n",
       "      <td>2499.75000</td>\n",
       "      <td>4.138550e+04</td>\n",
       "      <td>4.171975e+04</td>\n",
       "      <td>4.112525e+04</td>\n",
       "      <td>6.764800e+06</td>\n",
       "      <td>3.609638e+05</td>\n",
       "      <td>1.285868e+06</td>\n",
       "      <td>1.732325e+05</td>\n",
       "      <td>1.826025e+05</td>\n",
       "    </tr>\n",
       "    <tr>\n",
       "      <th>50%</th>\n",
       "      <td>4999.50000</td>\n",
       "      <td>9.897950e+04</td>\n",
       "      <td>1.001940e+05</td>\n",
       "      <td>9.949700e+04</td>\n",
       "      <td>1.616356e+07</td>\n",
       "      <td>8.595325e+05</td>\n",
       "      <td>3.112773e+06</td>\n",
       "      <td>4.207960e+05</td>\n",
       "      <td>4.242965e+05</td>\n",
       "    </tr>\n",
       "    <tr>\n",
       "      <th>75%</th>\n",
       "      <td>7499.25000</td>\n",
       "      <td>1.972270e+05</td>\n",
       "      <td>1.983455e+05</td>\n",
       "      <td>1.990285e+05</td>\n",
       "      <td>3.241773e+07</td>\n",
       "      <td>1.759768e+06</td>\n",
       "      <td>6.158641e+06</td>\n",
       "      <td>8.452835e+05</td>\n",
       "      <td>8.685908e+05</td>\n",
       "    </tr>\n",
       "    <tr>\n",
       "      <th>max</th>\n",
       "      <td>9999.00000</td>\n",
       "      <td>1.177700e+06</td>\n",
       "      <td>1.345937e+06</td>\n",
       "      <td>1.375031e+06</td>\n",
       "      <td>1.987486e+08</td>\n",
       "      <td>1.214497e+07</td>\n",
       "      <td>4.526654e+07</td>\n",
       "      <td>5.679563e+06</td>\n",
       "      <td>5.560738e+06</td>\n",
       "    </tr>\n",
       "  </tbody>\n",
       "</table>\n",
       "</div>"
      ],
      "text/plain": [
       "        Unnamed: 0          Bar1          Bar2          Bar3       Ledwire  \\\n",
       "count  10000.00000  1.000000e+04  1.000000e+04  1.000000e+04  1.000000e+04   \n",
       "mean    4999.50000  1.436702e+05  1.418828e+05  1.440420e+05  2.325788e+07   \n",
       "std     2886.89568  1.431291e+05  1.392456e+05  1.446179e+05  2.314970e+07   \n",
       "min        0.00000  9.000000e+00  5.000000e+00  3.000000e+00  3.474000e+03   \n",
       "25%     2499.75000  4.138550e+04  4.171975e+04  4.112525e+04  6.764800e+06   \n",
       "50%     4999.50000  9.897950e+04  1.001940e+05  9.949700e+04  1.616356e+07   \n",
       "75%     7499.25000  1.972270e+05  1.983455e+05  1.990285e+05  3.241773e+07   \n",
       "max     9999.00000  1.177700e+06  1.345937e+06  1.375031e+06  1.987486e+08   \n",
       "\n",
       "              Other           PCB       Sensor1       Sensor2  \n",
       "count  1.000000e+04  1.000000e+04  1.000000e+04  1.000000e+04  \n",
       "mean   1.266864e+06  4.500215e+06  6.066229e+05  6.133862e+05  \n",
       "std    1.290932e+06  4.561019e+06  6.055939e+05  6.048200e+05  \n",
       "min    1.730000e+02  2.510000e+02  0.000000e+00  1.600000e+01  \n",
       "25%    3.609638e+05  1.285868e+06  1.732325e+05  1.826025e+05  \n",
       "50%    8.595325e+05  3.112773e+06  4.207960e+05  4.242965e+05  \n",
       "75%    1.759768e+06  6.158641e+06  8.452835e+05  8.685908e+05  \n",
       "max    1.214497e+07  4.526654e+07  5.679563e+06  5.560738e+06  "
      ]
     },
     "execution_count": 136,
     "metadata": {},
     "output_type": "execute_result"
    }
   ],
   "source": [
    "df.describe()"
   ]
  },
  {
   "cell_type": "markdown",
   "metadata": {},
   "source": [
    "###### 2.Using numpy.random.choice select randomly only 100 samples from each column and calculate the sample mean, standard deviation and standard error for each column."
   ]
  },
  {
   "cell_type": "code",
   "execution_count": 137,
   "metadata": {
    "collapsed": false
   },
   "outputs": [
    {
     "name": "stdout",
     "output_type": "stream",
     "text": [
      "index | mean | standard deviation | standard error\n",
      "0 130133.89 127786.15014 12778.615014\n",
      "1 124219.65 99522.4205657 9952.24205657\n",
      "2 127353.13 115350.255071 11535.0255071\n",
      "3 20674674.07 18817328.2196 1881732.82196\n",
      "4 1333849.28 1507097.09424 150709.709424\n",
      "5 3992650.59 4196069.69961 419606.969961\n",
      "6 686991.98 649775.304146 64977.5304146\n",
      "7 827377.98 868096.097634 86809.6097634\n"
     ]
    }
   ],
   "source": [
    "dataSample = [None]*8\n",
    "dataSample_mean = [None]*8\n",
    "dataSample_std = [None]*8\n",
    "dataSample_se = [None]*8\n",
    "\n",
    "# Number of samples\n",
    "n = 100\n",
    "\n",
    "print('index | mean | standard deviation | standard error')\n",
    "\n",
    "for i in range(8):\n",
    "    dataSample[i] = random.choice(data[i], n)\n",
    "    dataSample_mean[i] = dataSample[i].mean()\n",
    "    dataSample_std[i] = dataSample[i].std()\n",
    "    dataSample_se[i] = dataSample_std[i]/sqrt(n)\n",
    "    \n",
    "    print(i, dataSample_mean[i], dataSample_std[i], dataSample_se[i])"
   ]
  },
  {
   "cell_type": "markdown",
   "metadata": {},
   "source": [
    "###### 3.Based on the sample mean and standard error calculated in previous task, estimate what is the 95 % confidence interval for the mean MTBF for each component."
   ]
  },
  {
   "cell_type": "code",
   "execution_count": 138,
   "metadata": {
    "collapsed": false
   },
   "outputs": [
    {
     "name": "stdout",
     "output_type": "stream",
     "text": [
      "index | lower bound | upper bound\n",
      "0 105087.804573 155179.975427\n",
      "1 104713.255569 143726.044431\n",
      "2 104744.480006 149961.779994\n",
      "3 16986477.7389 24362870.4011\n",
      "4 1038458.24953 1629240.31047\n",
      "5 3170220.92888 4815080.25112\n",
      "6 559636.020387 814347.939613\n",
      "7 657231.144864 997524.815136\n"
     ]
    }
   ],
   "source": [
    "print('index | lower bound | upper bound')\n",
    "for i in range(8):\n",
    "    print(i, dataSample_mean[i] - 1.96*dataSample_se[i], dataSample_mean[i] + 1.96*dataSample_se[i])"
   ]
  },
  {
   "cell_type": "markdown",
   "metadata": {},
   "source": [
    "###### 4.Estimate what is the mean MTBF of the whole system. We assume that if any of the components fails, then the whole system fails. You can model this situation by finding the minimum value for each row of the table and then by making the histogram for the minimum values and calculating the descriptive statistics."
   ]
  },
  {
   "cell_type": "code",
   "execution_count": 139,
   "metadata": {
    "collapsed": false,
    "scrolled": true
   },
   "outputs": [
    {
     "data": {
      "text/html": [
       "<div>\n",
       "<table border=\"1\" class=\"dataframe\">\n",
       "  <thead>\n",
       "    <tr style=\"text-align: right;\">\n",
       "      <th></th>\n",
       "      <th>Bar1</th>\n",
       "      <th>Bar2</th>\n",
       "      <th>Bar3</th>\n",
       "      <th>Ledwire</th>\n",
       "      <th>Other</th>\n",
       "      <th>PCB</th>\n",
       "      <th>Sensor1</th>\n",
       "      <th>Sensor2</th>\n",
       "    </tr>\n",
       "  </thead>\n",
       "  <tbody>\n",
       "    <tr>\n",
       "      <th>0</th>\n",
       "      <td>47738</td>\n",
       "      <td>16661</td>\n",
       "      <td>89340</td>\n",
       "      <td>35536256</td>\n",
       "      <td>1733151</td>\n",
       "      <td>5089363</td>\n",
       "      <td>118013</td>\n",
       "      <td>706649</td>\n",
       "    </tr>\n",
       "    <tr>\n",
       "      <th>1</th>\n",
       "      <td>25224</td>\n",
       "      <td>461960</td>\n",
       "      <td>207892</td>\n",
       "      <td>1288040</td>\n",
       "      <td>602050</td>\n",
       "      <td>6380622</td>\n",
       "      <td>135817</td>\n",
       "      <td>156081</td>\n",
       "    </tr>\n",
       "    <tr>\n",
       "      <th>2</th>\n",
       "      <td>264358</td>\n",
       "      <td>78382</td>\n",
       "      <td>34696</td>\n",
       "      <td>1965911</td>\n",
       "      <td>111334</td>\n",
       "      <td>711417</td>\n",
       "      <td>200020</td>\n",
       "      <td>258389</td>\n",
       "    </tr>\n",
       "    <tr>\n",
       "      <th>3</th>\n",
       "      <td>173766</td>\n",
       "      <td>60687</td>\n",
       "      <td>19159</td>\n",
       "      <td>5399647</td>\n",
       "      <td>653105</td>\n",
       "      <td>9282464</td>\n",
       "      <td>561615</td>\n",
       "      <td>309686</td>\n",
       "    </tr>\n",
       "    <tr>\n",
       "      <th>4</th>\n",
       "      <td>136754</td>\n",
       "      <td>236812</td>\n",
       "      <td>9762</td>\n",
       "      <td>24376764</td>\n",
       "      <td>2499409</td>\n",
       "      <td>265387</td>\n",
       "      <td>700599</td>\n",
       "      <td>496351</td>\n",
       "    </tr>\n",
       "  </tbody>\n",
       "</table>\n",
       "</div>"
      ],
      "text/plain": [
       "     Bar1    Bar2    Bar3   Ledwire    Other      PCB  Sensor1  Sensor2\n",
       "0   47738   16661   89340  35536256  1733151  5089363   118013   706649\n",
       "1   25224  461960  207892   1288040   602050  6380622   135817   156081\n",
       "2  264358   78382   34696   1965911   111334   711417   200020   258389\n",
       "3  173766   60687   19159   5399647   653105  9282464   561615   309686\n",
       "4  136754  236812    9762  24376764  2499409   265387   700599   496351"
      ]
     },
     "execution_count": 139,
     "metadata": {},
     "output_type": "execute_result"
    }
   ],
   "source": [
    "# Drop the column Unnamed: 0\n",
    "df_copy = df.drop('Unnamed: 0', 1)\n",
    "df_copy.head()"
   ]
  },
  {
   "cell_type": "code",
   "execution_count": 140,
   "metadata": {
    "collapsed": false
   },
   "outputs": [
    {
     "data": {
      "text/plain": [
       "0    16661\n",
       "1    25224\n",
       "2    34696\n",
       "3    19159\n",
       "4     9762\n",
       "dtype: int64"
      ]
     },
     "execution_count": 140,
     "metadata": {},
     "output_type": "execute_result"
    }
   ],
   "source": [
    "minMTBF = df_copy.min(axis=1)\n",
    "minMTBF.head()"
   ]
  },
  {
   "cell_type": "code",
   "execution_count": 141,
   "metadata": {
    "collapsed": false
   },
   "outputs": [
    {
     "data": {
      "image/png": "[encoded data removed]",
      "text/plain": [
       "<matplotlib.figure.Figure at 0x1d34ab82400>"
      ]
     },
     "metadata": {},
     "output_type": "display_data"
    }
   ],
   "source": [
    "hist(minMTBF)\n",
    "grid()"
   ]
  },
  {
   "cell_type": "code",
   "execution_count": 142,
   "metadata": {
    "collapsed": false
   },
   "outputs": [
    {
     "data": {
      "text/plain": [
       "count     10000.000000\n",
       "mean      39860.354200\n",
       "std       39809.389378\n",
       "min           0.000000\n",
       "25%       11682.500000\n",
       "50%       27611.000000\n",
       "75%       55181.500000\n",
       "max      363983.000000\n",
       "dtype: float64"
      ]
     },
     "execution_count": 142,
     "metadata": {},
     "output_type": "execute_result"
    }
   ],
   "source": [
    "minMTBF.describe()"
   ]
  }
 ],
 "metadata": {
  "kernelspec": {
   "display_name": "Python 3",
   "language": "python",
   "name": "python3"
  },
  "language_info": {
   "codemirror_mode": {
    "name": "ipython",
    "version": 3
   },
   "file_extension": ".py",
   "mimetype": "text/x-python",
   "name": "python",
   "nbconvert_exporter": "python",
   "pygments_lexer": "ipython3",
   "version": "3.6.0"
  }
 },
 "nbformat": 4,
 "nbformat_minor": 0
}
