{
 "cells": [
  {
   "cell_type": "markdown",
   "metadata": {},
   "source": [
    "# Assignment 4 - Gaussian elimination\n",
    "Introduction to Numerical Problem Solving, Spring 2017   \n",
    "Chanh Nguyen, 1504202   \n",
    "Helsinki Metropolia University of Applied Sciences"
   ]
  },
  {
   "cell_type": "code",
   "execution_count": 75,
   "metadata": {
    "collapsed": true
   },
   "outputs": [],
   "source": [
    "# Initial import statements\n",
    "%matplotlib inline\n",
    "import matplotlib.pyplot as plt\n",
    "import numpy as np\n",
    "from matplotlib.pyplot import *\n",
    "from numpy import *\n",
    "\n",
    "from numpy.linalg import solve, inv, det"
   ]
  },
  {
   "cell_type": "markdown",
   "metadata": {},
   "source": [
    "### Exercise 4"
   ]
  },
  {
   "cell_type": "code",
   "execution_count": 69,
   "metadata": {
    "collapsed": false
   },
   "outputs": [],
   "source": [
    "def Gaussian(A, b):\n",
    "    A = A.copy()\n",
    "    b = b.copy()\n",
    "    N = len(b)\n",
    "    # Initial x full with zeros\n",
    "    x = zeros(N)\n",
    "    \n",
    "    # Step 1. Forward elimination\n",
    "    for k in range(N-1):\n",
    "        for i in range(k+1,N):\n",
    "            factor = A[i,k] / A[k,k]\n",
    "            for j in range(k,N):\n",
    "                A[i,j] -= factor * A[k,j]\n",
    "            b[i] -= factor * b[k]\n",
    "       \n",
    "    # Step 2. Backward substitution\n",
    "    # x[N-1] = b[N-1] / A[N-1, N-1]\n",
    "    for i in range(N-1, -1, -1):\n",
    "        s = b[i]\n",
    "        for j in range(i+1, N):\n",
    "            s -= A[i,j] * x[j]\n",
    "        x[i] = s / A[i,i]\n",
    "    return x"
   ]
  },
  {
   "cell_type": "code",
   "execution_count": 84,
   "metadata": {
    "collapsed": false
   },
   "outputs": [
    {
     "name": "stdout",
     "output_type": "stream",
     "text": [
      "Solution x =  [ 0.5  8.  -6. ]\n"
     ]
    }
   ],
   "source": [
    "# (a) Solve by Gaussian elimination\n",
    "A = array([[10.,2,-1],[-3,-6,2],[1,1,5]])\n",
    "b = array([27.,-61.5,-21.5])\n",
    "x = Gaussian(A, b)\n",
    "\n",
    "print(\"Solution x = \", x)"
   ]
  },
  {
   "cell_type": "code",
   "execution_count": 90,
   "metadata": {
    "collapsed": false
   },
   "outputs": [
    {
     "name": "stdout",
     "output_type": "stream",
     "text": [
      "Vertor product A.x =  [ 27.  -61.5 -21.5]\n",
      "Array b            =  [ 27.  -61.5 -21.5]\n"
     ]
    }
   ],
   "source": [
    "# (b) Substitute your solutions into the original equations in order to check answers.\n",
    "\n",
    "print(\"Vertor product A.x = \",dot(A,x))\n",
    "print(\"Array b            = \",b)"
   ]
  },
  {
   "cell_type": "markdown",
   "metadata": {},
   "source": [
    "### Exercise 6\n",
    "In this exercise, we face the divide by Zero error, so we have to pivoting"
   ]
  },
  {
   "cell_type": "code",
   "execution_count": 92,
   "metadata": {
    "collapsed": false
   },
   "outputs": [],
   "source": [
    "def GaussianPivot(A, b):\n",
    "    A = A.copy()\n",
    "    b = b.copy()\n",
    "    N = len(b)\n",
    "    # Initial x full with zeros\n",
    "    x = zeros(N)\n",
    "    \n",
    "    # Step 1. Forward elimination\n",
    "    for k in range(N-1):\n",
    "        # Pivoting the rows\n",
    "        r = argmax(abs(A[k:,k]))+k\n",
    "        if r != k:\n",
    "            temp = A[k,:].copy()\n",
    "            A[k,:] = A[r,:]\n",
    "            A[r,:] = temp\n",
    "\n",
    "            temp = b[k].copy()\n",
    "            b[k] = b[r]\n",
    "            b[r] = temp\n",
    "        \n",
    "        for i in range(k+1,N):\n",
    "            factor = A[i,k] / A[k,k]\n",
    "            for j in range(k,N):\n",
    "                A[i,j] -= factor * A[k,j]\n",
    "            b[i] -= factor * b[k]\n",
    "        \n",
    "    # Step 2. Backward substitution\n",
    "    for i in range(N-1, -1, -1):\n",
    "        s = b[i]\n",
    "        for j in range(i+1, N):\n",
    "            s -= A[i,j] * x[j]\n",
    "        x[i] = s / A[i,i]\n",
    "    return x"
   ]
  },
  {
   "cell_type": "code",
   "execution_count": 100,
   "metadata": {
    "collapsed": false
   },
   "outputs": [
    {
     "name": "stdout",
     "output_type": "stream",
     "text": [
      "Solution x =  [ 2. -2.  1.  1. -1.]\n"
     ]
    }
   ],
   "source": [
    "A = array([[0.,0,2,1,2],[0,1,0,2,-1],[1,2,0,-2,0],[0,0,0,-1,1],[0,1,-1,1,-1]])\n",
    "b = array([1.,1,-4,-2,-1])\n",
    "x = GaussianPivot(A,b)\n",
    "print(\"Solution x = \", x)"
   ]
  },
  {
   "cell_type": "code",
   "execution_count": 102,
   "metadata": {
    "collapsed": false
   },
   "outputs": [
    {
     "name": "stdout",
     "output_type": "stream",
     "text": [
      "Vertor product A.x =  [ 1.  1. -4. -2. -1.]\n",
      "Array b            =  [ 1.  1. -4. -2. -1.]\n"
     ]
    }
   ],
   "source": [
    "# Check solution\n",
    "print(\"Vertor product A.x = \",dot(A,x))\n",
    "print(\"Array b            = \",b)"
   ]
  }
 ],
 "metadata": {
  "anaconda-cloud": {},
  "kernelspec": {
   "display_name": "Python [default]",
   "language": "python",
   "name": "python3"
  },
  "language_info": {
   "codemirror_mode": {
    "name": "ipython",
    "version": 3
   },
   "file_extension": ".py",
   "mimetype": "text/x-python",
   "name": "python",
   "nbconvert_exporter": "python",
   "pygments_lexer": "ipython3",
   "version": "3.5.2"
  }
 },
 "nbformat": 4,
 "nbformat_minor": 1
}
