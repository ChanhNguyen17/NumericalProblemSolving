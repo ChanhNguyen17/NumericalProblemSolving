{
 "cells": [
  {
   "cell_type": "markdown",
   "metadata": {
    "collapsed": true
   },
   "source": [
    "# Week 09 Root finding\n",
    "Introduction to Numerical Problem Solving, Spring 2017   \n",
    "Chanh Nguyen  \n",
    "Helsinki Metropolia University of Applied Sciences"
   ]
  },
  {
   "cell_type": "code",
   "execution_count": 1,
   "metadata": {
    "collapsed": false
   },
   "outputs": [
    {
     "name": "stdout",
     "output_type": "stream",
     "text": [
      "Populating the interactive namespace from numpy and matplotlib\n"
     ]
    }
   ],
   "source": [
    "%pylab inline\n",
    "from scipy.optimize import bisect, newton"
   ]
  },
  {
   "cell_type": "markdown",
   "metadata": {},
   "source": [
    "## Exercise 1\n",
    "Draw graphical presentations of the following functions. Use subplots to divide the figure into four parts."
   ]
  },
  {
   "cell_type": "code",
   "execution_count": 2,
   "metadata": {
    "collapsed": false
   },
   "outputs": [
    {
     "data": {
      "image/png": "[encoded data removed]",
      "text/plain": [
       "<matplotlib.figure.Figure at 0x2b90abed0f0>"
      ]
     },
     "metadata": {},
     "output_type": "display_data"
    }
   ],
   "source": [
    "x = np.linspace(-2, 2, 1000)\n",
    "def f1(x):\n",
    "    return x**2 - x - 1\n",
    "def f2(x):\n",
    "    return x**3 - 3*sin(x)\n",
    "def f3(x):\n",
    "    return exp(x) - 2\n",
    "def f4(x):\n",
    "    return 1 - x**2 + sin(50/(1+x**2))\n",
    "\n",
    "fig, axes = plt.subplots(1, 4, figsize=(12, 3), sharey=True)\n",
    " \n",
    "for n, y in enumerate([f1(x), f2(x), f3(x), f4(x)]):\n",
    "    axes[n].plot(x, y)\n",
    "    axes[n].grid()\n",
    "    axes[n].set_xticks([-2, -1, 0, 1, 2])\n",
    "    axes[n].axhline(0, color = 'r')"
   ]
  },
  {
   "cell_type": "markdown",
   "metadata": {},
   "source": [
    "## Exercise 2\n",
    "Write a function for incremental search the root of a function."
   ]
  },
  {
   "cell_type": "code",
   "execution_count": 194,
   "metadata": {
    "collapsed": false
   },
   "outputs": [],
   "source": [
    "def incrementSearch(f, a, b, dx):\n",
    "    x0 = a\n",
    "    n = 0\n",
    "    while x0 < b:\n",
    "        n = n + 1\n",
    "        if (abs(f(x0))<10*dx):\n",
    "            return x0, n\n",
    "        x0 = x0 + dx\n",
    "    return None, n"
   ]
  },
  {
   "cell_type": "markdown",
   "metadata": {},
   "source": [
    "Test it for $f_n(x)$"
   ]
  },
  {
   "cell_type": "code",
   "execution_count": 195,
   "metadata": {
    "collapsed": false,
    "scrolled": true
   },
   "outputs": [
    {
     "data": {
      "text/plain": [
       "(-0.6599999999999988, 135)"
      ]
     },
     "execution_count": 195,
     "metadata": {},
     "output_type": "execute_result"
    }
   ],
   "source": [
    "incrementSearch(f1, -2, 2, 0.01)"
   ]
  },
  {
   "cell_type": "code",
   "execution_count": 196,
   "metadata": {
    "collapsed": false
   },
   "outputs": [
    {
     "data": {
      "text/plain": [
       "(-1.4499999999999995, 56)"
      ]
     },
     "execution_count": 196,
     "metadata": {},
     "output_type": "execute_result"
    }
   ],
   "source": [
    "incrementSearch(f2, -2, 2, 0.01)"
   ]
  },
  {
   "cell_type": "code",
   "execution_count": 197,
   "metadata": {
    "collapsed": false
   },
   "outputs": [
    {
     "data": {
      "text/plain": [
       "(0.650000000000002, 266)"
      ]
     },
     "execution_count": 197,
     "metadata": {},
     "output_type": "execute_result"
    }
   ],
   "source": [
    "incrementSearch(f3, -2, 2, 0.01)"
   ]
  },
  {
   "cell_type": "code",
   "execution_count": 198,
   "metadata": {
    "collapsed": false
   },
   "outputs": [
    {
     "data": {
      "text/plain": [
       "(-1.2499999999999993, 76)"
      ]
     },
     "execution_count": 198,
     "metadata": {},
     "output_type": "execute_result"
    }
   ],
   "source": [
    "incrementSearch(f4, -2, 2, 0.01)"
   ]
  },
  {
   "cell_type": "markdown",
   "metadata": {},
   "source": [
    "## Exercise 3\n",
    "Use `bisect()` function from `scipy.optimize` to find the roots."
   ]
  },
  {
   "cell_type": "code",
   "execution_count": 199,
   "metadata": {
    "collapsed": false
   },
   "outputs": [
    {
     "name": "stdout",
     "output_type": "stream",
     "text": [
      "x0, n = (-0.6171875, 8)\n"
     ]
    }
   ],
   "source": [
    "# Find the first root of f1(x) between -2.0 and 0.0\n",
    "x0, r = bisect(f1, -2.0, 0.0, xtol = 0.01, full_output = True)\n",
    "print('x0, n =', (r.root, r.iterations))"
   ]
  },
  {
   "cell_type": "code",
   "execution_count": 200,
   "metadata": {
    "collapsed": false
   },
   "outputs": [
    {
     "name": "stdout",
     "output_type": "stream",
     "text": [
      "x0, n = (-1.443359375, 8)\n"
     ]
    }
   ],
   "source": [
    "# Find the first root of f2(x) between -2.0 and -0.5\n",
    "x0, r = bisect(f2, -2.0, -0.5, xtol = 0.01, full_output = True)\n",
    "print('x0, n =', (r.root, r.iterations))"
   ]
  },
  {
   "cell_type": "code",
   "execution_count": 201,
   "metadata": {
    "collapsed": false
   },
   "outputs": [
    {
     "name": "stdout",
     "output_type": "stream",
     "text": [
      "x0, n = (0.6953125, 9)\n"
     ]
    }
   ],
   "source": [
    "# Find the first root of f3(x) between -2.0 and 2.0\n",
    "x0, r = bisect(f3, -2.0, 2.0, xtol = 0.01, full_output = True)\n",
    "print('x0, n =', (r.root, r.iterations))"
   ]
  },
  {
   "cell_type": "code",
   "execution_count": 202,
   "metadata": {
    "collapsed": false
   },
   "outputs": [
    {
     "name": "stdout",
     "output_type": "stream",
     "text": [
      "x0, n = (-1.255859375, 7)\n"
     ]
    }
   ],
   "source": [
    "# Find the first root of f4(x) between -2.0 and -1.25\n",
    "x0, r = bisect(f4, -2.0, -1.25, xtol = 0.01, full_output = True)\n",
    "print('x0, n =', (r.root, r.iterations))"
   ]
  },
  {
   "cell_type": "markdown",
   "metadata": {},
   "source": [
    "######  The iterations is much smaller by using bisection search than increment search"
   ]
  },
  {
   "cell_type": "markdown",
   "metadata": {},
   "source": [
    "## Exercise 4\n",
    "Write my own version of the bisection search method."
   ]
  },
  {
   "cell_type": "code",
   "execution_count": 203,
   "metadata": {
    "collapsed": true
   },
   "outputs": [],
   "source": [
    "def bisectSearch(f, a, b, tol, maxiter):\n",
    "    \"\"\" bisectSearc(f, a, b, tol, maxiter)\n",
    "    My version of the bisectional root searching algorithm.\n",
    "    Inputs:\n",
    "       f = the function \n",
    "       a = lower limit of the domain\n",
    "       b = upper limit of the domain\n",
    "       tol = tolerance for the root value\n",
    "       maxiter = maximum numbers of iterations\n",
    "    Outputs:\n",
    "       x0 = estimate for the root\n",
    "       n = number of iterations\n",
    "    \"\"\"\n",
    "    # Initial values\n",
    "    x0, x1 = a, b\n",
    "    f0, f1 = f(x0), f(x1)\n",
    "    n = 0\n",
    "    \n",
    "    # Loop until max iterations\n",
    "    while n < maxiter:\n",
    "        n += 1\n",
    "        xm = (x0 + x1)/2\n",
    "        fm = f(xm)\n",
    "        \n",
    "        # Change the brackets\n",
    "        if sign(fm) == sign(f0):\n",
    "            x0, f0 = xm, fm\n",
    "        else:\n",
    "            x1, f1 = xm, fm\n",
    "            \n",
    "        # Stop criteria\n",
    "        ea = abs(fm)\n",
    "        if ea < tol:\n",
    "            return xm, n\n",
    "    # Returns the estimate for the root and the number of iterations\n",
    "    return x0, n"
   ]
  },
  {
   "cell_type": "code",
   "execution_count": 204,
   "metadata": {
    "collapsed": false
   },
   "outputs": [
    {
     "name": "stdout",
     "output_type": "stream",
     "text": [
      "x0, n = (-0.6171875, 8)\n"
     ]
    }
   ],
   "source": [
    "# Find the first root of f1(x) between -2.0 and 0.0\n",
    "x0, n = bisectSearch(f1, -2.0, 0.0, 0.01, 1000)\n",
    "print('x0, n =', (x0, n))"
   ]
  },
  {
   "cell_type": "code",
   "execution_count": 205,
   "metadata": {
    "collapsed": false
   },
   "outputs": [
    {
     "name": "stdout",
     "output_type": "stream",
     "text": [
      "x0, n = (-1.4375, 3)\n"
     ]
    }
   ],
   "source": [
    "# Find the first root of f2(x) between -2.0 and -0.5\n",
    "x0, n = bisectSearch(f2, -2.0, -0.5, 0.01, 1000)\n",
    "print('x0, n =', (x0, n))"
   ]
  },
  {
   "cell_type": "code",
   "execution_count": 206,
   "metadata": {
    "collapsed": false
   },
   "outputs": [
    {
     "name": "stdout",
     "output_type": "stream",
     "text": [
      "x0, n = (0.6953125, 9)\n"
     ]
    }
   ],
   "source": [
    "# Find the first root of f3(x) between -2.0 and 2.0\n",
    "x0, n = bisectSearch(f3, -2.0, 2.0, 0.01, 1000)\n",
    "print('x0, n =', (x0, n))"
   ]
  },
  {
   "cell_type": "code",
   "execution_count": 207,
   "metadata": {
    "collapsed": false
   },
   "outputs": [
    {
     "name": "stdout",
     "output_type": "stream",
     "text": [
      "x0, n = (-1.2529296875, 8)\n"
     ]
    }
   ],
   "source": [
    "# Find the first root of f4(x) between -2.0 and -1.25\n",
    "x0, n = bisectSearch(f4, -2.0, -1.25, 0.01, 1000)\n",
    "print('x0, n =', (x0, n))"
   ]
  },
  {
   "cell_type": "markdown",
   "metadata": {},
   "source": [
    "###### The result is similar with those obtained in problem 3. The iteration numbers are slightly different."
   ]
  }
 ],
 "metadata": {
  "anaconda-cloud": {},
  "kernelspec": {
   "display_name": "Python 3",
   "language": "python",
   "name": "python3"
  },
  "language_info": {
   "codemirror_mode": {
    "name": "ipython",
    "version": 3
   },
   "file_extension": ".py",
   "mimetype": "text/x-python",
   "name": "python",
   "nbconvert_exporter": "python",
   "pygments_lexer": "ipython3",
   "version": "3.6.0"
  }
 },
 "nbformat": 4,
 "nbformat_minor": 1
}
