{
 "cells": [
  {
   "cell_type": "markdown",
   "metadata": {},
   "source": [
    "# Week 5"
   ]
  },
  {
   "cell_type": "code",
   "execution_count": 1,
   "metadata": {
    "collapsed": true
   },
   "outputs": [],
   "source": [
    "# Initial import statements\n",
    "%matplotlib inline\n",
    "import matplotlib.pyplot as plt\n",
    "import numpy as np\n",
    "from matplotlib.pyplot import *\n",
    "from numpy import *"
   ]
  },
  {
   "cell_type": "markdown",
   "metadata": {},
   "source": [
    "## Problem 3\n",
    "Write a Python program that solves Ax = b using LU decomposition.\n",
    "Use the functions lu factor and lu solve from scipy.linalg package"
   ]
  },
  {
   "cell_type": "markdown",
   "metadata": {},
   "source": [
    "### Solution\n"
   ]
  },
  {
   "cell_type": "code",
   "execution_count": 5,
   "metadata": {
    "collapsed": false
   },
   "outputs": [
    {
     "name": "stdout",
     "output_type": "stream",
     "text": [
      "X:\n",
      "array([ 5.,  1., -2.])\n"
     ]
    }
   ],
   "source": [
    "from pprint import pprint\n",
    "from scipy.linalg import lu, solve\n",
    "\n",
    "A = array([[1, 4, 1],[1,6,-1],[2,-1,2]])\n",
    "b = array([7, 13, 5])\n",
    "P, L, U = lu(A)\n",
    "\n",
    "y = solve(dot(P, L), b)\n",
    "x = solve(U, y)\n",
    "\n",
    "print(\"X:\")\n",
    "pprint(x)"
   ]
  },
  {
   "cell_type": "markdown",
   "metadata": {},
   "source": [
    "## Problem 6\n",
    "Invert the following matrices with any method"
   ]
  },
  {
   "cell_type": "markdown",
   "metadata": {},
   "source": [
    "### Solution"
   ]
  },
  {
   "cell_type": "code",
   "execution_count": 13,
   "metadata": {
    "collapsed": false
   },
   "outputs": [
    {
     "name": "stdout",
     "output_type": "stream",
     "text": [
      "A:\n",
      "array([[ 1.,  1., -1., -0.],\n",
      "       [ 1.,  1., -1., -0.],\n",
      "       [ 2.,  2., -2., -1.],\n",
      "       [-1., -0.,  1.,  1.]])\n",
      "B:\n",
      "array([[ -7.42166231e+14,  -7.42166231e+14,  -7.42166231e+14,\n",
      "         -1.48433246e+15,   1.48433246e+15],\n",
      "       [ -3.52528960e+15,  -3.52528960e+15,  -3.52528960e+15,\n",
      "         -7.05057919e+15,   7.05057919e+15],\n",
      "       [ -5.90359502e+14,  -5.90359502e+14,  -5.90359502e+14,\n",
      "         -1.18071900e+15,   1.18071900e+15],\n",
      "       [ -3.33333333e-01,  -3.33333333e-01,   6.66666667e-01,\n",
      "          3.33333333e-01,  -3.33333333e-01],\n",
      "       [  1.50119988e+15,   1.50119988e+15,   1.50119988e+15,\n",
      "          3.00239975e+15,  -3.00239975e+15]])\n"
     ]
    }
   ],
   "source": [
    "from scipy.linalg import inv\n",
    "from pprint import pprint\n",
    "\n",
    "A = ([[ 5,-3,-1, 0],\n",
    "      [-2, 1, 1, 1],\n",
    "      [ 3,-5, 1, 2],\n",
    "      [ 0, 8,-4,-3]])\n",
    "B = ([[1, 3,-9, 6, 4],\n",
    "      [2,-1, 6, 7, 1],\n",
    "      [3, 2,-3,15, 5],\n",
    "      [8,-1, 1, 4, 2],\n",
    "      [11,1,-2,18, 7]])\n",
    "\n",
    "inv(A)\n",
    "inv(B)\n",
    "\n",
    "print(\"A:\")\n",
    "pprint(around(inv(A)))\n",
    "\n",
    "print(\"B:\")\n",
    "pprint(inv(B))"
   ]
  },
  {
   "cell_type": "markdown",
   "metadata": {},
   "source": [
    "## Problem 9\n",
    "Use the Gauss-Seidel with relaxation to solve Ax = b"
   ]
  },
  {
   "cell_type": "markdown",
   "metadata": {},
   "source": [
    "### Solution"
   ]
  },
  {
   "cell_type": "code",
   "execution_count": 71,
   "metadata": {
    "collapsed": false
   },
   "outputs": [
    {
     "name": "stdout",
     "output_type": "stream",
     "text": [
      "Solution:\n",
      "[ 5.00747101  5.02435668  5.14085529  5.02998524]\n",
      "Error:\n",
      "[ 0.00552735 -0.05089956  0.50907922 -0.05089956]\n"
     ]
    }
   ],
   "source": [
    "A = np.array([[ 4.,-1., 0., 0.],\n",
    "              [-1., 4.,-1., 0.],\n",
    "              [ 0.,-1., 4.,-1.],\n",
    "              [ 0., 0.,-1., 3.]])\n",
    "b = np.array([15.,10.,10.,10.])\n",
    "\n",
    "iterations = 1000\n",
    "\n",
    "w = 1.1\n",
    "x = np.zeros_like(b)\n",
    "\n",
    "for z in range(iterations):\n",
    "    for i in range(A.shape[0]):\n",
    "        a = 0\n",
    "        for j in range(A.shape[1]):\n",
    "            if j != i:\n",
    "                a = a + A[i,j]*x[j]\n",
    "            x[i] = (w/A[i,i])*(b[i] - a) + (1 - w)*x[i]\n",
    "        \n",
    "print(\"Solution:\")\n",
    "print(x)\n",
    "error = np.dot(A, x) - b\n",
    "print(\"Error:\")\n",
    "print(error)"
   ]
  }
 ],
 "metadata": {
  "anaconda-cloud": {},
  "kernelspec": {
   "display_name": "Python [conda root]",
   "language": "python",
   "name": "conda-root-py"
  },
  "language_info": {
   "codemirror_mode": {
    "name": "ipython",
    "version": 3
   },
   "file_extension": ".py",
   "mimetype": "text/x-python",
   "name": "python",
   "nbconvert_exporter": "python",
   "pygments_lexer": "ipython3",
   "version": "3.5.2"
  }
 },
 "nbformat": 4,
 "nbformat_minor": 1
}
