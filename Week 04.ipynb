{
 "cells": [
  {
   "cell_type": "markdown",
   "metadata": {},
   "source": [
    "## Week 04\n",
    "Chanh Nguyen"
   ]
  },
  {
   "cell_type": "code",
   "execution_count": 1,
   "metadata": {
    "collapsed": true
   },
   "outputs": [],
   "source": [
    "%matplotlib notebook\n",
    "import matplotlib.pyplot as plt\n",
    "import numpy as np\n",
    "from matplotlib.pyplot import *\n",
    "from numpy import *"
   ]
  },
  {
   "cell_type": "code",
   "execution_count": 2,
   "metadata": {
    "collapsed": false
   },
   "outputs": [
    {
     "data": {
      "text/plain": [
       "array([[ 1.,  2.,  3.],\n",
       "       [ 4.,  5.,  6.]])"
      ]
     },
     "execution_count": 2,
     "metadata": {},
     "output_type": "execute_result"
    }
   ],
   "source": [
    "A = array([[1.0, 2.0, 3.0], [4.0, 5.0, 6.0]])\n",
    "A"
   ]
  },
  {
   "cell_type": "code",
   "execution_count": 3,
   "metadata": {
    "collapsed": false
   },
   "outputs": [
    {
     "data": {
      "text/plain": [
       "array([[ 1.,  4.],\n",
       "       [ 2.,  5.],\n",
       "       [ 3.,  6.]])"
      ]
     },
     "execution_count": 3,
     "metadata": {},
     "output_type": "execute_result"
    }
   ],
   "source": [
    "A.T"
   ]
  },
  {
   "cell_type": "markdown",
   "metadata": {},
   "source": [
    "### Problem 1\n",
    "Find the solution for the given system of equations"
   ]
  },
  {
   "cell_type": "code",
   "execution_count": 7,
   "metadata": {
    "collapsed": false
   },
   "outputs": [],
   "source": [
    "from numpy.linalg import solve, inv, det"
   ]
  },
  {
   "cell_type": "code",
   "execution_count": 8,
   "metadata": {
    "collapsed": false
   },
   "outputs": [
    {
     "name": "stdout",
     "output_type": "stream",
     "text": [
      "x =  [ 2.2441941   3.09497021 -7.13457358]\n"
     ]
    }
   ],
   "source": [
    "A = array([[3.0, -0.1, -0.2], [0.1, -7.0, -0.3], [0.3, -0.2, -10.0]])\n",
    "b = array([7.85, -19.3, 71.4])\n",
    "x = solve(A, b)\n",
    "print(\"x = \", x)"
   ]
  },
  {
   "cell_type": "markdown",
   "metadata": {},
   "source": [
    "### Gaussian elimination"
   ]
  },
  {
   "cell_type": "code",
   "execution_count": 64,
   "metadata": {
    "collapsed": true
   },
   "outputs": [],
   "source": [
    "def Gaussian(A, b):\n",
    "    A = A.copy()\n",
    "    b = b.copy()\n",
    "    #rowsA, colsA = shape(A)\n",
    "    N = len(b)\n",
    "    x = zeros(N)\n",
    "    # Step 1. Forward elimination\n",
    "    for k in range(0, N-1):\n",
    "        #print(\"k = \", k)\n",
    "        for i in range(k+1, N):\n",
    "            #print(\"i = \", i)\n",
    "            factor = A[i, k] / A[k, k]\n",
    "            #print(\"factor = \", factor)\n",
    "            for j in range(N):\n",
    "                #print(\"j = \", j)\n",
    "                A[i, j] -= factor * A[k, j]\n",
    "            b[i] -= factor * b[k]\n",
    "            #print(\"k, i = \", k, i)\n",
    "            #print(\"A = \\n\", A)        \n",
    "            #print(\"b = \\n\", b)        \n",
    "    # Step 2. Backward substitution\n",
    "    #x[N-1] = b[N-1] / A[N-1, N-1]\n",
    "    for i in range(N-1, -1, -1):\n",
    "        s = b[i]\n",
    "        for j in range(i+1, N):\n",
    "            s -= A[i, j] * x[j]\n",
    "        x[i] = s / A[i, i]\n",
    "        #print(\"x = \", x)\n",
    "    return x"
   ]
  },
  {
   "cell_type": "code",
   "execution_count": 66,
   "metadata": {
    "collapsed": false
   },
   "outputs": [
    {
     "name": "stdout",
     "output_type": "stream",
     "text": [
      "A = \n",
      " [[  3.   -0.1  -0.2]\n",
      " [  0.1  -7.   -0.3]\n",
      " [  0.3  -0.2 -10. ]]\n",
      "b = \n",
      " [  7.85 -19.3   71.4 ]\n",
      "x =  [ 2.2441941   3.09497021 -7.13457358]\n"
     ]
    }
   ],
   "source": [
    "A = array([[3.0, -0.1, -0.2], [0.1, -7.0, -0.3], [0.3, -0.2, -10.0]])\n",
    "b = array([7.85, -19.3, 71.4])\n",
    "Gaussian(A, b)\n",
    "print(\"A = \\n\", A)        \n",
    "print(\"b = \\n\", b)\n",
    "print(\"x = \", x)"
   ]
  },
  {
   "cell_type": "code",
   "execution_count": 68,
   "metadata": {
    "collapsed": false
   },
   "outputs": [
    {
     "name": "stderr",
     "output_type": "stream",
     "text": [
      "C:\\Users\\Chanh Nguyen\\Anaconda3\\lib\\site-packages\\ipykernel\\__main__.py:12: RuntimeWarning: divide by zero encountered in double_scalars\n",
      "C:\\Users\\Chanh Nguyen\\Anaconda3\\lib\\site-packages\\ipykernel\\__main__.py:16: RuntimeWarning: invalid value encountered in double_scalars\n",
      "C:\\Users\\Chanh Nguyen\\Anaconda3\\lib\\site-packages\\ipykernel\\__main__.py:12: RuntimeWarning: invalid value encountered in double_scalars\n"
     ]
    },
    {
     "data": {
      "text/plain": [
       "array([ nan,  nan,  nan])"
      ]
     },
     "execution_count": 68,
     "metadata": {},
     "output_type": "execute_result"
    }
   ],
   "source": [
    "A = array([[0.0, 2.0, 3.0], [4.0, 6.0, 7.0], [2.0, 1.0, 6.0]])\n",
    "b = array([8.0, -3.0, 5.0])\n",
    "Gaussian(A, b)"
   ]
  },
  {
   "cell_type": "code",
   "execution_count": 70,
   "metadata": {
    "collapsed": false
   },
   "outputs": [
    {
     "data": {
      "text/plain": [
       "array([-5.43181818,  0.04545455,  2.63636364])"
      ]
     },
     "execution_count": 70,
     "metadata": {},
     "output_type": "execute_result"
    }
   ],
   "source": [
    "A = array([[4.0, 6.0, 7.0], [0.0, 2.0, 3.0], [2.0, 1.0, 6.0]])\n",
    "b = array([-3.0, 8.0, 5.0])\n",
    "Gaussian(A, b)"
   ]
  },
  {
   "cell_type": "code",
   "execution_count": 74,
   "metadata": {
    "collapsed": true
   },
   "outputs": [],
   "source": [
    "def GaussianPivot(A, b):\n",
    "    A = A.copy()\n",
    "    b = b.copy()\n",
    "    N = len(b)\n",
    "    x = zeros(N)\n",
    "    # Step 1. Forward elimination\n",
    "    for k in range(0, N-1):\n",
    "        # Pivoting the rows\n",
    "        r = argmax(abs(A[k:, k])) + k\n",
    "        \n",
    "        if r != k:\n",
    "            temp = A[k, :].copy()\n",
    "            A[k, :] = A[r, :]\n",
    "            A[r, :] = temp\n",
    "\n",
    "            temp = b[k].copy()\n",
    "            b[k] = b[r]\n",
    "            b[r] = temp\n",
    "        \n",
    "        for i in range(k+1, N):\n",
    "            factor = A[i, k] / A[k, k]\n",
    "            for j in range(N):\n",
    "                A[i, j] -= factor * A[k, j]\n",
    "            b[i] -= factor * b[k]\n",
    "        \n",
    "    # Step 2. Backward substitution\n",
    "    for i in range(N-1, -1, -1):\n",
    "        s = b[i]\n",
    "        for j in range(i+1, N):\n",
    "            s -= A[i, j] * x[j]\n",
    "        x[i] = s / A[i, i]\n",
    "\n",
    "    return x"
   ]
  },
  {
   "cell_type": "code",
   "execution_count": 75,
   "metadata": {
    "collapsed": false
   },
   "outputs": [
    {
     "name": "stdout",
     "output_type": "stream",
     "text": [
      "[[ 1  2  3]\n",
      " [ 0  1  3]\n",
      " [ 0 -7  6]]\n"
     ]
    }
   ],
   "source": [
    "A = array([[1, 2, 3], [0, 1, 3], [0, -7, 6]])\n",
    "print(A)"
   ]
  },
  {
   "cell_type": "code",
   "execution_count": 76,
   "metadata": {
    "collapsed": false
   },
   "outputs": [
    {
     "data": {
      "text/plain": [
       "array([-5.43181818,  0.04545455,  2.63636364])"
      ]
     },
     "execution_count": 76,
     "metadata": {},
     "output_type": "execute_result"
    }
   ],
   "source": [
    "A = array([[0.0, 2.0, 3.0], [4.0, 6.0, 7.0], [2.0, 1.0, 6.0]])\n",
    "b = array([8.0, -3.0, 5.0])\n",
    "GaussianPivot(A, b)"
   ]
  },
  {
   "cell_type": "code",
   "execution_count": null,
   "metadata": {
    "collapsed": true
   },
   "outputs": [],
   "source": []
  }
 ],
 "metadata": {
  "kernelspec": {
   "display_name": "Python [default]",
   "language": "python",
   "name": "python3"
  },
  "language_info": {
   "codemirror_mode": {
    "name": "ipython",
    "version": 3
   },
   "file_extension": ".py",
   "mimetype": "text/x-python",
   "name": "python",
   "nbconvert_exporter": "python",
   "pygments_lexer": "ipython3",
   "version": "3.5.2"
  }
 },
 "nbformat": 4,
 "nbformat_minor": 1
}
