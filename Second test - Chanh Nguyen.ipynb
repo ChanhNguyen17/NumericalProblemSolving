{
 "cells": [
  {
   "cell_type": "markdown",
   "metadata": {},
   "source": [
    "# Second test - Chanh Nguyen 1504202\n",
    "Introduction to Numerical Problem Solving, Spring 2017   \n",
    "10.5.2017    \n",
    "Helsinki Metropolia University of Applied Sciences"
   ]
  },
  {
   "cell_type": "code",
   "execution_count": 144,
   "metadata": {
    "collapsed": false
   },
   "outputs": [
    {
     "name": "stdout",
     "output_type": "stream",
     "text": [
      "Populating the interactive namespace from numpy and matplotlib\n"
     ]
    }
   ],
   "source": [
    "# Import necessary libraries\n",
    "%pylab inline\n",
    "from scipy.optimize import root, minimize\n",
    "from scipy.stats import linregress"
   ]
  },
  {
   "cell_type": "markdown",
   "metadata": {},
   "source": [
    "## Problem 1"
   ]
  },
  {
   "cell_type": "markdown",
   "metadata": {},
   "source": [
    "### (a) Draw the reflected standing wave for positive values of x from 0 to 30, when ${\\large \\lambda}$ = 16, t = 12, v = 48, and ${\\large h_0}$ = 0.35"
   ]
  },
  {
   "cell_type": "code",
   "execution_count": 145,
   "metadata": {
    "collapsed": false
   },
   "outputs": [
    {
     "data": {
      "image/png": "[encoded data removed]",
      "text/plain": [
       "<matplotlib.figure.Figure at 0x2601dc20e48>"
      ]
     },
     "metadata": {},
     "output_type": "display_data"
    }
   ],
   "source": [
    "# Initial parameters\n",
    "lamda = 16\n",
    "t = 12\n",
    "v = 48\n",
    "h0 = 0.35\n",
    "\n",
    "# Define function\n",
    "def h(x):\n",
    "    return h0*(sin(2*pi*x/lamda)*cos(2*pi*t*v/lamda) + e**(-x))\n",
    "\n",
    "# x from 0 to 30\n",
    "x = linspace(0, 30, 1000)\n",
    "\n",
    "# Graph function\n",
    "plot(x, h(x))\n",
    "axhline(0.1, color = 'r')\n",
    "grid()"
   ]
  },
  {
   "cell_type": "markdown",
   "metadata": {},
   "source": [
    "### (b) Use any numerical method to solve for the lowest posotive value of x, which satisfies the equation, when h(x) = 0.1 . Give the answer within 6 significant figures accuracy."
   ]
  },
  {
   "cell_type": "code",
   "execution_count": 153,
   "metadata": {
    "collapsed": false
   },
   "outputs": [
    {
     "data": {
      "text/plain": [
       "7.2640139958084049"
      ]
     },
     "execution_count": 153,
     "metadata": {},
     "output_type": "execute_result"
    }
   ],
   "source": [
    "# Define function h2(x) = h(x) - 0.1\n",
    "def h2(x):\n",
    "    return h(x) - 0.1\n",
    "\n",
    "# Find root for h2(x) = 0 <=> h(x) = 0.1 \n",
    "# By observe the graph, I guess x0 = 5, and tol = 1e-6\n",
    "r = root(h2, 5, tol = 1e-6)\n",
    "x0 = r.x[0]\n",
    "x0"
   ]
  },
  {
   "cell_type": "code",
   "execution_count": 154,
   "metadata": {
    "collapsed": false
   },
   "outputs": [
    {
     "data": {
      "text/plain": [
       "0.1000000000000003"
      ]
     },
     "execution_count": 154,
     "metadata": {},
     "output_type": "execute_result"
    }
   ],
   "source": [
    "# Check the answer by pass the solution to function h(x)\n",
    "h(x0)"
   ]
  },
  {
   "cell_type": "markdown",
   "metadata": {},
   "source": [
    "### (c) What is the smallest value of h(x) within the range $x \\in [0, 30]$? Where does it locate? Give the answer within 6 significant figues accuracy\n",
    "###### In the graph, we saw there are 2 possible minimize points at $x \\in [10, 15]$ and $x \\in [25, 30]$, we will guess x0 = 10 and 25"
   ]
  },
  {
   "cell_type": "code",
   "execution_count": 155,
   "metadata": {
    "collapsed": false
   },
   "outputs": [
    {
     "data": {
      "text/plain": [
       "      fun: -0.3499978495685147\n",
       " hess_inv: array([[ 18.52708953]])\n",
       "      jac: array([ -3.72529030e-09])\n",
       "  message: 'Optimization terminated successfully.'\n",
       "     nfev: 21\n",
       "      nit: 5\n",
       "     njev: 7\n",
       "   status: 0\n",
       "  success: True\n",
       "        x: array([ 12.00003984])"
      ]
     },
     "execution_count": 155,
     "metadata": {},
     "output_type": "execute_result"
    }
   ],
   "source": [
    "# Use minimize function with x0 = 10\n",
    "min10 = minimize(h, 10, tol = 1e-6)\n",
    "min10"
   ]
  },
  {
   "cell_type": "code",
   "execution_count": 156,
   "metadata": {
    "collapsed": false
   },
   "outputs": [
    {
     "data": {
      "text/plain": [
       "      fun: -0.3499999999985784\n",
       " hess_inv: array([[ 18.55449663]])\n",
       "      jac: array([  3.57627869e-07])\n",
       "  message: 'Optimization terminated successfully.'\n",
       "     nfev: 21\n",
       "      nit: 5\n",
       "     njev: 7\n",
       "   status: 0\n",
       "  success: True\n",
       "        x: array([ 28.00000661])"
      ]
     },
     "execution_count": 156,
     "metadata": {},
     "output_type": "execute_result"
    }
   ],
   "source": [
    "# Use minimize function with x0 = 25\n",
    "min25 = minimize(h, 25, tol = 1e-6)\n",
    "min25"
   ]
  },
  {
   "cell_type": "code",
   "execution_count": 157,
   "metadata": {
    "collapsed": false
   },
   "outputs": [
    {
     "data": {
      "text/plain": [
       "True"
      ]
     },
     "execution_count": 157,
     "metadata": {},
     "output_type": "execute_result"
    }
   ],
   "source": [
    "# Check which x give the smaller fucntion h(x)\n",
    "min25.fun < min10.fun"
   ]
  },
  {
   "cell_type": "markdown",
   "metadata": {},
   "source": [
    "###### We see that x2 = 28.00000661 gives smaller h(x2) = -0.349999999999 in compare with x1 = 12.00003984 with h(x1) = -0.349997849569\n",
    "###### So x = 28.00000661 and h = -0.3499999999985784 is the point we need to find"
   ]
  },
  {
   "cell_type": "markdown",
   "metadata": {},
   "source": [
    "# Final answers:\n",
    "\n",
    "* (a) The graph is above\n",
    "* (b) h(x) = 0.1 => x = 7.2640139958084049\n",
    "* (c) The smallest value of h = -0.3499999999985784 when x = 28.00000661 with tol = 1e-6"
   ]
  },
  {
   "cell_type": "markdown",
   "metadata": {},
   "source": [
    "## Problem 2"
   ]
  },
  {
   "cell_type": "markdown",
   "metadata": {},
   "source": [
    "Here is how I solved this problem..."
   ]
  },
  {
   "cell_type": "code",
   "execution_count": 158,
   "metadata": {
    "collapsed": false
   },
   "outputs": [
    {
     "data": {
      "image/png": "[encoded data removed]",
      "text/plain": [
       "<matplotlib.figure.Figure at 0x2601fe36c50>"
      ]
     },
     "metadata": {},
     "output_type": "display_data"
    }
   ],
   "source": [
    "# Define function f(x)\n",
    "def f(x):\n",
    "    return -x**4 - 2*x**3 - 8*x**2 - 5*x\n",
    "\n",
    "# x is from -20 to 20\n",
    "x = linspace(-20, 20, 1000)\n",
    "plot(x, f(x))\n",
    "grid()"
   ]
  },
  {
   "cell_type": "markdown",
   "metadata": {},
   "source": [
    "### (a) Golden-section"
   ]
  },
  {
   "cell_type": "code",
   "execution_count": 159,
   "metadata": {
    "collapsed": true
   },
   "outputs": [],
   "source": [
    "def goldenRatioSearch(f, a, b, tol=1e-8, maxiter=100):\n",
    "    \n",
    "    # Initilialize the requirements\n",
    "    r = (sqrt(5)-1)/2\n",
    "    xopt = (b+a)/2\n",
    "    fx = f(xopt)\n",
    "    n = 0\n",
    "    \n",
    "    while n < maxiter:\n",
    "        n += 1\n",
    "        d = r*(b-a)\n",
    "        x1 = a+d\n",
    "        x2 = b-d\n",
    "        f1 = f(x1)\n",
    "        f2 = f(x2)\n",
    "        \n",
    "        # Shorten the bound\n",
    "        if f1>f2:\n",
    "            a = x2\n",
    "            x2 = x1\n",
    "            x1 = a+d\n",
    "            f2 = f1\n",
    "            f1 = f(x1)\n",
    "            xopt = x1\n",
    "            fx = f(xopt)\n",
    "        else:\n",
    "            b = x1\n",
    "            x1 = x2\n",
    "            x2 = b-d\n",
    "            f1 = f2\n",
    "            f2 = f(x2)\n",
    "            xopt = x1\n",
    "            fx = f(xopt)\n",
    "            \n",
    "        # Check result    \n",
    "        if xopt != 0:\n",
    "            ea = (1-r)*abs((b-a)/xopt)\n",
    "        if ea < tol:\n",
    "            break\n",
    "            \n",
    "    return xopt, fx, ea, n"
   ]
  },
  {
   "cell_type": "code",
   "execution_count": 160,
   "metadata": {
    "collapsed": false
   },
   "outputs": [
    {
     "data": {
      "text/plain": [
       "(-0.34725046604174103, 0.84079393527862889, 9.2264987613601806e-11, 53)"
      ]
     },
     "execution_count": 160,
     "metadata": {},
     "output_type": "execute_result"
    }
   ],
   "source": [
    "# The initial guesses of xlow = -5.0 and xhigh = 5.0. Perform maxiter 100 iterations\n",
    "gR = goldenRatioSearch(f, -5, 5, tol=1e-10)\n",
    "gR"
   ]
  },
  {
   "cell_type": "markdown",
   "metadata": {},
   "source": [
    "### (b) Newton-Raphson's method"
   ]
  },
  {
   "cell_type": "code",
   "execution_count": 161,
   "metadata": {
    "collapsed": false
   },
   "outputs": [],
   "source": [
    "def newtonRaphsonSearch(f, x0, tol=1e-8, maxiter=100):\n",
    "    \n",
    "    # Initial requirements\n",
    "    n = 0\n",
    "    h = tol\n",
    "    hh = h**2\n",
    "    while n<maxiter:\n",
    "        n+=1\n",
    "        \n",
    "        # Calculate first and second order of the differentiation\n",
    "        fp = (f(x0+h)-f(x0))/h\n",
    "        fpp = (f(x0+h)-2*f(x0)+f(x0-h))/hh\n",
    "        if fpp != 0:\n",
    "            x1 = x0 - fp/fpp\n",
    "        else:\n",
    "            x1 = x0 + tol\n",
    "            \n",
    "        # Check result    \n",
    "        if x1 != 0:\n",
    "            ea = abs((x1-x0)/x1)\n",
    "        else:\n",
    "            ea = abs(x1-x0)\n",
    "        if ea<tol:\n",
    "            break\n",
    "        x0 = x1\n",
    "        \n",
    "    return x1, f(x1), ea, n "
   ]
  },
  {
   "cell_type": "code",
   "execution_count": 162,
   "metadata": {
    "collapsed": false
   },
   "outputs": [
    {
     "data": {
      "text/plain": [
       "(-0.34725047124920183, 0.8407939352786287, 2.215204452881188e-09, 9)"
      ]
     },
     "execution_count": 162,
     "metadata": {},
     "output_type": "execute_result"
    }
   ],
   "source": [
    "# The initial guess of x0 = 0.0.\n",
    "newtonRaphsonSearch(f, 0, tol=100e-10)"
   ]
  },
  {
   "cell_type": "markdown",
   "metadata": {},
   "source": [
    "## Final answers:\n",
    "Find the maximum\n",
    "* (a) Golden-section: f_max = 0.84079393527862889 ; x = -0.34725046604174103 ; iteration = 53\n",
    "* (b) Newton-Raphson's method: f_max = 0.8407939352786287 ; x = -0.34725047124920183 ; iterations = 9"
   ]
  },
  {
   "cell_type": "markdown",
   "metadata": {},
   "source": [
    "## Problem 3"
   ]
  },
  {
   "cell_type": "code",
   "execution_count": 163,
   "metadata": {
    "collapsed": false
   },
   "outputs": [
    {
     "data": {
      "text/plain": [
       "'The model equation: y = a*x + b with a = 0.352469959947 and b = 4.85153538051'"
      ]
     },
     "execution_count": 163,
     "metadata": {},
     "output_type": "execute_result"
    },
    {
     "data": {
      "image/png": "[encoded data removed]",
      "text/plain": [
       "<matplotlib.figure.Figure at 0x2601fe3e1d0>"
      ]
     },
     "metadata": {},
     "output_type": "display_data"
    }
   ],
   "source": [
    "# Create array x and y\n",
    "x = array([0, 2, 4, 6, 9, 11, 12, 15, 17, 19])\n",
    "y = array([5, 6, 7, 6, 9, 8, 7, 10, 12, 12])\n",
    "\n",
    "# The data has a linear relationship between x and y. Use linregress for x and y\n",
    "r = linregress(x, y)\n",
    "a = r.slope\n",
    "b = r.intercept\n",
    "\n",
    "# Create equation based on linregress result\n",
    "x2 = linspace(-1, 20, 1000)\n",
    "y2 = a*x2 + b\n",
    "\n",
    "# Plot graph x and y\n",
    "plot(x, y, 'o')\n",
    "plot(x2, y2)\n",
    "title('x and y')\n",
    "grid()\n",
    "\n",
    "'The model equation: y = a*x + b with a = '+str(r.slope)+' and b = '+str(r.intercept)"
   ]
  },
  {
   "cell_type": "code",
   "execution_count": 164,
   "metadata": {
    "collapsed": false
   },
   "outputs": [
    {
     "data": {
      "text/plain": [
       "0.055033565698469768"
      ]
     },
     "execution_count": 164,
     "metadata": {},
     "output_type": "execute_result"
    }
   ],
   "source": [
    "# The standard error of the estimated gradient and the correlation coefficient\n",
    "r.stderr"
   ]
  },
  {
   "cell_type": "code",
   "execution_count": 166,
   "metadata": {
    "collapsed": false
   },
   "outputs": [
    {
     "data": {
      "text/plain": [
       "7.671295060080106"
      ]
     },
     "execution_count": 166,
     "metadata": {},
     "output_type": "execute_result"
    }
   ],
   "source": [
    "# Use the resulting linear equation to predict y at x = 8.0\n",
    "y_predict =  a*8 + b\n",
    "y_predict"
   ]
  },
  {
   "cell_type": "markdown",
   "metadata": {},
   "source": [
    "### Final answers:\n",
    "\n",
    "* The model y = a*x + b with a = 0.352469959947 and b = 4.85153538051\n",
    "* Standard error: 0.055033565698469768\n",
    "* The model is not good, we can clearly see in the graph, and the standard error is quite high\n",
    "* x = 8.0 => y_predict = 7.671295060080106"
   ]
  },
  {
   "cell_type": "markdown",
   "metadata": {},
   "source": [
    "## Problem 4"
   ]
  },
  {
   "cell_type": "code",
   "execution_count": 173,
   "metadata": {
    "collapsed": false
   },
   "outputs": [
    {
     "data": {
      "image/png": "[encoded data removed]",
      "text/plain": [
       "<matplotlib.figure.Figure at 0x2601fef9d68>"
      ]
     },
     "metadata": {},
     "output_type": "display_data"
    }
   ],
   "source": [
    "v = array([0, 1, 1.8, 2.4, 3.5, 4.4, 5.1, 6])\n",
    "P = array([0, 4.7, 12.2, 19, 31.8, 40.1, 43.8, 42.3])\n",
    "\n",
    "# The data has a linear relationship between x and y. Use linregress for x and y\n",
    "\n",
    "r = linregress(v, P)\n",
    "a = r.slope\n",
    "b = r.intercept\n",
    "\n",
    "# Create equation based on linregress result\n",
    "v2 = linspace(-1, 7, 1000)\n",
    "P2 = a*v2 + b\n",
    "\n",
    "# Plot graph x and y\n",
    "plot(v, P, 'o')\n",
    "plot(v2, P2)\n",
    "title('v and P')\n",
    "grid()"
   ]
  },
  {
   "cell_type": "code",
   "execution_count": 178,
   "metadata": {
    "collapsed": false
   },
   "outputs": [
    {
     "data": {
      "image/png": "[encoded data removed]",
      "text/plain": [
       "<matplotlib.figure.Figure at 0x2602405c208>"
      ]
     },
     "metadata": {},
     "output_type": "display_data"
    }
   ],
   "source": [
    "# Function P by v\n",
    "def p(v):\n",
    "    return a*v + b\n",
    "\n",
    "# Graphical presentation\n",
    "v0 = 1\n",
    "v1 = 6\n",
    "\n",
    "vi = linspace(v0, v1, 1000)\n",
    "\n",
    "# Calculate the function values\n",
    "Pi = p(vi)\n",
    "\n",
    "# Fill the integration area\n",
    "fill_between(vi, Pi, alpha = 0.5)\n",
    "\n",
    "# Make another graph showing the function\n",
    "vi2 = linspace(v0-1, v1+1, 1000)\n",
    "Pi2 = p(vi2)\n",
    "plot(vi2, Pi2)\n",
    "grid()"
   ]
  },
  {
   "cell_type": "code",
   "execution_count": 179,
   "metadata": {
    "collapsed": false
   },
   "outputs": [
    {
     "data": {
      "text/plain": [
       "140.75850731546933"
      ]
     },
     "execution_count": 179,
     "metadata": {},
     "output_type": "execute_result"
    }
   ],
   "source": [
    "# Use the multiple-application Trapezoidal rule\n",
    "It = trapz(Pi, vi)\n",
    "It"
   ]
  },
  {
   "cell_type": "code",
   "execution_count": 182,
   "metadata": {
    "collapsed": false
   },
   "outputs": [
    {
     "data": {
      "text/plain": [
       "281517.01463093865"
      ]
     },
     "execution_count": 182,
     "metadata": {},
     "output_type": "execute_result"
    }
   ],
   "source": [
    "m = 2000\n",
    "\n",
    "# Compute the delta_t by formular\n",
    "delta_t = m*It\n",
    "delta_t"
   ]
  },
  {
   "cell_type": "markdown",
   "metadata": {},
   "source": [
    "### Final answers:\n",
    "\n",
    "* $\\Delta t$ = 281517.01463093865"
   ]
  }
 ],
 "metadata": {
  "kernelspec": {
   "display_name": "Python 3",
   "language": "python",
   "name": "python3"
  },
  "language_info": {
   "codemirror_mode": {
    "name": "ipython",
    "version": 3
   },
   "file_extension": ".py",
   "mimetype": "text/x-python",
   "name": "python",
   "nbconvert_exporter": "python",
   "pygments_lexer": "ipython3",
   "version": "3.6.0"
  }
 },
 "nbformat": 4,
 "nbformat_minor": 0
}
