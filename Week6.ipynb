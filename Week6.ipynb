{
 "cells": [
  {
   "cell_type": "code",
   "execution_count": 4,
   "metadata": {
    "collapsed": false
   },
   "outputs": [],
   "source": [
    "# Initial import statements\n",
    "%matplotlib inline\n",
    "import matplotlib.pyplot as plt\n",
    "import numpy as np\n",
    "from matplotlib.pyplot import *\n",
    "from numpy import *\n",
    "\n",
    "from scipy.linalg import *\n",
    "\n",
    "import math"
   ]
  },
  {
   "cell_type": "code",
   "execution_count": 12,
   "metadata": {
    "collapsed": false
   },
   "outputs": [
    {
     "data": {
      "text/plain": [
       "array([[  1.,  -1.,  -1.,   0.,   0.,   0.],\n",
       "       [  0.,   1.,   0.,  -1.,   0.,   0.],\n",
       "       [  0.,   0.,   0.,   1.,  -1.,   0.],\n",
       "       [  0.,   0.,   1.,   0.,   1.,  -1.],\n",
       "       [ -5.,   0.,  -5.,   0.,   0., -20.],\n",
       "       [ -5.,  -5.,   0., -10., -15., -20.]])"
      ]
     },
     "execution_count": 12,
     "metadata": {},
     "output_type": "execute_result"
    }
   ],
   "source": [
    "r1=5\n",
    "r2=5\n",
    "r3=5\n",
    "r4=10\n",
    "r5=15\n",
    "r6=20\n",
    "\n",
    "A = array([1.,-1,-1,0,0,0,0,1,0,-1,0,0,0,0,0,1,-1,0,0,0,1,0,1,-1,-r1,0,-r3,0,0,-r6,-r1,-r2,0,-r4,-r5,-r6]).reshape(6, 6)\n",
    "A"
   ]
  },
  {
   "cell_type": "code",
   "execution_count": 19,
   "metadata": {
    "collapsed": false
   },
   "outputs": [
    {
     "data": {
      "text/plain": [
       "array([   0.,    0.,    0.,    0., -200., -200.])"
      ]
     },
     "execution_count": 19,
     "metadata": {},
     "output_type": "execute_result"
    }
   ],
   "source": [
    "vs=0.2e3\n",
    "b = array([0,0,0,0,-vs,-vs])\n",
    "b"
   ]
  },
  {
   "cell_type": "code",
   "execution_count": 20,
   "metadata": {
    "collapsed": false
   },
   "outputs": [
    {
     "data": {
      "text/plain": [
       "array([ 6.82926829,  0.97560976,  5.85365854,  0.97560976,  0.97560976,\n",
       "        6.82926829])"
      ]
     },
     "execution_count": 20,
     "metadata": {},
     "output_type": "execute_result"
    }
   ],
   "source": [
    "i = solve(A,b)\n",
    "i"
   ]
  },
  {
   "cell_type": "code",
   "execution_count": 25,
   "metadata": {
    "collapsed": false
   },
   "outputs": [
    {
     "data": {
      "text/plain": [
       "array([[ 1.,  0.,  0.,  0.,  0.,  0.],\n",
       "       [ 1., -1.,  0.,  0.,  0.,  0.],\n",
       "       [ 0.,  1., -1.,  0.,  0.,  0.],\n",
       "       [ 0.,  0.,  1., -1.,  0.,  0.],\n",
       "       [ 0.,  0.,  0.,  1., -1.,  0.],\n",
       "       [ 0.,  0.,  0.,  0.,  1., -1.]])"
      ]
     },
     "execution_count": 25,
     "metadata": {},
     "output_type": "execute_result"
    }
   ],
   "source": [
    "A2 = array([1.,0,0,0,0,0,1,-1,0,0,0,0,0,1,-1,0,0,0,0,0,1,-1,0,0,0,0,0,1,-1,0,0,0,0,0,1,-1]).reshape(6, 6)\n",
    "A2"
   ]
  },
  {
   "cell_type": "code",
   "execution_count": 26,
   "metadata": {
    "collapsed": false
   },
   "outputs": [
    {
     "data": {
      "text/plain": [
       "array([   0.        , -200.        , -165.85365854, -160.97560976,\n",
       "       -151.2195122 , -121.95121951])"
      ]
     },
     "execution_count": 26,
     "metadata": {},
     "output_type": "execute_result"
    }
   ],
   "source": [
    "v1 = array([0.,vs,-r1*i[0],-r2*i[1],-r4*i[3],-r3*i[2]])\n",
    "v = solve(A2,v1)\n",
    "v"
   ]
  },
  {
   "cell_type": "code",
   "execution_count": 70,
   "metadata": {
    "collapsed": false
   },
   "outputs": [
    {
     "data": {
      "text/plain": [
       "array([[0, 0, 0, 0, 0, 0, 1, 0],\n",
       "       [1, 0, 1, 1, 0, 0, 0, 0],\n",
       "       [1, 0, 0, 0, 0, 0, 0, 0],\n",
       "       [0, 1, 0, 0, 0, 0, 0, 0],\n",
       "       [0, 0, 1, 1, 0, 0, 1, 0],\n",
       "       [0, 0, 0, 1, 1, 0, 0, 1],\n",
       "       [0, 0, 0, 0, 1, 0, 0, 1],\n",
       "       [0, 0, 0, 0, 1, 1, 1, 0]])"
      ]
     },
     "execution_count": 70,
     "metadata": {},
     "output_type": "execute_result"
    }
   ],
   "source": [
    "H = array([[0,0,0,0,0,0,1,0],\n",
    "           [1,0,1,1,0,0,0,0],\n",
    "           [1,0,0,0,0,0,0,0],\n",
    "           [0,1,0,0,0,0,0,0],\n",
    "           [0,0,1,1,0,0,1,0],\n",
    "           [0,0,0,1,1,0,0,1],\n",
    "           [0,0,0,0,1,0,0,1],\n",
    "           [0,0,0,0,1,1,1,0]])\n",
    "H"
   ]
  },
  {
   "cell_type": "code",
   "execution_count": 71,
   "metadata": {
    "collapsed": false
   },
   "outputs": [
    {
     "data": {
      "text/plain": [
       "array([[0, 0, 0, 0, 0, 0, 1, 0],\n",
       "       [1, 0, 1, 1, 0, 0, 0, 0],\n",
       "       [1, 0, 0, 0, 0, 0, 0, 0],\n",
       "       [0, 1, 0, 0, 0, 0, 0, 0],\n",
       "       [0, 0, 1, 1, 0, 0, 1, 0],\n",
       "       [0, 0, 0, 1, 1, 0, 0, 1],\n",
       "       [0, 0, 0, 0, 1, 0, 0, 1],\n",
       "       [0, 0, 0, 0, 1, 1, 1, 0]])"
      ]
     },
     "execution_count": 71,
     "metadata": {},
     "output_type": "execute_result"
    }
   ],
   "source": [
    "np.fill_diagonal(H,0)\n",
    "H"
   ]
  },
  {
   "cell_type": "code",
   "execution_count": 75,
   "metadata": {
    "collapsed": false
   },
   "outputs": [
    {
     "name": "stdout",
     "output_type": "stream",
     "text": [
      "[[ 0.     0.     0.     0.     0.     0.     0.333  0.   ]\n",
      " [ 0.5    0.     0.5    0.333  0.     0.     0.     0.   ]\n",
      " [ 0.5    0.     0.     0.     0.     0.     0.     0.   ]\n",
      " [ 0.     1.     0.     0.     0.     0.     0.     0.   ]\n",
      " [ 0.     0.     0.5    0.333  0.     0.     0.333  0.   ]\n",
      " [ 0.     0.     0.     0.333  0.333  0.     0.     0.5  ]\n",
      " [ 0.     0.     0.     0.     0.333  0.     0.     0.5  ]\n",
      " [ 0.     0.     0.     0.     0.333  1.     0.333  0.   ]]\n"
     ]
    }
   ],
   "source": [
    "H = H/sum(H,0)\n",
    "print(around(H,3))"
   ]
  },
  {
   "cell_type": "code",
   "execution_count": 78,
   "metadata": {
    "collapsed": false
   },
   "outputs": [
    {
     "name": "stdout",
     "output_type": "stream",
     "text": [
      "65\n",
      "[ 0.06     0.0675   0.03     0.0675   0.0975   0.20251  0.18001  0.29499]\n"
     ]
    }
   ],
   "source": [
    "x = array([1,0,0,0,0,0,0,0])\n",
    "for n in range(500):\n",
    "    xnew = dot(H,x)\n",
    "    err = mean(abs(xnew-x))\n",
    "    if err < 1e-5:\n",
    "        break\n",
    "    x = xnew\n",
    "print(n)\n",
    "print(around(x,5))"
   ]
  },
  {
   "cell_type": "code",
   "execution_count": 111,
   "metadata": {
    "collapsed": false
   },
   "outputs": [
    {
     "name": "stdout",
     "output_type": "stream",
     "text": [
      "[[ 0.     0.     0.2    0.167  0.25   0.     0.5    0.     0.125]\n",
      " [ 0.125  0.     0.2    0.     0.     0.2    0.     0.     0.125]\n",
      " [ 0.125  0.     0.     0.167  0.25   0.     0.     0.     0.125]\n",
      " [ 0.125  0.     0.     0.     0.     0.2    0.     0.25   0.125]\n",
      " [ 0.125  0.     0.     0.167  0.     0.     0.     0.     0.125]\n",
      " [ 0.125  0.5    0.     0.     0.25   0.     0.     0.25   0.125]\n",
      " [ 0.125  0.     0.     0.167  0.     0.2    0.     0.25   0.125]\n",
      " [ 0.125  0.5    0.     0.167  0.25   0.2    0.5    0.     0.125]\n",
      " [ 0.125  0.     0.6    0.167  0.     0.2    0.     0.25   0.   ]]\n",
      "11\n",
      "[ 0.12306  0.07194  0.06382  0.10603  0.05106  0.12897  0.1237   0.18745\n",
      "  0.14399]\n"
     ]
    },
    {
     "data": {
      "text/plain": [
       "array([7, 8, 5, 6, 0, 3, 1, 2, 4], dtype=int64)"
      ]
     },
     "execution_count": 111,
     "metadata": {},
     "output_type": "execute_result"
    }
   ],
   "source": [
    "txt = \"\"\"\n",
    "0\t0\t1\t1\t1\t0\t1\t0\t100\n",
    "0\t2147483647\t1\t0\t0\t1\t0\t0\t100\n",
    "0\t0\t5\t1\t1\t0\t0\t0\t100\n",
    "0\t0\t0\t7\t0\t1\t0\t1\t100\n",
    "0\t0\t0\t1\t10e**100\t0\t0\t0\t100\n",
    "0\t1\t0\t0\t1\t1\t0\t1\t100\n",
    "0\t0\t0\t1\t0\t1\t0\t1\t100\n",
    "0\t1\t0\t1\t1\t1\t1\t9\t100\n",
    "0\t0\t3\t1\t0\t1\t0\t1\t2\n",
    "\"\"\"\n",
    "H = matrix(txt).reshape(9,9)\n",
    "H = asarray(H,dtype=float)\n",
    "fill_diagonal(H,0)\n",
    "csum = sum(H,0)\n",
    "for n in range(9):\n",
    "    if csum[n] == 0:\n",
    "        H[:,n] = ones(9)\n",
    "        H[n,n] = 0\n",
    "        csum[n] = 9-1\n",
    "H = H/csum\n",
    "print(around(H,3))\n",
    "\n",
    "x = zeros(9)\n",
    "x[0] = 1\n",
    "for n in range(500):\n",
    "    xnew = dot(H,x)\n",
    "    err = mean(abs(xnew-x))\n",
    "    if err < 1e-5:\n",
    "        break\n",
    "    x = xnew\n",
    "print(n)\n",
    "print(around(x,5))\n",
    "# sum(x)\n",
    "\n",
    "flipud(argsort(x))"
   ]
  },
  {
   "cell_type": "code",
   "execution_count": 112,
   "metadata": {
    "collapsed": false
   },
   "outputs": [
    {
     "name": "stdout",
     "output_type": "stream",
     "text": [
      "11\n",
      "[ 0.12306  0.07194  0.06382  0.10603  0.05106  0.12897  0.1237   0.18745\n",
      "  0.14399]\n"
     ]
    },
    {
     "data": {
      "text/plain": [
       "1.0"
      ]
     },
     "execution_count": 112,
     "metadata": {},
     "output_type": "execute_result"
    }
   ],
   "source": [
    "x = zeros(9)\n",
    "x[0] = 1\n",
    "for n in range(500):\n",
    "    xnew = dot(H,x)\n",
    "    err = mean(abs(xnew-x))\n",
    "    if err < 1e-5:\n",
    "        break\n",
    "    x = xnew\n",
    "print(n)\n",
    "print(around(x,5))\n",
    "sum(x)"
   ]
  },
  {
   "cell_type": "code",
   "execution_count": 113,
   "metadata": {
    "collapsed": false
   },
   "outputs": [
    {
     "data": {
      "text/plain": [
       "array([7, 8, 5, 6, 0, 3, 1, 2, 4], dtype=int64)"
      ]
     },
     "execution_count": 113,
     "metadata": {},
     "output_type": "execute_result"
    }
   ],
   "source": [
    "flipud(argsort(x))"
   ]
  },
  {
   "cell_type": "code",
   "execution_count": null,
   "metadata": {
    "collapsed": true
   },
   "outputs": [],
   "source": []
  }
 ],
 "metadata": {
  "kernelspec": {
   "display_name": "Python [default]",
   "language": "python",
   "name": "python3"
  },
  "language_info": {
   "codemirror_mode": {
    "name": "ipython",
    "version": 3
   },
   "file_extension": ".py",
   "mimetype": "text/x-python",
   "name": "python",
   "nbconvert_exporter": "python",
   "pygments_lexer": "ipython3",
   "version": "3.5.2"
  }
 },
 "nbformat": 4,
 "nbformat_minor": 1
}
