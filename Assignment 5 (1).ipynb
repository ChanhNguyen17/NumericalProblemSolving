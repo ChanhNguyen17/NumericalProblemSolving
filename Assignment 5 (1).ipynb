{
 "cells": [
  {
   "cell_type": "markdown",
   "metadata": {},
   "source": [
    "# Exercise 05 - Solutions\n",
    "    Introduction to Numerical Problem Solving, Spring 2017\n",
    "    21.2.2017, Olli Kortelainen\n",
    "    Helsinki Metropolia University of Applied Sciences\n",
    "\n",
    "### Home assigment 05 - LU Decomposition, Inverse Matrix, and Gauss-Seidel method"
   ]
  },
  {
   "cell_type": "code",
   "execution_count": 1,
   "metadata": {
    "collapsed": true
   },
   "outputs": [],
   "source": [
    "%matplotlib notebook\n",
    "import matplotlib.pyplot as plt\n",
    "import numpy as np\n",
    "from matplotlib.pyplot import *\n",
    "from numpy import *\n",
    "from scipy.misc import factorial\n",
    "from numpy.linalg import *\n",
    "from scipy.linalg import lu,solve,inv,det,lu_factor,lu_solve\n",
    "from pprint import pprint\n"
   ]
  },
  {
   "cell_type": "markdown",
   "metadata": {},
   "source": [
    "### LUdecomp method"
   ]
  },
  {
   "cell_type": "code",
   "execution_count": 7,
   "metadata": {
    "collapsed": true
   },
   "outputs": [],
   "source": [
    "def LUdecomp(a):\n",
    "    n = len(a)\n",
    "    for k in range(0,n-1):\n",
    "        for i in range(k+1,n):\n",
    "            if [a,k] != 0.0:\n",
    "                lam = a[i,k]/a[k,k]\n",
    "                a[i,k+1:n] = a[i,k+1:n] - lam*a[k,k+1:n]\n",
    "                a[i,k] = lam\n",
    "    return a"
   ]
  },
  {
   "cell_type": "markdown",
   "metadata": {},
   "source": [
    "### LUsolve method"
   ]
  },
  {
   "cell_type": "code",
   "execution_count": 8,
   "metadata": {
    "collapsed": true
   },
   "outputs": [],
   "source": [
    "def LUsolve(a,b):\n",
    "    n = len(a)\n",
    "    for k in range(1,n):\n",
    "        b[k] = b[k] - dot(a[k,0:k],b[0:k])\n",
    "    for k in range(n-1,-1,-1):\n",
    "        b[k] = (b[k] - dot(a[k,k+1:n],b[k+1:n]))/a[k,k]\n",
    "    return b"
   ]
  },
  {
   "cell_type": "markdown",
   "metadata": {},
   "source": [
    "## Gauss-Seidel method\n",
    "    Taken from PDF (or book).\n",
    "    Method was modified it to work in my code."
   ]
  },
  {
   "cell_type": "code",
   "execution_count": 30,
   "metadata": {
    "collapsed": false
   },
   "outputs": [],
   "source": [
    "def gaussSeidel(A, b, x0, w):\n",
    "    n = len(x0)\n",
    "    x = x0\n",
    "    for k in range(10):\n",
    "        for i in range(n):\n",
    "            s = 0\n",
    "            for j in range(n):\n",
    "                if j != i:\n",
    "                    s = s + A[i,j]*x[j]\n",
    "            x[i] = w/A[i,i]*(b[i] - s)+((1.0-w)*x[i])\n",
    "    return x"
   ]
  },
  {
   "cell_type": "markdown",
   "metadata": {},
   "source": [
    "## Problem 3\n",
    "    Write a Python program that solves Ax = b using LU decomposition.\n",
    "    Use the functions LUdecomp and LUsolve.\n",
    "### Solution\n",
    "    Using LUdecomp and LUsolve, that are taken from the PDF(or book) we got during class.\n"
   ]
  },
  {
   "cell_type": "code",
   "execution_count": 18,
   "metadata": {
    "collapsed": false
   },
   "outputs": [
    {
     "name": "stdout",
     "output_type": "stream",
     "text": [
      "[ 5  1 -2]\n"
     ]
    },
    {
     "data": {
      "text/plain": [
       "array([  7.,  13.,   5.])"
      ]
     },
     "execution_count": 18,
     "metadata": {},
     "output_type": "execute_result"
    }
   ],
   "source": [
    "A = array([[1.0,  4,  1],\n",
    "           [1,  6, -1],\n",
    "           [2, -1,  2]])\n",
    "\n",
    "b = array([7, 13, 5])\n",
    "\n",
    "C = A.copy()\n",
    "\n",
    "LUdecomp(A)\n",
    "x = LUsolve(A,b)\n",
    "print(x)\n",
    "\n",
    "# Testing that my solution is correct.\n",
    "dot(C,x)\n",
    "\n",
    "\n"
   ]
  },
  {
   "cell_type": "markdown",
   "metadata": {},
   "source": [
    "## Problem 6\n",
    "    Invert the following matrices with any method\n",
    "### Solution\n",
    "    Simply using inv()-method to do the inverting. \n",
    "    Array A can be inverted but array B cannot be. "
   ]
  },
  {
   "cell_type": "code",
   "execution_count": 27,
   "metadata": {
    "collapsed": false
   },
   "outputs": [
    {
     "name": "stdout",
     "output_type": "stream",
     "text": [
      "array([[ 1.,  1., -1., -0.],\n",
      "       [ 1.,  1., -1., -0.],\n",
      "       [ 2.,  2., -2., -1.],\n",
      "       [-1., -0.,  1.,  1.]])\n",
      "array([[ -7.42166231e+14,  -7.42166231e+14,  -7.42166231e+14,\n",
      "         -1.48433246e+15,   1.48433246e+15],\n",
      "       [ -3.52528960e+15,  -3.52528960e+15,  -3.52528960e+15,\n",
      "         -7.05057919e+15,   7.05057919e+15],\n",
      "       [ -5.90359502e+14,  -5.90359502e+14,  -5.90359502e+14,\n",
      "         -1.18071900e+15,   1.18071900e+15],\n",
      "       [ -0.00000000e+00,  -0.00000000e+00,   1.00000000e+00,\n",
      "          0.00000000e+00,  -0.00000000e+00],\n",
      "       [  1.50119988e+15,   1.50119988e+15,   1.50119988e+15,\n",
      "          3.00239975e+15,  -3.00239975e+15]])\n",
      "[[ 5. -3. -1.  0.]\n",
      " [-2.  1.  1.  1.]\n",
      " [ 3. -5.  1.  2.]\n",
      " [ 0.  8. -4. -3.]]\n"
     ]
    }
   ],
   "source": [
    "A = array([[ 5,  -3,  -1,  0],\n",
    "           [-2,   1,   1,  1],\n",
    "           [ 3,  -5,   1,  2],\n",
    "           [ 0,   8,  -4, -3]])\n",
    "\n",
    "B = array([[  1,  3,  -9,  6,  4],\n",
    "           [  2, -1,   6,  7,  1],\n",
    "           [  3,  2,  -3, 15,  5],\n",
    "           [  8, -1,   1,  4,  2],\n",
    "           [ 11,  1,  -2, 18,  7]])\n",
    "\n",
    "invA = inv(A)\n",
    "invB = inv(B) \n",
    "\n",
    "pprint(around(invA))\n",
    "pprint(around(invB)) \n",
    "\n",
    "resultA = around(dot(A, dot(A, invA)), 8)\n",
    "#proof of inv() working\n",
    "print(resultA)"
   ]
  },
  {
   "cell_type": "markdown",
   "metadata": {},
   "source": [
    "## Problem 9\n",
    "    Use the Gauss-Seidel with relaxation to solve Ax = b\n",
    "    Take xi = bi/Aii as the starting vector, and use w = 1.1 for the relaxation factor.\n",
    "    \n",
    "### Solution\n",
    "    Using gaussSeidel() method above."
   ]
  },
  {
   "cell_type": "code",
   "execution_count": 38,
   "metadata": {
    "collapsed": false
   },
   "outputs": [
    {
     "name": "stdout",
     "output_type": "stream",
     "text": [
      "[ 4.99999999  5.          5.          5.        ]\n"
     ]
    },
    {
     "data": {
      "text/plain": [
       "array([ 15.,  10.,  10.,  10.])"
      ]
     },
     "execution_count": 38,
     "metadata": {},
     "output_type": "execute_result"
    }
   ],
   "source": [
    "A = array([[ 4.0, -1,  0,  0],\n",
    "           [-1,  4, -1,  0],\n",
    "           [ 0, -1,  4, -1],\n",
    "           [ 0,  0, -1,  3]])\n",
    "\n",
    "b = array([15.0, 10, 10, 10])\n",
    "\n",
    "x0 = array([1.0,1.0,1.0,1.0])\n",
    "\n",
    "result = gaussSeidelRelaxation(A,b,x0,1.1)\n",
    "print(result)\n",
    "\n",
    "around(dot(A, result))"
   ]
  },
  {
   "cell_type": "code",
   "execution_count": null,
   "metadata": {
    "collapsed": true
   },
   "outputs": [],
   "source": []
  }
 ],
 "metadata": {
  "anaconda-cloud": {},
  "kernelspec": {
   "display_name": "Python [default]",
   "language": "python",
   "name": "python3"
  },
  "language_info": {
   "codemirror_mode": {
    "name": "ipython",
    "version": 3
   },
   "file_extension": ".py",
   "mimetype": "text/x-python",
   "name": "python",
   "nbconvert_exporter": "python",
   "pygments_lexer": "ipython3",
   "version": "3.5.2"
  }
 },
 "nbformat": 4,
 "nbformat_minor": 1
}
