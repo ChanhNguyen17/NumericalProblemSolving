{
 "cells": [
  {
   "cell_type": "markdown",
   "metadata": {},
   "source": [
    "# Assignment 5\n",
    "LU Decomposition, Inverse Matrix, and Gauss-Seidel method <br>\n",
    "Ali Çelik<br>\n",
    "26.02.2017"
   ]
  },
  {
   "cell_type": "code",
   "execution_count": 1,
   "metadata": {
    "collapsed": true
   },
   "outputs": [],
   "source": [
    "%matplotlib notebook\n",
    "import matplotlib.pyplot as plt\n",
    "import numpy as np\n",
    "from matplotlib.pyplot import *\n",
    "from numpy import *\n",
    "from scipy.linalg import lu,solve\n",
    "from pprint import pprint\n",
    "from scipy.linalg import lu_factor, lu_solve, inv"
   ]
  },
  {
   "cell_type": "markdown",
   "metadata": {},
   "source": [
    "## Problem 3"
   ]
  },
  {
   "cell_type": "markdown",
   "metadata": {},
   "source": [
    "Solve Ax=b by LU decomposition, use la_factor and la_solve:"
   ]
  },
  {
   "cell_type": "markdown",
   "metadata": {},
   "source": [
    "<b> Solution: </b>"
   ]
  },
  {
   "cell_type": "code",
   "execution_count": 2,
   "metadata": {
    "collapsed": false
   },
   "outputs": [
    {
     "data": {
      "text/plain": [
       "array([ 5.,  1., -2.])"
      ]
     },
     "execution_count": 2,
     "metadata": {},
     "output_type": "execute_result"
    }
   ],
   "source": [
    "A = array([1,4,1,1,6,-1,2,-1,2]).reshape(3,3)\n",
    "b = array([7,13,5])\n",
    "lu_solve(lu_factor(A),b)"
   ]
  },
  {
   "cell_type": "markdown",
   "metadata": {},
   "source": [
    "Basically we just used the default functions from scipy.linalg as we asked to do so."
   ]
  },
  {
   "cell_type": "markdown",
   "metadata": {},
   "source": [
    "## Problem 6"
   ]
  },
  {
   "cell_type": "markdown",
   "metadata": {},
   "source": [
    "Invert the following matrices by any method:"
   ]
  },
  {
   "cell_type": "markdown",
   "metadata": {},
   "source": [
    "<b> Solution: </b>"
   ]
  },
  {
   "cell_type": "code",
   "execution_count": 3,
   "metadata": {
    "collapsed": false
   },
   "outputs": [
    {
     "name": "stdout",
     "output_type": "stream",
     "text": [
      "A:\n",
      "array([[ 5,  3, -1,  0],\n",
      "       [-2,  1,  1,  1],\n",
      "       [ 3, -5,  1,  2],\n",
      "       [ 0,  8, -4, -3]])\n",
      "B:\n",
      "array([[ 1,  3, -9,  6,  4],\n",
      "       [ 2, -1,  6,  7,  1],\n",
      "       [ 3,  2, -3, 15,  5],\n",
      "       [ 8, -1,  1,  4,  2],\n",
      "       [11,  1, -2, 18,  7]])\n"
     ]
    }
   ],
   "source": [
    "A = array([5,3,-1,0,-2,1,1,1,3,-5,1,2,0,8,-4,-3]).reshape(4,4)\n",
    "B = array([1,3,-9,6,4,2,-1,6,7,1,3,2,-3,15,5,8,-1,1,4,2,11,1,-2,18,7]).reshape(5,5)\n",
    "print('A:')\n",
    "pprint(A)\n",
    "print('B:')\n",
    "pprint(B)\n"
   ]
  },
  {
   "cell_type": "markdown",
   "metadata": {},
   "source": [
    "So, let's use numpy.linalg.inv first;"
   ]
  },
  {
   "cell_type": "code",
   "execution_count": 4,
   "metadata": {
    "collapsed": false
   },
   "outputs": [
    {
     "name": "stdout",
     "output_type": "stream",
     "text": [
      "A inverse with inv(A):\n",
      "array([[ 0.19148936, -0.14893617, -0.08510638, -0.10638298],\n",
      "       [ 0.13829787,  0.17021277, -0.11702128, -0.0212766 ],\n",
      "       [ 0.37234043, -0.23404255, -0.77659574, -0.59574468],\n",
      "       [-0.12765957,  0.76595745,  0.72340426,  0.40425532]])\n",
      "B inverse with inv(B):\n",
      "array([[ -7.42166231e+14,  -7.42166231e+14,  -7.42166231e+14,\n",
      "         -1.48433246e+15,   1.48433246e+15],\n",
      "       [ -3.52528960e+15,  -3.52528960e+15,  -3.52528960e+15,\n",
      "         -7.05057919e+15,   7.05057919e+15],\n",
      "       [ -5.90359502e+14,  -5.90359502e+14,  -5.90359502e+14,\n",
      "         -1.18071900e+15,   1.18071900e+15],\n",
      "       [ -3.33333333e-01,  -3.33333333e-01,   6.66666667e-01,\n",
      "          3.33333333e-01,  -3.33333333e-01],\n",
      "       [  1.50119988e+15,   1.50119988e+15,   1.50119988e+15,\n",
      "          3.00239975e+15,  -3.00239975e+15]])\n"
     ]
    }
   ],
   "source": [
    "print('A inverse with inv(A):')\n",
    "pprint(inv(A))\n",
    "print('B inverse with inv(B):')\n",
    "pprint(inv(B))"
   ]
  },
  {
   "cell_type": "markdown",
   "metadata": {},
   "source": [
    "Now let's use the matInv function that we developed in the class;"
   ]
  },
  {
   "cell_type": "code",
   "execution_count": 5,
   "metadata": {
    "collapsed": true
   },
   "outputs": [],
   "source": [
    "def matInv(a):\n",
    "    n = len(a[0])\n",
    "    aInv = np.identity(n)\n",
    "    a = lu_factor(a) #We use this instead of the LUdecomp and Lusolve because they don't include pivotting\n",
    "    for i in range(n):\n",
    "        aInv[:,i] = lu_solve(a,aInv[:,i])\n",
    "    return aInv"
   ]
  },
  {
   "cell_type": "code",
   "execution_count": 6,
   "metadata": {
    "collapsed": false
   },
   "outputs": [
    {
     "name": "stdout",
     "output_type": "stream",
     "text": [
      "A inverse with matInv(A):\n",
      "array([[ 0.19148936, -0.14893617, -0.08510638, -0.10638298],\n",
      "       [ 0.13829787,  0.17021277, -0.11702128, -0.0212766 ],\n",
      "       [ 0.37234043, -0.23404255, -0.77659574, -0.59574468],\n",
      "       [-0.12765957,  0.76595745,  0.72340426,  0.40425532]])\n",
      "B inverse with matInv(B):\n",
      "array([[ -7.42166231e+14,  -7.42166231e+14,  -7.42166231e+14,\n",
      "         -1.48433246e+15,   1.48433246e+15],\n",
      "       [ -3.52528960e+15,  -3.52528960e+15,  -3.52528960e+15,\n",
      "         -7.05057919e+15,   7.05057919e+15],\n",
      "       [ -5.90359502e+14,  -5.90359502e+14,  -5.90359502e+14,\n",
      "         -1.18071900e+15,   1.18071900e+15],\n",
      "       [ -3.33333333e-01,  -3.33333333e-01,   6.66666667e-01,\n",
      "          3.33333333e-01,  -3.33333333e-01],\n",
      "       [  1.50119988e+15,   1.50119988e+15,   1.50119988e+15,\n",
      "          3.00239975e+15,  -3.00239975e+15]])\n"
     ]
    }
   ],
   "source": [
    "print('A inverse with matInv(A):')\n",
    "pprint(matInv(A))\n",
    "print('B inverse with matInv(B):')\n",
    "pprint(matInv(B))"
   ]
  },
  {
   "cell_type": "markdown",
   "metadata": {},
   "source": [
    "And now let's check the reliability of the results. As we know from our math classes, multiplication of a matrix with its inverse gives us the identity matrix. So, let's see if this will be the case with our inverses as well:"
   ]
  },
  {
   "cell_type": "code",
   "execution_count": 7,
   "metadata": {
    "collapsed": false
   },
   "outputs": [
    {
     "name": "stdout",
     "output_type": "stream",
     "text": [
      "Multiplication of A and inv(A):\n",
      "array([[ 1.,  0., -0.,  0.],\n",
      "       [-0.,  1.,  0.,  0.],\n",
      "       [-0.,  0.,  1.,  0.],\n",
      "       [ 0.,  0.,  0.,  1.]])\n",
      "Multiplication of B and inv(B):\n",
      "array([[-1.,  0., -2.,  0., -2.],\n",
      "       [ 0.,  1.,  0., -0.,  2.],\n",
      "       [-2., -0., -0.,  0., -2.],\n",
      "       [ 0., -1., -1., -2.,  5.],\n",
      "       [-1.,  0., -3., -2.,  6.]])\n"
     ]
    }
   ],
   "source": [
    "A_inverse = np.linalg.inv(A)\n",
    "B_inverse = np.linalg.inv(B)\n",
    "print('Multiplication of A and inv(A):')\n",
    "pprint(around(dot(A,A_inverse)))\n",
    "print('Multiplication of B and inv(B):')\n",
    "pprint(around(dot(B,B_inverse)))"
   ]
  },
  {
   "cell_type": "markdown",
   "metadata": {},
   "source": [
    "And now let's check with our matInv function:"
   ]
  },
  {
   "cell_type": "code",
   "execution_count": 8,
   "metadata": {
    "collapsed": false
   },
   "outputs": [
    {
     "name": "stdout",
     "output_type": "stream",
     "text": [
      "Multiplication of A and matInv(A):\n",
      "array([[ 1.,  0.,  0.,  0.],\n",
      "       [ 0.,  1.,  0., -0.],\n",
      "       [-0.,  0.,  1.,  0.],\n",
      "       [ 0.,  0.,  0.,  1.]])\n",
      "Multiplication of B and matInv(B):\n",
      "array([[ 0.,  0., -2.,  0., -2.],\n",
      "       [ 0.,  1.,  0., -0.,  2.],\n",
      "       [-0., -0., -0.,  0., -2.],\n",
      "       [-0., -1., -1., -2.,  5.],\n",
      "       [-2.,  0., -3., -2.,  6.]])\n"
     ]
    }
   ],
   "source": [
    "print('Multiplication of A and matInv(A):')\n",
    "pprint(around(dot(A,matInv(A))))\n",
    "print('Multiplication of B and matInv(B):')\n",
    "pprint(around(dot(B,matInv(B))))"
   ]
  },
  {
   "cell_type": "markdown",
   "metadata": {},
   "source": [
    "Conclusion; As we can see from the results matrix inverse function worked fine with the 4x4 matrix A, but there seems to be an issue with the 5x5 matrix B. For different types of matrices, different methods should be considered when taking inverses. "
   ]
  },
  {
   "cell_type": "markdown",
   "metadata": {},
   "source": [
    "## Problem 9"
   ]
  },
  {
   "cell_type": "markdown",
   "metadata": {},
   "source": [
    "Use Gauss-Seidel with relaxation to solve Ax=b, relaxation w=1.1"
   ]
  },
  {
   "cell_type": "markdown",
   "metadata": {},
   "source": [
    "<b> Solution: </b>"
   ]
  },
  {
   "cell_type": "code",
   "execution_count": 9,
   "metadata": {
    "collapsed": true
   },
   "outputs": [],
   "source": [
    "def gaussSeidelWithRelaxation(a, b, x0,w): #w is the relaxation number\n",
    "    n = len(x0)\n",
    "    x = x0\n",
    "    for k in range(10):\n",
    "        for i in range(n):\n",
    "            sum_total = 0\n",
    "            for j in range(n):\n",
    "                if j != i:\n",
    "                    sum_total = sum_total + A[i,j]*x[j]\n",
    "            x[i] = (w/A[i,i]*(b[i] - sum_total)) + (1-w)*x[i]\n",
    "    return x"
   ]
  },
  {
   "cell_type": "code",
   "execution_count": 10,
   "metadata": {
    "collapsed": false
   },
   "outputs": [
    {
     "data": {
      "text/plain": [
       "array([ 4.99999999,  5.        ,  5.        ,  5.        ])"
      ]
     },
     "execution_count": 10,
     "metadata": {},
     "output_type": "execute_result"
    }
   ],
   "source": [
    "A = array([4,-1,0,0,-1,4,-1,0,0,-1,4,-1,0,0,-1,3]).reshape(4,4)\n",
    "b = array([15,10,10,10])\n",
    "x0 = array([1.0,1.0,1.0,1.0])\n",
    "x = gaussSeidelWithRelaxation(A,b,x0,1.1)\n",
    "x\n"
   ]
  },
  {
   "cell_type": "markdown",
   "metadata": {},
   "source": [
    "And to see if the result is correct, we can compare it with the solve(A,b):"
   ]
  },
  {
   "cell_type": "code",
   "execution_count": 11,
   "metadata": {
    "collapsed": false
   },
   "outputs": [
    {
     "data": {
      "text/plain": [
       "array([ 5.,  5.,  5.,  5.])"
      ]
     },
     "execution_count": 11,
     "metadata": {},
     "output_type": "execute_result"
    }
   ],
   "source": [
    "solve(A,b)"
   ]
  },
  {
   "cell_type": "markdown",
   "metadata": {},
   "source": [
    "As we can see from the solve( ) function, the Gauss-Seidel with relaxation works well."
   ]
  },
  {
   "cell_type": "code",
   "execution_count": null,
   "metadata": {
    "collapsed": true
   },
   "outputs": [],
   "source": []
  }
 ],
 "metadata": {
  "kernelspec": {
   "display_name": "Python 3",
   "language": "python",
   "name": "python3"
  },
  "language_info": {
   "codemirror_mode": {
    "name": "ipython",
    "version": 3
   },
   "file_extension": ".py",
   "mimetype": "text/x-python",
   "name": "python",
   "nbconvert_exporter": "python",
   "pygments_lexer": "ipython3",
   "version": "3.5.2"
  }
 },
 "nbformat": 4,
 "nbformat_minor": 1
}
