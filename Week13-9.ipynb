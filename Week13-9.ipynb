{
 "cells": [
  {
   "cell_type": "markdown",
   "metadata": {},
   "source": [
    "# Week 13 - 9\n",
    "Numerical Integration and Differentiation\n"
   ]
  },
  {
   "cell_type": "code",
   "execution_count": 1,
   "metadata": {
    "collapsed": false
   },
   "outputs": [
    {
     "name": "stdout",
     "output_type": "stream",
     "text": [
      "Populating the interactive namespace from numpy and matplotlib\n"
     ]
    }
   ],
   "source": [
    "%pylab inline\n",
    "from scipy.integrate import trapz, quad, simps"
   ]
  },
  {
   "cell_type": "markdown",
   "metadata": {},
   "source": [
    "## Problem 1\n",
    "\n",
    "Solve\n",
    "\n",
    " $$\\int_0^{pi/2} (8+4cosx)\\mathrm{d}x$$"
   ]
  },
  {
   "cell_type": "markdown",
   "metadata": {},
   "source": [
    "**a) Analytically**"
   ]
  },
  {
   "cell_type": "markdown",
   "metadata": {},
   "source": [
    "For analytical solution the following code was used in separate Notebook:\n",
    "\n",
    "    from sympy import integrate, symbols, cos, pi\n",
    "    x = symbols('x')\n",
    "    integrate(8 + 4*cos(x), (x, 0, pi/2)).evalf()\n",
    "    \n",
    "Solution:\n",
    "\n",
    "    16.5663706143592"
   ]
  },
  {
   "cell_type": "code",
   "execution_count": 2,
   "metadata": {
    "collapsed": true
   },
   "outputs": [],
   "source": [
    "I_true = 16.5663706143592"
   ]
  },
  {
   "cell_type": "markdown",
   "metadata": {},
   "source": [
    "**b) Single application of the trapezoidal rule**"
   ]
  },
  {
   "cell_type": "code",
   "execution_count": 3,
   "metadata": {
    "collapsed": false
   },
   "outputs": [
    {
     "data": {
      "text/plain": [
       "15.707963267948966"
      ]
     },
     "execution_count": 3,
     "metadata": {},
     "output_type": "execute_result"
    }
   ],
   "source": [
    "def f(x):\n",
    "    return 8 + 4*cos(x)\n",
    "\n",
    "# Trapezoidal rule\n",
    "a = 0\n",
    "b = pi/2\n",
    "I = (b-a)*(f(a) + f(b))/2\n",
    "I"
   ]
  },
  {
   "cell_type": "code",
   "execution_count": 4,
   "metadata": {
    "collapsed": false
   },
   "outputs": [
    {
     "data": {
      "text/plain": [
       "0.051816258756531453"
      ]
     },
     "execution_count": 4,
     "metadata": {},
     "output_type": "execute_result"
    }
   ],
   "source": [
    "# Relative true error\n",
    "abs((I_true - I)/I_true)"
   ]
  },
  {
   "cell_type": "markdown",
   "metadata": {},
   "source": [
    "**c) Multiple-application trapezoidal rule, with n = 2 and n = 4**"
   ]
  },
  {
   "cell_type": "markdown",
   "metadata": {},
   "source": [
    "When n = 2;"
   ]
  },
  {
   "cell_type": "code",
   "execution_count": 5,
   "metadata": {
    "collapsed": false
   },
   "outputs": [
    {
     "data": {
      "text/plain": [
       "16.358608410233252"
      ]
     },
     "execution_count": 5,
     "metadata": {},
     "output_type": "execute_result"
    }
   ],
   "source": [
    "a = 0\n",
    "b = pi/2\n",
    "n = 2\n",
    "x = linspace(a,b,n+1)\n",
    "y = f(x)\n",
    "I2 = trapz(y,x)\n",
    "I2"
   ]
  },
  {
   "cell_type": "code",
   "execution_count": 6,
   "metadata": {
    "collapsed": false
   },
   "outputs": [
    {
     "data": {
      "text/plain": [
       "0.012541202232060846"
      ]
     },
     "execution_count": 6,
     "metadata": {},
     "output_type": "execute_result"
    }
   ],
   "source": [
    "# Relative true error\n",
    "abs((I_true - I2)/I_true)"
   ]
  },
  {
   "cell_type": "markdown",
   "metadata": {},
   "source": [
    "When n = 4;"
   ]
  },
  {
   "cell_type": "code",
   "execution_count": 7,
   "metadata": {
    "collapsed": false
   },
   "outputs": [
    {
     "data": {
      "text/plain": [
       "16.514833818250274"
      ]
     },
     "execution_count": 7,
     "metadata": {},
     "output_type": "execute_result"
    }
   ],
   "source": [
    "a = 0\n",
    "b = pi/2\n",
    "n = 4\n",
    "x = linspace(a,b,n+1)\n",
    "y = f(x)\n",
    "I3 = trapz(y,x)\n",
    "I3"
   ]
  },
  {
   "cell_type": "code",
   "execution_count": 8,
   "metadata": {
    "collapsed": false
   },
   "outputs": [
    {
     "data": {
      "text/plain": [
       "0.0031109285979788693"
      ]
     },
     "execution_count": 8,
     "metadata": {},
     "output_type": "execute_result"
    }
   ],
   "source": [
    "# Relative true error\n",
    "abs((I_true - I3)/I_true)"
   ]
  },
  {
   "cell_type": "markdown",
   "metadata": {},
   "source": [
    "**d) Single application of Simpson's 1/3 rule**"
   ]
  },
  {
   "cell_type": "code",
   "execution_count": 9,
   "metadata": {
    "collapsed": false
   },
   "outputs": [
    {
     "data": {
      "text/plain": [
       "16.566475863041546"
      ]
     },
     "execution_count": 9,
     "metadata": {},
     "output_type": "execute_result"
    }
   ],
   "source": [
    "# Number of strips\n",
    "n = 6\n",
    "x = linspace(a, b, n + 1)\n",
    "y = f(x)\n",
    "I4 = simps(y, x)\n",
    "I4"
   ]
  },
  {
   "cell_type": "code",
   "execution_count": 10,
   "metadata": {
    "collapsed": false
   },
   "outputs": [
    {
     "data": {
      "text/plain": [
       "6.3531527089088803e-06"
      ]
     },
     "execution_count": 10,
     "metadata": {},
     "output_type": "execute_result"
    }
   ],
   "source": [
    "# Relative true error\n",
    "abs((I_true - I4)/I_true)"
   ]
  },
  {
   "cell_type": "markdown",
   "metadata": {},
   "source": [
    "**e) Multiple-application Simpson's rule, with n = 5**"
   ]
  },
  {
   "cell_type": "code",
   "execution_count": 11,
   "metadata": {
    "collapsed": false
   },
   "outputs": [],
   "source": [
    "def simpsonMultiple(f, a, b, n):\n",
    "    m=0.0\n",
    "    x=a + (b-a)/n\n",
    "    for i in range(1,int(n/2) + 1):\n",
    "        m += 4*f(x)\n",
    "        x += 2*(b-a)/n\n",
    "    x = a + 2*(b-a)/n\n",
    "    for i in range(1,int(n/2)):\n",
    "        m += 2*f(x)\n",
    "        x += 2*(b-a)/n\n",
    "    return (((b-a)/n)/3)*(f(a)+f(b)+m)"
   ]
  },
  {
   "cell_type": "code",
   "execution_count": 12,
   "metadata": {
    "collapsed": false
   },
   "outputs": [
    {
     "data": {
      "text/plain": [
       "13.728090135065084"
      ]
     },
     "execution_count": 12,
     "metadata": {},
     "output_type": "execute_result"
    }
   ],
   "source": [
    "I5 = simpsonMultiple(f,a,b,5)\n",
    "I5"
   ]
  },
  {
   "cell_type": "code",
   "execution_count": 13,
   "metadata": {
    "collapsed": false
   },
   "outputs": [
    {
     "data": {
      "text/plain": [
       "0.17132783911244781"
      ]
     },
     "execution_count": 13,
     "metadata": {},
     "output_type": "execute_result"
    }
   ],
   "source": [
    "# Relative true error\n",
    "abs((I_true - I5)/I_true)"
   ]
  },
  {
   "cell_type": "markdown",
   "metadata": {},
   "source": [
    "## Problem 2\n",
    "\n",
    "Solve\n",
    "\n",
    " $$\\int_1^{3} (1-e^{-x})\\mathrm{d}x$$"
   ]
  },
  {
   "cell_type": "markdown",
   "metadata": {},
   "source": [
    "**a) Analytically**"
   ]
  },
  {
   "cell_type": "markdown",
   "metadata": {},
   "source": [
    "For analytical solution the following code was used in separate Notebook:\n",
    "\n",
    "    from sympy import integrate, symbols\n",
    "    from mpmath import e\n",
    "    integrate(1-e**(-x), (x, 1, 3)).evalf()\n",
    "    \n",
    "Solution:\n",
    "\n",
    "    1.68190762719642"
   ]
  },
  {
   "cell_type": "code",
   "execution_count": 14,
   "metadata": {
    "collapsed": true
   },
   "outputs": [],
   "source": [
    "I_true = 1.68190762719642"
   ]
  },
  {
   "cell_type": "markdown",
   "metadata": {},
   "source": [
    "**b) Single application of the trapezoidal rule**"
   ]
  },
  {
   "cell_type": "code",
   "execution_count": 15,
   "metadata": {
    "collapsed": false
   },
   "outputs": [
    {
     "data": {
      "text/plain": [
       "1.5823334904606936"
      ]
     },
     "execution_count": 15,
     "metadata": {},
     "output_type": "execute_result"
    }
   ],
   "source": [
    "def f2(x):\n",
    "    return 1-e**(-x)\n",
    "\n",
    "# Trapezoidal rule\n",
    "a = 1\n",
    "b = 3\n",
    "I = (b-a)*(f2(a) + f2(b))/2\n",
    "I"
   ]
  },
  {
   "cell_type": "code",
   "execution_count": 16,
   "metadata": {
    "collapsed": false
   },
   "outputs": [
    {
     "data": {
      "text/plain": [
       "0.05920309482257772"
      ]
     },
     "execution_count": 16,
     "metadata": {},
     "output_type": "execute_result"
    }
   ],
   "source": [
    "# Relative true error\n",
    "abs((I_true - I)/I_true)"
   ]
  },
  {
   "cell_type": "markdown",
   "metadata": {},
   "source": [
    "**c) Multiple-application trapezoidal rule, with n = 2 and n = 4**"
   ]
  },
  {
   "cell_type": "markdown",
   "metadata": {},
   "source": [
    "When n = 2;"
   ]
  },
  {
   "cell_type": "code",
   "execution_count": 17,
   "metadata": {
    "collapsed": false
   },
   "outputs": [
    {
     "data": {
      "text/plain": [
       "1.655831461993734"
      ]
     },
     "execution_count": 17,
     "metadata": {},
     "output_type": "execute_result"
    }
   ],
   "source": [
    "a = 1\n",
    "b = 3\n",
    "n = 2\n",
    "x = linspace(a,b,n+1)\n",
    "y = f2(x)\n",
    "I2 = trapz(y,x)\n",
    "I2"
   ]
  },
  {
   "cell_type": "code",
   "execution_count": 18,
   "metadata": {
    "collapsed": false
   },
   "outputs": [
    {
     "data": {
      "text/plain": [
       "0.015503922320723671"
      ]
     },
     "execution_count": 18,
     "metadata": {},
     "output_type": "execute_result"
    }
   ],
   "source": [
    "# Relative true error\n",
    "abs((I_true - I2)/I_true)"
   ]
  },
  {
   "cell_type": "markdown",
   "metadata": {},
   "source": [
    "When n = 4;"
   ]
  },
  {
   "cell_type": "code",
   "execution_count": 19,
   "metadata": {
    "collapsed": false
   },
   "outputs": [
    {
     "data": {
      "text/plain": [
       "1.6753081516107027"
      ]
     },
     "execution_count": 19,
     "metadata": {},
     "output_type": "execute_result"
    }
   ],
   "source": [
    "a = 1\n",
    "b = 3\n",
    "n = 4\n",
    "x = linspace(a,b,n+1)\n",
    "y = f2(x)\n",
    "I3 = trapz(y,x)\n",
    "I3"
   ]
  },
  {
   "cell_type": "code",
   "execution_count": 20,
   "metadata": {
    "collapsed": false
   },
   "outputs": [
    {
     "data": {
      "text/plain": [
       "0.0039238038278701258"
      ]
     },
     "execution_count": 20,
     "metadata": {},
     "output_type": "execute_result"
    }
   ],
   "source": [
    "# Relative true error\n",
    "abs((I_true - I3)/I_true)"
   ]
  },
  {
   "cell_type": "markdown",
   "metadata": {},
   "source": [
    "**d) Single application of Simpson's 1/3 rule**"
   ]
  },
  {
   "cell_type": "code",
   "execution_count": 21,
   "metadata": {
    "collapsed": false
   },
   "outputs": [
    {
     "data": {
      "text/plain": [
       "1.6818860954173551"
      ]
     },
     "execution_count": 21,
     "metadata": {},
     "output_type": "execute_result"
    }
   ],
   "source": [
    "# Number of strips\n",
    "n = 6\n",
    "x = linspace(a, b, n + 1)\n",
    "y = f2(x)\n",
    "I4 = simps(y, x)\n",
    "I4"
   ]
  },
  {
   "cell_type": "code",
   "execution_count": 22,
   "metadata": {
    "collapsed": false
   },
   "outputs": [
    {
     "data": {
      "text/plain": [
       "1.2801998585810061e-05"
      ]
     },
     "execution_count": 22,
     "metadata": {},
     "output_type": "execute_result"
    }
   ],
   "source": [
    "# Relative true error\n",
    "abs((I_true - I4)/I_true)"
   ]
  },
  {
   "cell_type": "markdown",
   "metadata": {},
   "source": [
    "**e) Multiple-application Simpson's 1/3 rule, with n = 4**"
   ]
  },
  {
   "cell_type": "code",
   "execution_count": 23,
   "metadata": {
    "collapsed": false
   },
   "outputs": [
    {
     "data": {
      "text/plain": [
       "1.6818003814830256"
      ]
     },
     "execution_count": 23,
     "metadata": {},
     "output_type": "execute_result"
    }
   ],
   "source": [
    "I5 = simpsonMultiple(f2,a,b,4)\n",
    "I5"
   ]
  },
  {
   "cell_type": "code",
   "execution_count": 24,
   "metadata": {
    "collapsed": false
   },
   "outputs": [
    {
     "data": {
      "text/plain": [
       "6.376433025227763e-05"
      ]
     },
     "execution_count": 24,
     "metadata": {},
     "output_type": "execute_result"
    }
   ],
   "source": [
    "# Relative true error\n",
    "abs((I_true - I5)/I_true)"
   ]
  },
  {
   "cell_type": "markdown",
   "metadata": {},
   "source": [
    "**f) Multiple-application Simpson's rule, with n = 5.**"
   ]
  },
  {
   "cell_type": "code",
   "execution_count": 25,
   "metadata": {
    "collapsed": false
   },
   "outputs": [
    {
     "data": {
      "text/plain": [
       "1.3096180299735678"
      ]
     },
     "execution_count": 25,
     "metadata": {},
     "output_type": "execute_result"
    }
   ],
   "source": [
    "I6 = simpsonMultiple(f2,a,b,5)\n",
    "I6"
   ]
  },
  {
   "cell_type": "code",
   "execution_count": 26,
   "metadata": {
    "collapsed": false
   },
   "outputs": [
    {
     "data": {
      "text/plain": [
       "0.22134960993275446"
      ]
     },
     "execution_count": 26,
     "metadata": {},
     "output_type": "execute_result"
    }
   ],
   "source": [
    "# Relative true error\n",
    "abs((I_true - I6)/I_true)"
   ]
  },
  {
   "cell_type": "markdown",
   "metadata": {},
   "source": [
    "## Problem 4\n",
    "\n",
    "Integrate the following function analytically and using the trapezoidal rule, with n = 1; 2; 3;...; 20:\n",
    "\n",
    "$$\\int_1^{2} (x+1/x)^{2}\\mathrm{d}x$$"
   ]
  },
  {
   "cell_type": "markdown",
   "metadata": {},
   "source": [
    "**a) Analytically**"
   ]
  },
  {
   "cell_type": "markdown",
   "metadata": {},
   "source": [
    "For analytical solution the following code was used in separate Notebook:\n",
    "\n",
    "    from sympy import integrate, symbols\n",
    "    integrate((x+1/x)**2, (x, 1, 2)).evalf()\n",
    "    \n",
    "Solution:\n",
    "\n",
    "    4.83333333333333"
   ]
  },
  {
   "cell_type": "code",
   "execution_count": 27,
   "metadata": {
    "collapsed": true
   },
   "outputs": [],
   "source": [
    "I_true = 4.83333333333333"
   ]
  },
  {
   "cell_type": "markdown",
   "metadata": {},
   "source": [
    "**b) Trapezoidal rule**"
   ]
  },
  {
   "cell_type": "code",
   "execution_count": 28,
   "metadata": {
    "collapsed": true
   },
   "outputs": [],
   "source": [
    "def f3(x):\n",
    "    return (x+1/x)**2\n",
    "a = 1\n",
    "b = 2"
   ]
  },
  {
   "cell_type": "code",
   "execution_count": 29,
   "metadata": {
    "collapsed": true
   },
   "outputs": [],
   "source": [
    "def trapezoidalMultiple(f,a,b,n):\n",
    "    s1 = 0.0\n",
    "    for i in range(1,n-1):\n",
    "        s1 += f(i) + f(n)\n",
    "    return (b-a)*((f(a)+(2*s1))/2*n)"
   ]
  },
  {
   "cell_type": "code",
   "execution_count": 30,
   "metadata": {
    "collapsed": false
   },
   "outputs": [
    {
     "name": "stdout",
     "output_type": "stream",
     "text": [
      "When n =  1 :  2.0\n",
      "When n =  2 :  4.0\n",
      "When n =  3 :  51.33333333333334\n",
      "When n =  4 :  193.5\n",
      "When n =  5 :  522.4055555555556\n",
      "When n =  6 :  1161.2083333333335\n",
      "When n =  7 :  2264.959563492064\n",
      "When n =  8 :  4020.681111111111\n",
      "When n =  9 :  6647.383951247166\n",
      "When n =  10 :  10396.074220521541\n",
      "When n =  11 :  15549.755626861015\n",
      "When n =  12 :  22423.430546107335\n",
      "When n =  13 :  31364.100572367843\n",
      "When n =  14 :  42750.76681579504\n",
      "When n =  15 :  56994.43007363942\n",
      "When n =  16 :  74538.09093342401\n",
      "When n =  17 :  95856.74983775975\n",
      "When n =  18 :  121457.40712649091\n",
      "When n =  19 :  151879.06306492223\n",
      "When n =  20 :  187692.71786321624\n"
     ]
    }
   ],
   "source": [
    "for i in range (1,21):\n",
    "    print (\"When n = \",i ,\": \", trapezoidalMultiple(f3,a,b,i))"
   ]
  },
  {
   "cell_type": "markdown",
   "metadata": {},
   "source": [
    "And the relative true errors; "
   ]
  },
  {
   "cell_type": "code",
   "execution_count": 31,
   "metadata": {
    "collapsed": false
   },
   "outputs": [
    {
     "name": "stdout",
     "output_type": "stream",
     "text": [
      "When n =  1 :  0.5862068965517239\n",
      "When n =  2 :  0.17241379310344776\n",
      "When n =  3 :  9.620689655172423\n",
      "When n =  4 :  39.03448275862071\n",
      "When n =  5 :  107.08390804597707\n",
      "When n =  6 :  239.2500000000002\n",
      "When n =  7 :  467.6123234811169\n",
      "When n =  8 :  830.8650574712648\n",
      "When n =  9 :  1374.3208174994145\n",
      "When n =  10 :  2149.9119076941133\n",
      "When n =  11 :  3216.190819350557\n",
      "When n =  12 :  4638.330457815314\n",
      "When n =  13 :  6488.124256351972\n",
      "When n =  14 :  8843.986237750703\n",
      "When n =  15 :  11790.951049718507\n",
      "When n =  16 :  15420.673986225669\n",
      "When n =  17 :  19831.431000915825\n",
      "When n =  18 :  25128.118715825723\n",
      "When n =  19 :  31422.254427225307\n",
      "When n =  20 :  38831.97610963097\n"
     ]
    }
   ],
   "source": [
    "for i in range(1,21):\n",
    "    print (\"When n = \",i,\": \",abs((I_true - trapezoidalMultiple(f3,a,b,i))/I_true))"
   ]
  },
  {
   "cell_type": "markdown",
   "metadata": {},
   "source": [
    "Looks like for Multiple Trapezoidal method increasing the n does not a good idea."
   ]
  },
  {
   "cell_type": "code",
   "execution_count": null,
   "metadata": {
    "collapsed": true
   },
   "outputs": [],
   "source": []
  }
 ],
 "metadata": {
  "kernelspec": {
   "display_name": "Python 3",
   "language": "python",
   "name": "python3"
  },
  "language_info": {
   "codemirror_mode": {
    "name": "ipython",
    "version": 3
   },
   "file_extension": ".py",
   "mimetype": "text/x-python",
   "name": "python",
   "nbconvert_exporter": "python",
   "pygments_lexer": "ipython3",
   "version": "3.6.0"
  }
 },
 "nbformat": 4,
 "nbformat_minor": 1
}
