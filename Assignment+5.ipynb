{
 "cells": [
  {
   "cell_type": "markdown",
   "metadata": {},
   "source": [
    "# Assignment 05\n",
    "## LU Decomposition, Matrix Inversion and Gauss-Seidel\n",
    "15.2.2017, William Smith"
   ]
  },
  {
   "cell_type": "code",
   "execution_count": 2,
   "metadata": {
    "collapsed": true
   },
   "outputs": [],
   "source": [
    "#initial import statements\n",
    "%matplotlib notebook\n",
    "import matplotlib.pyplot as plt\n",
    "import numpy as np\n",
    "from matplotlib.pyplot import *\n",
    "from numpy import *"
   ]
  },
  {
   "cell_type": "markdown",
   "metadata": {},
   "source": [
    "## Problem 1\n",
    "Given LU decomposition A = LU, determine A\n",
    "\n",
    "I believe the solution is dot(LU) = A"
   ]
  },
  {
   "cell_type": "code",
   "execution_count": 3,
   "metadata": {
    "collapsed": false
   },
   "outputs": [
    {
     "name": "stdout",
     "output_type": "stream",
     "text": [
      "[[  1.   2.   4.]\n",
      " [  1.   5.  25.]\n",
      " [  1.   7.  39.]]\n"
     ]
    }
   ],
   "source": [
    "from scipy.linalg import lu, solve\n",
    "from pprint import pprint\n",
    "\n",
    "L = array([ [1,0,0],[1,1,0],[1, 5.0/3.0, 1] ])\n",
    "U = array([ [1,2,4],[0,3,21],[0,0,0] ])\n",
    "\n",
    "A = dot(L,U)\n",
    "print(A)"
   ]
  },
  {
   "cell_type": "markdown",
   "metadata": {},
   "source": [
    "## Problem 2\n",
    "Use the results of LU decomposition to solve Ax = b, where b^T = [1,-1,2]\n",
    "\n",
    "I believe the solution for x is to use lu() function with the given LU decomposition for A and b^T"
   ]
  },
  {
   "cell_type": "code",
   "execution_count": 4,
   "metadata": {
    "collapsed": false
   },
   "outputs": [
    {
     "name": "stdout",
     "output_type": "stream",
     "text": [
      "x:\n",
      "array([ 1.84375,  0.40625,  1.46875])\n"
     ]
    },
    {
     "data": {
      "text/plain": [
       "array([ 1.84375,  0.40625,  1.46875])"
      ]
     },
     "execution_count": 4,
     "metadata": {},
     "output_type": "execute_result"
    }
   ],
   "source": [
    "L = array([ [1,0,0],[3/2,1,0],[1/2,11/13,1] ])\n",
    "U = array([ [2,-3,-1],[0,13/2,-7/2],[0,0,32/13] ])\n",
    "b = array([1,-1,2])\n",
    "\n",
    "A = dot(L,U)\n",
    "\n",
    "y = solve(L, b)\n",
    "x = solve(U,y)\n",
    "\n",
    "print(\"x:\")\n",
    "pprint(x)\n",
    "\n",
    "solve(A,b)"
   ]
  },
  {
   "cell_type": "markdown",
   "metadata": {},
   "source": [
    "## Problem 3\n",
    "Write a program that solves Ax = b using LU decomposition.\n",
    "Use the functions LUdecomp and LUsolve."
   ]
  },
  {
   "cell_type": "code",
   "execution_count": 5,
   "metadata": {
    "collapsed": false
   },
   "outputs": [
    {
     "data": {
      "text/plain": [
       "array([  7.,  13.,   5.])"
      ]
     },
     "execution_count": 5,
     "metadata": {},
     "output_type": "execute_result"
    }
   ],
   "source": [
    "#be careful with integer division\n",
    "#for this reason I made the first elements in A and B reals\n",
    "\n",
    "A = array([ [1.0,4,1], [1,6,-1],[2,-1,2] ])\n",
    "b = array([7.0,13,5])\n",
    "C = A.copy()\n",
    "\n",
    "#the LUdecomp is coming from book example\n",
    "def LUdecomp(a):\n",
    "    n = len(a)\n",
    "    for k in range(0,n-1):\n",
    "        for i in range(k+1,n):\n",
    "            if [a,k] != 0.0:\n",
    "                lam = a[i,k]/a[k,k]\n",
    "                a[i,k+1:n] = a[i,k+1:n] - lam*a[k,k+1:n]\n",
    "                a[i,k] = lam\n",
    "    return a\n",
    "\n",
    "#the LUsolve is coming from book example\n",
    "def LUsolve(a,b):\n",
    "    n = len(a)\n",
    "    for k in range(1,n):\n",
    "        b[k] = b[k] - dot(a[k,0:k],b[0:k])\n",
    "    for k in range(n-1,-1,-1):\n",
    "        b[k] = (b[k] - dot(a[k,k+1:n],b[k+1:n]))/a[k,k]\n",
    "    return b\n",
    "\n",
    "LUdecomp(A)\n",
    "x = LUsolve(A,b)\n",
    "\n",
    "#checking answer\n",
    "A = array([ [1,4,1], [1,6,-1],[2,-1,2] ])\n",
    "b = array([7,13,5])\n",
    "dot(A,x)"
   ]
  },
  {
   "cell_type": "markdown",
   "metadata": {},
   "source": [
    "## Problem 4\n",
    "Write a function that inverts a matrix. Test the function by inverting.\n",
    "\n",
    "My solution is to use the inv() function and then compare results with written function."
   ]
  },
  {
   "cell_type": "code",
   "execution_count": 6,
   "metadata": {
    "collapsed": false
   },
   "outputs": [
    {
     "name": "stdout",
     "output_type": "stream",
     "text": [
      "[[ 1.66666667 -2.22222222 -1.11111111]\n",
      " [ 1.25       -0.83333333 -1.66666667]\n",
      " [ 0.5         1.          0.        ]]\n",
      "[[ 1.66666667 -2.22222222 -1.11111111]\n",
      " [ 1.25       -0.83333333 -1.66666667]\n",
      " [ 0.5         1.          0.        ]]\n"
     ]
    },
    {
     "data": {
      "text/plain": [
       "array([[False,  True,  True],\n",
       "       [ True,  True,  True],\n",
       "       [ True,  True,  True]], dtype=bool)"
      ]
     },
     "execution_count": 6,
     "metadata": {},
     "output_type": "execute_result"
    }
   ],
   "source": [
    "from scipy.linalg import inv, lu_factor, lu_solve\n",
    "\n",
    "A = array([0.6, -0.4, 1.0, -0.3, 0.2, 0.5, 0.6, -1.0, 0.5]).reshape(3,3)\n",
    "aInv = inv(A)\n",
    "\n",
    "def inverse(a):\n",
    "    n = len(a[0])\n",
    "    aInv = np.identity(n)\n",
    "    a = lu_factor(a)\n",
    "    for i in range(n):\n",
    "        aInv[:,i] = lu_solve(a,aInv[:,i])\n",
    "    return aInv\n",
    "\n",
    "#results match up\n",
    "print(inverse(A))\n",
    "print(inv(A))\n",
    "\n",
    "#this is funny because the first elements do not match, must be rounding error\n",
    "inverse(A)==inv(A) "
   ]
  },
  {
   "cell_type": "markdown",
   "metadata": {},
   "source": [
    "## Problem 5\n",
    "Invert the triangular matrices. What do you observe?"
   ]
  },
  {
   "cell_type": "code",
   "execution_count": 7,
   "metadata": {
    "collapsed": false,
    "scrolled": true
   },
   "outputs": [
    {
     "name": "stdout",
     "output_type": "stream",
     "text": [
      "Here are the inverses for LU of A matrix\n",
      "[[ 1.  0. -0.]\n",
      " [ 0.  1. -0.]\n",
      " [ 0.  0.  1.]]\n",
      "[[ 0.5        -0.33333333  0.08333333]\n",
      " [ 0.          0.16666667 -0.41666667]\n",
      " [ 0.          0.          0.5       ]]\n",
      "\n",
      "Here are the inverses for LU of B matrix\n",
      "[[ 1.  -0.  -0. ]\n",
      " [-0.5  1.  -0. ]\n",
      " [-0.8  0.1  1. ]]\n",
      "[[ 0.25        0.5         0.        ]\n",
      " [ 0.         -0.4         0.25      ]\n",
      " [ 0.          0.         -0.20833333]]\n"
     ]
    }
   ],
   "source": [
    "A = array([2,4,3,0,6,5,0,0,2]).reshape(3,3)\n",
    "B = array([2,0,0,3,4,0,4,5,6]).reshape(3,3)\n",
    "\n",
    "Pa,La,Ua = lu(A)\n",
    "Pb,Lb,Ub = lu(B)\n",
    "\n",
    "print(\"Here are the inverses for LU of A matrix\")\n",
    "LaInv = inv(La)\n",
    "print(LaInv)\n",
    "UaInv = inv(Ua)\n",
    "print(UaInv)\n",
    "\n",
    "print(\"\\nHere are the inverses for LU of B matrix\")\n",
    "LbInv = inv(Lb)\n",
    "print(LbInv)\n",
    "\n",
    "UbInv = inv(Ub)\n",
    "print(UbInv)"
   ]
  },
  {
   "cell_type": "markdown",
   "metadata": {},
   "source": [
    "Did not observer anything special. But I think I was supposed to compare the inverse of A and B not there LU decompositions."
   ]
  },
  {
   "cell_type": "code",
   "execution_count": 13,
   "metadata": {
    "collapsed": false
   },
   "outputs": [
    {
     "name": "stdout",
     "output_type": "stream",
     "text": [
      "[[-0.   0.1 -0. ]\n",
      " [ 0.   0.1  0.1]\n",
      " [ 0.1 -0.  -0.1]]\n"
     ]
    },
    {
     "data": {
      "text/plain": [
       "array([[ -7.42166231e+14,  -7.42166231e+14,  -7.42166231e+14,\n",
       "         -1.48433246e+15,   1.48433246e+15],\n",
       "       [ -3.52528960e+15,  -3.52528960e+15,  -3.52528960e+15,\n",
       "         -7.05057919e+15,   7.05057919e+15],\n",
       "       [ -5.90359502e+14,  -5.90359502e+14,  -5.90359502e+14,\n",
       "         -1.18071900e+15,   1.18071900e+15],\n",
       "       [ -3.00000000e-01,  -3.00000000e-01,   7.00000000e-01,\n",
       "          3.00000000e-01,  -3.00000000e-01],\n",
       "       [  1.50119988e+15,   1.50119988e+15,   1.50119988e+15,\n",
       "          3.00239975e+15,  -3.00239975e+15]])"
      ]
     },
     "execution_count": 13,
     "metadata": {},
     "output_type": "execute_result"
    }
   ],
   "source": [
    "print(around(inv(A),1))\n",
    "around(inv(B),1)"
   ]
  },
  {
   "cell_type": "markdown",
   "metadata": {},
   "source": [
    "Their lower and upper triangles in inversion are kinda flipped or mirrored"
   ]
  },
  {
   "cell_type": "markdown",
   "metadata": {},
   "source": [
    "## Problem 6\n",
    "Invert matrices using any method and comment on reliability"
   ]
  },
  {
   "cell_type": "code",
   "execution_count": 9,
   "metadata": {
    "collapsed": false
   },
   "outputs": [
    {
     "name": "stdout",
     "output_type": "stream",
     "text": [
      "[[ 5. -3. -1.  0.]\n",
      " [-2.  1.  1.  1.]\n",
      " [ 3. -5.  1.  2.]\n",
      " [ 0.  8. -4. -3.]]\n"
     ]
    }
   ],
   "source": [
    "A = array([5,-3,-1,0,-2,1,1,1,3,-5,1,2,0,8,-4,-3]).reshape(4,4)\n",
    "B = array([1,3,-9,6,4,2,-1,6,7,1,3,2,-3,15,5,8,-1,1,4,2,\\\n",
    "           11,1,-2,18,7]).reshape(5,5)\n",
    "\n",
    "aInv = inv(A)\n",
    "bInv = inv(B)\n",
    "\n",
    "resultA = around(dot(A, dot(A, aInv)), 8)\n",
    "#result of using inv() worked fine\n",
    "print(resultA)\n",
    "\n"
   ]
  },
  {
   "cell_type": "markdown",
   "metadata": {},
   "source": [
    "## Gause-Seidel method"
   ]
  },
  {
   "cell_type": "code",
   "execution_count": 10,
   "metadata": {
    "collapsed": true
   },
   "outputs": [],
   "source": [
    "def gaussSeidel(A, b, x0):\n",
    "    n = len(x0)\n",
    "    x = x0\n",
    "    for k in range(10):\n",
    "        for i in range(n):\n",
    "            s = 0\n",
    "            for j in range(n):\n",
    "                if j != i:\n",
    "                    s = s + A[i,j]*x[j]\n",
    "            x[i] = 1/A[i,i]*(b[i] - s)\n",
    "    return x"
   ]
  },
  {
   "cell_type": "markdown",
   "metadata": {},
   "source": [
    "## Problem 8\n",
    "Use Gauss-Seidel method to solve the problem"
   ]
  },
  {
   "cell_type": "code",
   "execution_count": 11,
   "metadata": {
    "collapsed": false
   },
   "outputs": [
    {
     "data": {
      "text/plain": [
       "array([ 1., -3.,  2.])"
      ]
     },
     "execution_count": 11,
     "metadata": {},
     "output_type": "execute_result"
    }
   ],
   "source": [
    "A = array([-2.0,5,9,7,1,1,-3,7,-1]).reshape(3,3)\n",
    "b = array([1.0,6,-26])\n",
    "\n",
    "#make sure the highest values go in diagonal in matrices\n",
    "A1 = array([7,1,1,-3,7,-1,-2,5,9]).reshape(3,3)\n",
    "b1 = array([6,-26,1.])\n",
    "\n",
    "x0 = array([1.0,1.0,1.0])\n",
    "x = gaussSeidel(A1, b1, x0)\n",
    "x"
   ]
  },
  {
   "cell_type": "code",
   "execution_count": 14,
   "metadata": {
    "collapsed": false
   },
   "outputs": [
    {
     "data": {
      "text/plain": [
       "array([  6., -26.,   1.])"
      ]
     },
     "execution_count": 14,
     "metadata": {},
     "output_type": "execute_result"
    }
   ],
   "source": [
    "dot(A1, x)"
   ]
  },
  {
   "cell_type": "markdown",
   "metadata": {},
   "source": [
    "## Problem 9\n",
    "Use the Gauss-Seidel with relaxation to solve Ax = b with an over-relaxation factor of 1.1"
   ]
  },
  {
   "cell_type": "code",
   "execution_count": 22,
   "metadata": {
    "collapsed": false
   },
   "outputs": [],
   "source": [
    "A = array([4.0,-1,0,0, -1,4,-1,0, 0,-1,4,-1, 0,0,-1,3]).reshape(4,4)\n",
    "b = array([15.0,10,10,10])\n",
    "x0 = array([1.0,1.0,1.0,1.0])"
   ]
  },
  {
   "cell_type": "markdown",
   "metadata": {},
   "source": [
    "My way forward is to take existing Gauss-Seidel function and modify it to use over-relaxation."
   ]
  },
  {
   "cell_type": "code",
   "execution_count": 26,
   "metadata": {
    "collapsed": true
   },
   "outputs": [],
   "source": [
    "def gaussSeidelRelaxation(A, b, x0, w):\n",
    "    n = len(x0)\n",
    "    x = x0\n",
    "    for k in range(10):\n",
    "        for i in range(n):\n",
    "            s = 0\n",
    "            for j in range(n):\n",
    "                if j != i:\n",
    "                    s = s + A[i,j]*x[j]\n",
    "            x[i] = w/A[i,i]*(b[i] - s)+((1.0-w)*x[i])\n",
    "    return x"
   ]
  },
  {
   "cell_type": "code",
   "execution_count": 28,
   "metadata": {
    "collapsed": false
   },
   "outputs": [
    {
     "data": {
      "text/plain": [
       "array([ 5.,  5.,  5.,  5.])"
      ]
     },
     "execution_count": 28,
     "metadata": {},
     "output_type": "execute_result"
    }
   ],
   "source": [
    "result = gaussSeidelRelaxation(A,b,x0,1.1)\n",
    "result"
   ]
  },
  {
   "cell_type": "markdown",
   "metadata": {},
   "source": [
    "I don't know if I trust the result. At first attempt, the first element was 4.99, so then I changed some integers to floats. Let's now test with dot product."
   ]
  },
  {
   "cell_type": "code",
   "execution_count": 29,
   "metadata": {
    "collapsed": false
   },
   "outputs": [
    {
     "data": {
      "text/plain": [
       "array([ 15.,  10.,  10.,  10.])"
      ]
     },
     "execution_count": 29,
     "metadata": {},
     "output_type": "execute_result"
    }
   ],
   "source": [
    "dot(A, result)"
   ]
  },
  {
   "cell_type": "markdown",
   "metadata": {},
   "source": [
    "Woo hoo! It worked."
   ]
  }
 ],
 "metadata": {
  "anaconda-cloud": {},
  "kernelspec": {
   "display_name": "Python [conda root]",
   "language": "python",
   "name": "conda-root-py"
  },
  "language_info": {
   "codemirror_mode": {
    "name": "ipython",
    "version": 3
   },
   "file_extension": ".py",
   "mimetype": "text/x-python",
   "name": "python",
   "nbconvert_exporter": "python",
   "pygments_lexer": "ipython3",
   "version": "3.5.2"
  }
 },
 "nbformat": 4,
 "nbformat_minor": 0
}
