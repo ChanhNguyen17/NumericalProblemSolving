{
 "cells": [
  {
   "cell_type": "markdown",
   "metadata": {},
   "source": [
    "# Assignment 5 - Applications\n",
    "Introduction to Numerical Problem Solving, Spring 2017   \n",
    "Chanh Nguyen, 1504202   \n",
    "Helsinki Metropolia University of Applied Sciences"
   ]
  },
  {
   "cell_type": "code",
   "execution_count": 68,
   "metadata": {
    "collapsed": true
   },
   "outputs": [],
   "source": [
    "# Initial import statements\n",
    "%matplotlib inline\n",
    "import matplotlib.pyplot as plt\n",
    "import numpy as np\n",
    "from matplotlib.pyplot import *\n",
    "from numpy import *\n",
    "\n",
    "from scipy.linalg import *\n",
    "\n",
    "import math"
   ]
  },
  {
   "cell_type": "markdown",
   "metadata": {},
   "source": [
    "### Exercise 1"
   ]
  },
  {
   "cell_type": "code",
   "execution_count": 69,
   "metadata": {
    "collapsed": false
   },
   "outputs": [
    {
     "data": {
      "text/plain": [
       "array([[ 10.,   1.,   0.,   0.],\n",
       "       [  4.,  -1.,   1.,   0.],\n",
       "       [  5.,   0.,  -1.,   1.],\n",
       "       [  6.,   0.,   0.,  -1.]])"
      ]
     },
     "execution_count": 69,
     "metadata": {},
     "output_type": "execute_result"
    }
   ],
   "source": [
    "# The mass\n",
    "m_1,m_2,m_3,m_4 = [10.,4.,5.,6.]\n",
    "\n",
    "A = array([[m_1,1,0,0],\n",
    "           [m_2,-1,1,0],\n",
    "           [m_3,0,-1,1],\n",
    "           [m_4,0,0,-1]])\n",
    "# Left side of the equations\n",
    "A"
   ]
  },
  {
   "cell_type": "code",
   "execution_count": 70,
   "metadata": {
    "collapsed": false
   },
   "outputs": [
    {
     "data": {
      "text/plain": [
       "array([ 52.02538143,  19.42280907,  27.74687009, -58.86      ])"
      ]
     },
     "execution_count": 70,
     "metadata": {},
     "output_type": "execute_result"
    }
   ],
   "source": [
    "# Convert theta to radian, value g, mu\n",
    "theta = radians(45)\n",
    "g = 9.81\n",
    "mu_1,mu_2,mu_3 = [.25,.3,.2]\n",
    "\n",
    "b = array([m_1*g*(sin(theta)-mu_1*cos(theta))\n",
    "          ,m_2*g*(sin(theta)-mu_2*cos(theta))\n",
    "          ,m_3*g*(sin(theta)-mu_3*cos(theta))\n",
    "          ,-m_4*g])\n",
    "# Right side of the equations\n",
    "b"
   ]
  },
  {
   "cell_type": "code",
   "execution_count": 71,
   "metadata": {
    "collapsed": false
   },
   "outputs": [
    {
     "name": "stdout",
     "output_type": "stream",
     "text": [
      "a = 1.61340242341\n",
      "T1 = 35.8913571917\n",
      "T2 = 48.8605565637\n",
      "T3 = 68.5404145404\n"
     ]
    }
   ],
   "source": [
    "# Solve for x\n",
    "x = solve(A,b)\n",
    "print(\"a = \" + str(x[0]))\n",
    "print(\"T1 = \" + str(x[1]))\n",
    "print(\"T2 = \" + str(x[2]))\n",
    "print(\"T3 = \" + str(x[3]))"
   ]
  },
  {
   "cell_type": "code",
   "execution_count": 73,
   "metadata": {
    "collapsed": false
   },
   "outputs": [
    {
     "name": "stdout",
     "output_type": "stream",
     "text": [
      "[  3.24279236e-02   3.08624210e+01   4.15435191e+01   5.90545675e+01]\n",
      "The degree to make a = 0 is: 32 degree\n"
     ]
    }
   ],
   "source": [
    "# Solve the degree to make a = 0\n",
    "eps = 10e-2\n",
    "result = 45\n",
    "for thetaDegree in range(45, 0, -1):\n",
    "    thetaRadian = radians(thetaDegree)\n",
    "    b = array([m_1*g*(sin(thetaRadian)-mu_1*cos(thetaRadian))\n",
    "              ,m_2*g*(sin(thetaRadian)-mu_2*cos(thetaRadian))\n",
    "              ,m_3*g*(sin(thetaRadian)-mu_3*cos(thetaRadian))\n",
    "              ,-m_4*g])\n",
    "    x = solve(A,b)\n",
    "    if x[0] < eps:\n",
    "        result = thetaDegree\n",
    "        break\n",
    "print(x)\n",
    "print(\"The degree to make a = 0 is: \"+str(result)+\" degree\")"
   ]
  }
 ],
 "metadata": {
  "anaconda-cloud": {},
  "kernelspec": {
   "display_name": "Python [default]",
   "language": "python",
   "name": "python3"
  },
  "language_info": {
   "codemirror_mode": {
    "name": "ipython",
    "version": 3
   },
   "file_extension": ".py",
   "mimetype": "text/x-python",
   "name": "python",
   "nbconvert_exporter": "python",
   "pygments_lexer": "ipython3",
   "version": "3.5.2"
  }
 },
 "nbformat": 4,
 "nbformat_minor": 1
}
