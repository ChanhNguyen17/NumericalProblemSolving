{
 "cells": [
  {
   "cell_type": "raw",
   "metadata": {},
   "source": [
    "## Exercise 3"
   ]
  },
  {
   "cell_type": "code",
   "execution_count": 84,
   "metadata": {
    "collapsed": false
   },
   "outputs": [
    {
     "name": "stdout",
     "output_type": "stream",
     "text": [
      "5e-324\n"
     ]
    }
   ],
   "source": [
    "# Study point: 0.0\n",
    "x = 0.0\n",
    "eps = 1.0\n",
    "eps_old = 1.0\n",
    "while (x + eps > x):\n",
    "    eps_old = eps\n",
    "    eps = eps/2\n",
    "print(eps_old)"
   ]
  },
  {
   "cell_type": "code",
   "execution_count": 10,
   "metadata": {
    "collapsed": false
   },
   "outputs": [
    {
     "name": "stdout",
     "output_type": "stream",
     "text": [
      "2.220446049250313e-16\n"
     ]
    }
   ],
   "source": [
    "# Study point: 1.0\n",
    "x = 1.0\n",
    "eps = 1.0\n",
    "eps_old = 1.0\n",
    "while (x + eps > x):\n",
    "    eps_old = eps\n",
    "    eps = eps/2\n",
    "print(eps_old)"
   ]
  },
  {
   "cell_type": "code",
   "execution_count": 11,
   "metadata": {
    "collapsed": false
   },
   "outputs": [
    {
     "name": "stdout",
     "output_type": "stream",
     "text": [
      "4.440892098500626e-16\n"
     ]
    }
   ],
   "source": [
    "# Study point: 2.0\n",
    "x = 2.0\n",
    "eps = 1.0\n",
    "eps_old = 1.0\n",
    "while (x + eps > x):\n",
    "    eps_old = eps\n",
    "    eps = eps/2\n",
    "print(eps_old)"
   ]
  },
  {
   "cell_type": "code",
   "execution_count": 12,
   "metadata": {
    "collapsed": false
   },
   "outputs": [
    {
     "name": "stdout",
     "output_type": "stream",
     "text": [
      "8.881784197001252e-16\n"
     ]
    }
   ],
   "source": [
    "# Study point: 9.9\n",
    "x = 9.9\n",
    "eps = 1.0\n",
    "eps_old = 1.0\n",
    "while (x + eps > x):\n",
    "    eps_old = eps\n",
    "    eps = eps/2\n",
    "print(eps_old)"
   ]
  },
  {
   "cell_type": "code",
   "execution_count": 13,
   "metadata": {
    "collapsed": false
   },
   "outputs": [
    {
     "name": "stdout",
     "output_type": "stream",
     "text": [
      "4.547473508864641e-13\n"
     ]
    }
   ],
   "source": [
    "# Study point: 7512.0814\n",
    "x = 7512.0814\n",
    "eps = 1.0\n",
    "eps_old = 1.0\n",
    "while (x + eps > x):\n",
    "    eps_old = eps\n",
    "    eps = eps/2\n",
    "print(eps_old)"
   ]
  },
  {
   "cell_type": "raw",
   "metadata": {},
   "source": [
    "## Exercise 4: The eps increases when the study point increases."
   ]
  },
  {
   "cell_type": "raw",
   "metadata": {},
   "source": [
    "## Exercise 5"
   ]
  },
  {
   "cell_type": "code",
   "execution_count": 94,
   "metadata": {
    "collapsed": false
   },
   "outputs": [
    {
     "name": "stdout",
     "output_type": "stream",
     "text": [
      "Digit is 3 ,x is 0.577 ,dx is 3.46E+6\n",
      "Digit is 4 ,x is 0.577 ,dx is 2.049E+6\n",
      "Digit is 5 ,x is 0.577 ,dx is 2.3646E+6\n",
      "Digit is 6 ,x is 0.577 ,dx is 2.35291E+6\n",
      "Digit is 7 ,x is 0.577 ,dx is 2352911\n",
      "Digit is 8 ,x is 0.577 ,dx is 2352910.8\n",
      "Digit is 9 ,x is 0.577 ,dx is 2352910.79\n",
      "Digit is 10 ,x is 0.577 ,dx is 2352910.793\n",
      "Digit is 11 ,x is 0.577 ,dx is 2352910.7926\n",
      "Digit is 12 ,x is 0.577 ,dx is 2352910.79260\n",
      "Digit is 13 ,x is 0.577 ,dx is 2352910.792602\n",
      "Digit is 14 ,x is 0.577 ,dx is 2352910.7926020\n",
      "Digit is 15 ,x is 0.577 ,dx is 2352910.79260199\n",
      "Digit is 16 ,x is 0.577 ,dx is 2352910.792601992\n"
     ]
    }
   ],
   "source": [
    "from decimal import *\n",
    "\n",
    "# 3 to 16-digit precision\n",
    "\n",
    "for digit in range(3, 17):\n",
    "    getcontext().prec = digit\n",
    "    x = Decimal ('0.577')\n",
    "    dx = 6*x/(1-3*x**2)**2\n",
    "    print(\"Digit is \"+str(digit)+\" ,x is \"+str(x)+\" ,dx is \"+str(dx))\n",
    "    "
   ]
  },
  {
   "cell_type": "code",
   "execution_count": null,
   "metadata": {
    "collapsed": true
   },
   "outputs": [],
   "source": []
  }
 ],
 "metadata": {
  "kernelspec": {
   "display_name": "Python [default]",
   "language": "python",
   "name": "python3"
  },
  "language_info": {
   "codemirror_mode": {
    "name": "ipython",
    "version": 3
   },
   "file_extension": ".py",
   "mimetype": "text/x-python",
   "name": "python",
   "nbconvert_exporter": "python",
   "pygments_lexer": "ipython3",
   "version": "3.5.2"
  }
 },
 "nbformat": 4,
 "nbformat_minor": 1
}
