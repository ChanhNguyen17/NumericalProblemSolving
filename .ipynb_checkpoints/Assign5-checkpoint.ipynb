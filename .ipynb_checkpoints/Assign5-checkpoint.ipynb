{
 "cells": [
  {
   "cell_type": "markdown",
   "metadata": {},
   "source": [
    "# Assignment 5 - Gaussian elimination\n",
    "Introduction to Numerical Problem Solving, Spring 2017   \n",
    "Chanh Nguyen, 1504202   \n",
    "Helsinki Metropolia University of Applied Sciences"
   ]
  },
  {
   "cell_type": "code",
   "execution_count": 220,
   "metadata": {
    "collapsed": true
   },
   "outputs": [],
   "source": [
    "# Initial import statements\n",
    "%matplotlib inline\n",
    "import matplotlib.pyplot as plt\n",
    "import numpy as np\n",
    "from matplotlib.pyplot import *\n",
    "from numpy import *\n",
    "\n",
    "from scipy.linalg import lu_factor, lu_solve, lu, solve, inv, det"
   ]
  },
  {
   "cell_type": "markdown",
   "metadata": {},
   "source": [
    "### Exercise 3"
   ]
  },
  {
   "cell_type": "code",
   "execution_count": 221,
   "metadata": {
    "collapsed": true
   },
   "outputs": [],
   "source": [
    "def LUdecomp(a):\n",
    "    a = a.copy()\n",
    "    n = len(a)\n",
    "    for k in range(0,n-1):\n",
    "        for i in range(k+1,n):\n",
    "            if a[i,k] != 0.0:\n",
    "                lam = a[i,k]  /a[k,k]\n",
    "                a[i,k+1:n] -= lam*a[k,k+1:n]\n",
    "                a[i,k] = lam\n",
    "    return a"
   ]
  },
  {
   "cell_type": "code",
   "execution_count": 222,
   "metadata": {
    "collapsed": true
   },
   "outputs": [],
   "source": [
    "def LUsolve(a,b):\n",
    "    a = a.copy()\n",
    "    b = b.copy()\n",
    "    n = len(a)\n",
    "    for k in range(1,n):\n",
    "        b[k] -= dot(a[k,0:k],b[0:k])\n",
    "    for k in range(n-1, -1, -1):\n",
    "        b[k] = (b[k] - dot(a[k,k+1:n], b[k+1:n]))/a[k,k]\n",
    "    return b "
   ]
  },
  {
   "cell_type": "code",
   "execution_count": 223,
   "metadata": {
    "collapsed": false
   },
   "outputs": [
    {
     "name": "stdout",
     "output_type": "stream",
     "text": [
      "Solution x =  [ 5.  1. -2.]\n"
     ]
    }
   ],
   "source": [
    "A = array([1., 4, 1, 1, 6, -1, 2, -1, 2]).reshape(3, 3)\n",
    "b = array([7., 13, 5])\n",
    "\n",
    "# Solve x by using LUdecomp and LUsolve\n",
    "x = LUsolve(LUdecomp(A),b)\n",
    "print(\"Solution x = \", x)"
   ]
  },
  {
   "cell_type": "code",
   "execution_count": 224,
   "metadata": {
    "collapsed": false
   },
   "outputs": [
    {
     "name": "stdout",
     "output_type": "stream",
     "text": [
      "Result x =  [ 5.  1. -2.]\n"
     ]
    }
   ],
   "source": [
    "# Check result\n",
    "x = solve(A, b)\n",
    "print(\"Result x = \", x)"
   ]
  },
  {
   "cell_type": "code",
   "execution_count": 225,
   "metadata": {
    "collapsed": false
   },
   "outputs": [
    {
     "name": "stdout",
     "output_type": "stream",
     "text": [
      "--- The lower triangle matric L is ---\n",
      "[[ 1.          0.          0.        ]\n",
      " [ 0.5         1.          0.        ]\n",
      " [ 0.5         0.69230769  1.        ]]\n",
      "--- The upper triangle matric U is ---\n",
      "[[ 2.         -1.          2.        ]\n",
      " [ 0.          6.5        -2.        ]\n",
      " [ 0.          0.          1.38461538]]\n"
     ]
    }
   ],
   "source": [
    "P, L, U = lu(A)\n",
    "print('--- The lower triangle matric L is ---')\n",
    "print(L)\n",
    "print('--- The upper triangle matric U is ---')\n",
    "print(U)"
   ]
  },
  {
   "cell_type": "markdown",
   "metadata": {},
   "source": [
    "### Exercise 6"
   ]
  },
  {
   "cell_type": "code",
   "execution_count": 234,
   "metadata": {
    "collapsed": false
   },
   "outputs": [],
   "source": [
    "def matInv(a):\n",
    "    a = a.copy()\n",
    "    n = len(a[0])\n",
    "    aInv = identity(n)\n",
    "    a = LUdecomp(a)\n",
    "    for i in range(n):\n",
    "        aInv[:,i] = LUsolve(a, aInv[:,i])\n",
    "    return aInv"
   ]
  },
  {
   "cell_type": "code",
   "execution_count": 235,
   "metadata": {
    "collapsed": false
   },
   "outputs": [
    {
     "data": {
      "text/plain": [
       "array([[ 5., -3., -1.,  0.],\n",
       "       [-2.,  1.,  1.,  1.],\n",
       "       [ 3., -5.,  1.,  2.],\n",
       "       [ 0.,  8., -4., -3.]])"
      ]
     },
     "execution_count": 235,
     "metadata": {},
     "output_type": "execute_result"
    }
   ],
   "source": [
    "A = array([5.,-3,-1,0,-2,1,1,1,3,-5,1,2,0,8,-4,-3]).reshape(4, 4)\n",
    "A"
   ]
  },
  {
   "cell_type": "code",
   "execution_count": 236,
   "metadata": {
    "collapsed": false
   },
   "outputs": [
    {
     "name": "stdout",
     "output_type": "stream",
     "text": [
      "The inverse of A  \n",
      "[[ 1.125   1.     -0.875  -0.25  ]\n",
      " [ 0.8125  1.     -0.6875 -0.125 ]\n",
      " [ 2.1875  2.     -2.3125 -0.875 ]\n",
      " [-0.75    0.      1.25    0.5   ]]\n"
     ]
    }
   ],
   "source": [
    "# Calculate the inverse of A\n",
    "print(\"The inverse of A  \")\n",
    "print(around(matInv(A),8))"
   ]
  },
  {
   "cell_type": "code",
   "execution_count": 237,
   "metadata": {
    "collapsed": false
   },
   "outputs": [
    {
     "name": "stdout",
     "output_type": "stream",
     "text": [
      "Result is: \n",
      "[[ 1.125   1.     -0.875  -0.25  ]\n",
      " [ 0.8125  1.     -0.6875 -0.125 ]\n",
      " [ 2.1875  2.     -2.3125 -0.875 ]\n",
      " [-0.75   -0.      1.25    0.5   ]]\n"
     ]
    }
   ],
   "source": [
    "# Check result\n",
    "print(\"Result is: \")\n",
    "print(around(inv(A),8))"
   ]
  },
  {
   "cell_type": "code",
   "execution_count": 242,
   "metadata": {
    "collapsed": true
   },
   "outputs": [],
   "source": [
    "# We use lu_factor and lu_solve instead of LUdecomp and LUSolve to prevent errors\n",
    "def matInvNew(a):\n",
    "    a = a.copy()\n",
    "    n = len(a[0])\n",
    "    aInv = identity(n)\n",
    "    a = lu_factor(a)\n",
    "    for i in range(n):\n",
    "        aInv[:,i] = lu_solve(a, aInv[:,i])\n",
    "    return aInv"
   ]
  },
  {
   "cell_type": "code",
   "execution_count": 243,
   "metadata": {
    "collapsed": false
   },
   "outputs": [
    {
     "data": {
      "text/plain": [
       "array([[  1.,   3.,  -9.,   6.,   4.],\n",
       "       [  2.,  -1.,   6.,   7.,   1.],\n",
       "       [  3.,   2.,  -3.,  15.,   5.],\n",
       "       [  8.,  -1.,   1.,   4.,   2.],\n",
       "       [ 11.,   1.,  -2.,  18.,   7.]])"
      ]
     },
     "execution_count": 243,
     "metadata": {},
     "output_type": "execute_result"
    }
   ],
   "source": [
    "B = array([1.,3,-9,6,4,2,-1,6,7,1,3,2,-3,15,5,8,-1,1,4,2,11,1,-2,18,7]).reshape(5, 5)\n",
    "B"
   ]
  },
  {
   "cell_type": "code",
   "execution_count": 245,
   "metadata": {
    "collapsed": false
   },
   "outputs": [
    {
     "name": "stdout",
     "output_type": "stream",
     "text": [
      "The inverse of B \n",
      "[[ -7.42166231e+14  -7.42166231e+14  -7.42166231e+14  -1.48433246e+15\n",
      "    1.48433246e+15]\n",
      " [ -3.52528960e+15  -3.52528960e+15  -3.52528960e+15  -7.05057919e+15\n",
      "    7.05057919e+15]\n",
      " [ -5.90359502e+14  -5.90359502e+14  -5.90359502e+14  -1.18071900e+15\n",
      "    1.18071900e+15]\n",
      " [ -3.33333333e-01  -3.33333333e-01   6.66666667e-01   3.33333333e-01\n",
      "   -3.33333333e-01]\n",
      " [  1.50119988e+15   1.50119988e+15   1.50119988e+15   3.00239975e+15\n",
      "   -3.00239975e+15]]\n"
     ]
    }
   ],
   "source": [
    "# Calculate the inverse of B\n",
    "print(\"The inverse of B \")\n",
    "print(matInvNew(B))"
   ]
  },
  {
   "cell_type": "code",
   "execution_count": 246,
   "metadata": {
    "collapsed": false
   },
   "outputs": [
    {
     "name": "stdout",
     "output_type": "stream",
     "text": [
      "Result is: \n",
      "[[ -7.42166231e+14  -7.42166231e+14  -7.42166231e+14  -1.48433246e+15\n",
      "    1.48433246e+15]\n",
      " [ -3.52528960e+15  -3.52528960e+15  -3.52528960e+15  -7.05057919e+15\n",
      "    7.05057919e+15]\n",
      " [ -5.90359502e+14  -5.90359502e+14  -5.90359502e+14  -1.18071900e+15\n",
      "    1.18071900e+15]\n",
      " [ -3.33333333e-01  -3.33333333e-01   6.66666667e-01   3.33333333e-01\n",
      "   -3.33333333e-01]\n",
      " [  1.50119988e+15   1.50119988e+15   1.50119988e+15   3.00239975e+15\n",
      "   -3.00239975e+15]]\n"
     ]
    }
   ],
   "source": [
    "# Check result\n",
    "print(\"Result is: \")\n",
    "print(inv(B))"
   ]
  },
  {
   "cell_type": "markdown",
   "metadata": {},
   "source": [
    "### Exercise 9"
   ]
  },
  {
   "cell_type": "code",
   "execution_count": 249,
   "metadata": {
    "collapsed": false
   },
   "outputs": [],
   "source": [
    "## module gaussSeidel\n",
    "''' \n",
    "x,numIter,omega = gaussSeidel(iterEqs,x,tol = 1.0e-9)\n",
    "Gauss-Seidel method for solving [A]{x} = {b}.\n",
    "The matrix [A] should be sparse. User must supply the\n",
    "function iterEqs(x,omega) that returns the improved {x},\n",
    "given the current {x} (’omega’ is the relaxation factor).\n",
    "'''\n",
    "import numpy as np\n",
    "import math\n",
    "\n",
    "def gaussSeidel(iterEqs,x,tol = 1.0e-9):\n",
    "    omega = 1.0\n",
    "    k = 10\n",
    "    p = 1\n",
    "    for i in range(1,501):\n",
    "        xOld = x.copy()\n",
    "        x = iterEqs(x,omega)\n",
    "        dx = math.sqrt(np.dot(x-xOld,x-xOld))\n",
    "        if dx < tol: return x,i,omega\n",
    "        # Compute relaxation factor after k+p iterations\n",
    "        if i == k: dx1 = dx\n",
    "        if i == k + p:\n",
    "            dx2 = dx\n",
    "            omega = 2.0/(1.0 + math.sqrt(1.0 \\\n",
    "            - (dx2/dx1)**(1.0/p)))\n",
    "    print('Gauss-Seidel failed to converge')"
   ]
  },
  {
   "cell_type": "code",
   "execution_count": null,
   "metadata": {
    "collapsed": true
   },
   "outputs": [],
   "source": []
  }
 ],
 "metadata": {
  "kernelspec": {
   "display_name": "Python [default]",
   "language": "python",
   "name": "python3"
  },
  "language_info": {
   "codemirror_mode": {
    "name": "ipython",
    "version": 3
   },
   "file_extension": ".py",
   "mimetype": "text/x-python",
   "name": "python",
   "nbconvert_exporter": "python",
   "pygments_lexer": "ipython3",
   "version": "3.5.2"
  }
 },
 "nbformat": 4,
 "nbformat_minor": 1
}
