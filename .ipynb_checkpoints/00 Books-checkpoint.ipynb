{
 "cells": [
  {
   "cell_type": "markdown",
   "metadata": {},
   "source": [
    "# Books\n",
    "Introduction to Numerical Problem Solving, Spring 2017   \n",
    "CC BY-NC-SA, Sakari Lukkarinen   \n",
    "Helsinki Metropolia University of Applied Sciences\n",
    "\n",
    "Here is a list of the recommended books, most of them available online from MetCat.\n",
    "\n",
    "## Main references\n",
    "\n",
    "Johansson. (2015). [Numerical Python: A Practical Techniques Approach for Industry](https://metropolia.finna.fi/Record/nelli15.3710000000486209)\n",
    "\n",
    "Kiuasalaas. (2013). [Numerical Methods in Engineering with Python 3, Third Edition](http://proquestcombo.safaribooksonline.com.ezproxy.metropolia.fi/book/programming/python/9781139611282)\n",
    "\n",
    "Chapra & Canale. (2010). [Numerical Methods for Engineers, sixth edition](https://www.google.fi/search?q=Chapra+%26+Canale.+%282010%29.+Numerical+Methods+for+Engineers,+6th+edition&ie=utf-8&oe=utf-8&gws_rd=cr&ei=2t7SWObfGpKQ6QTR2pagDw#q=Numerical+Methods+for+Engineers,+6th+edition&)\n",
    "\n",
    "## Other books\n",
    "\n",
    "Epperson. (2013). [An Introduction to Numerical Methods and Analysis (2)](http://site.ebrary.com.ezproxy.metropolia.fi/lib/metropolia/reader.action?docID=10833885)\n",
    "\n",
    "Jain & Iyengar & Jain. (2004). [Numerical Methods : Problems and Solutions (2)](http://site.ebrary.com.ezproxy.metropolia.fi/lib/metropolia/reader.action?docID=10318654)\n",
    "\n",
    "Aberth. (2007). [Introduction to Precise Numerical Methods (2)](http://site.ebrary.com.ezproxy.metropolia.fi/lib/metropolia/reader.action?docID=10166992)\n",
    "\n",
    "Iyengar, Jain. (2009). [Numerical Methods (1)](http://site.ebrary.com.ezproxy.metropolia.fi/lib/metropolia/reader.action?docID=10318719)\n",
    "\n",
    "Gupta. (2014). [Numerical Methods using MATLAB](http://link.springer.com.ezproxy.metropolia.fi/book/10.1007/978-1-4842-0154-1/page/1)\n",
    "\n",
    "[Exploratory computing with Python, Finding the zero of function](http://nbviewer.jupyter.org/github/mbakker7/exploratory_computing_with_python/blob/master/notebook5_rootfinding/py_exploratory_comp_5_sol.ipynb)\n",
    "\n",
    "[Numerical recipes](http://apps.nrbook.com/empanel/index.html#)\n",
    "\n"
   ]
  }
 ],
 "metadata": {
  "kernelspec": {
   "display_name": "Python [default]",
   "language": "python",
   "name": "python3"
  },
  "language_info": {
   "codemirror_mode": {
    "name": "ipython",
    "version": 3
   },
   "file_extension": ".py",
   "mimetype": "text/x-python",
   "name": "python",
   "nbconvert_exporter": "python",
   "pygments_lexer": "ipython3",
   "version": "3.5.2"
  }
 },
 "nbformat": 4,
 "nbformat_minor": 0
}
