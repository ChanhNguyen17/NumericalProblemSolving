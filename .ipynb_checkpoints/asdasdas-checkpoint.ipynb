{
 "cells": [
  {
   "cell_type": "code",
   "execution_count": 51,
   "metadata": {
    "collapsed": true
   },
   "outputs": [],
   "source": [
    "#The smallest difference (eps) change, when change the the point of study.\n",
    "# x + eps > x\n",
    "# When x increases, eps also increases"
   ]
  },
  {
   "cell_type": "code",
   "execution_count": 44,
   "metadata": {
    "collapsed": false
   },
   "outputs": [
    {
     "name": "stdout",
     "output_type": "stream",
     "text": [
      "The smallest value that differ from 1.0 is:\n",
      "2.220446049250313e-16\n"
     ]
    }
   ],
   "source": [
    "eps = 1.0\n",
    "old_eps\n",
    "\n",
    "while 1.0 + eps > 1.0:\n",
    "    old_eps = eps\n",
    "    eps /= 2\n",
    "    \n",
    "print(\"The smallest value that differ from 1.0 is:\")    \n",
    "print(old_eps)"
   ]
  },
  {
   "cell_type": "code",
   "execution_count": 50,
   "metadata": {
    "collapsed": false
   },
   "outputs": [
    {
     "name": "stdout",
     "output_type": "stream",
     "text": [
      "The smallest value that differ from 0.0 is:\n",
      "5e-324\n"
     ]
    }
   ],
   "source": [
    "eps = 1.0\n",
    "old_eps\n",
    "\n",
    "while 0.0 + eps > 0.0:\n",
    "    old_eps = eps\n",
    "    eps /= 2\n",
    "    \n",
    "print(\"The smallest value that differ from 0.0 is:\")    \n",
    "print(old_eps)"
   ]
  },
  {
   "cell_type": "code",
   "execution_count": 45,
   "metadata": {
    "collapsed": false
   },
   "outputs": [
    {
     "name": "stdout",
     "output_type": "stream",
     "text": [
      "The smallest value that differ from 2.0 is:\n",
      "4.440892098500626e-16\n"
     ]
    }
   ],
   "source": [
    "eps = 1.0\n",
    "old_eps\n",
    "\n",
    "while 2.0 + eps > 2.0:\n",
    "    old_eps = eps\n",
    "    eps /= 2\n",
    "    \n",
    "print(\"The smallest value that differ from 2.0 is:\")    \n",
    "print(old_eps)"
   ]
  },
  {
   "cell_type": "code",
   "execution_count": 46,
   "metadata": {
    "collapsed": false
   },
   "outputs": [
    {
     "name": "stdout",
     "output_type": "stream",
     "text": [
      "The smallest value that differ from 3.0 is:\n",
      "4.440892098500626e-16\n"
     ]
    }
   ],
   "source": [
    "eps = 1.0\n",
    "old_eps\n",
    "\n",
    "while 3.0 + eps > 3.0:\n",
    "    old_eps = eps\n",
    "    eps /= 2\n",
    "    \n",
    "print(\"The smallest value that differ from 3.0 is:\")    \n",
    "print(old_eps)"
   ]
  },
  {
   "cell_type": "code",
   "execution_count": 48,
   "metadata": {
    "collapsed": false
   },
   "outputs": [
    {
     "name": "stdout",
     "output_type": "stream",
     "text": [
      "The smallest value that differ from 5.5 is:\n",
      "8.881784197001252e-16\n"
     ]
    }
   ],
   "source": [
    "eps = 1.0\n",
    "old_eps\n",
    "\n",
    "while 5.5 + eps > 5.5:\n",
    "    old_eps = eps\n",
    "    eps /= 2\n",
    "    \n",
    "print(\"The smallest value that differ from 5.5 is:\")    \n",
    "print(old_eps)"
   ]
  },
  {
   "cell_type": "code",
   "execution_count": 49,
   "metadata": {
    "collapsed": false
   },
   "outputs": [
    {
     "name": "stdout",
     "output_type": "stream",
     "text": [
      "The smallest value that differ from 99.9 is:\n",
      "1.4210854715202004e-14\n"
     ]
    }
   ],
   "source": [
    "eps = 1.0\n",
    "old_eps\n",
    "\n",
    "while 99.9 + eps > 99.9:\n",
    "    old_eps = eps\n",
    "    eps /= 2\n",
    "    \n",
    "print(\"The smallest value that differ from 99.9 is:\")    \n",
    "print(old_eps)"
   ]
  },
  {
   "cell_type": "code",
   "execution_count": null,
   "metadata": {
    "collapsed": true
   },
   "outputs": [],
   "source": []
  }
 ],
 "metadata": {
  "kernelspec": {
   "display_name": "Python [default]",
   "language": "python",
   "name": "python3"
  },
  "language_info": {
   "codemirror_mode": {
    "name": "ipython",
    "version": 3
   },
   "file_extension": ".py",
   "mimetype": "text/x-python",
   "name": "python",
   "nbconvert_exporter": "python",
   "pygments_lexer": "ipython3",
   "version": "3.5.2"
  }
 },
 "nbformat": 4,
 "nbformat_minor": 1
}
