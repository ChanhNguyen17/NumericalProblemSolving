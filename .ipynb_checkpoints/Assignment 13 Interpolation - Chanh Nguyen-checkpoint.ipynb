{
 "cells": [
  {
   "cell_type": "markdown",
   "metadata": {},
   "source": [
    "# Assignment: 13 Interpolation - Chanh Nguyen\n",
    "Introduction to Numerical Problem Solving, Spring 2017   \n",
    "Chanh Nguyen 1504202  \n",
    "Helsinki Metropolia University of Applied Sciences"
   ]
  },
  {
   "cell_type": "code",
   "execution_count": 211,
   "metadata": {
    "collapsed": false
   },
   "outputs": [
    {
     "name": "stdout",
     "output_type": "stream",
     "text": [
      "Populating the interactive namespace from numpy and matplotlib\n"
     ]
    }
   ],
   "source": [
    "%pylab inline\n",
    "from scipy.integrate import trapz, quad, simps\n",
    "import sympy as sp"
   ]
  },
  {
   "cell_type": "markdown",
   "metadata": {},
   "source": [
    "## Exercise 1\n",
    "Evalute the following integral:\n",
    "$\\int_{0}^{\\pi/2} (8 + 4 cos x) dx$   \n",
    "(a) analytically   \n",
    "(b) single application of the trapezoidal rule   \n",
    "(c) multiple-application trapezoidal rule, with n = 2 and n = 4   \n",
    "(d) single application of Simpson’s 1/3 rule   \n",
    "(e) multiple-application Simpson’s rule, with n = 5   \n",
    "For each of the numerical estimates determine the percent relative error\n",
    "based on the analytical results.   "
   ]
  },
  {
   "cell_type": "code",
   "execution_count": 192,
   "metadata": {
    "collapsed": false
   },
   "outputs": [
    {
     "data": {
      "text/plain": [
       "16.5663706143592"
      ]
     },
     "execution_count": 192,
     "metadata": {},
     "output_type": "execute_result"
    }
   ],
   "source": [
    "# Define function f(x)\n",
    "def f(x):\n",
    "    return 8 + 4*cos(x)\n",
    "\n",
    "a = 0\n",
    "b = pi/2\n",
    "\n",
    "# a) Calculate the true integral result analytically\n",
    "z = sp.symbols('z')\n",
    "I_true = sp.integrate(8 + 4*sp.cos(z), (z, a, b)).evalf()\n",
    "I_true"
   ]
  },
  {
   "cell_type": "code",
   "execution_count": 193,
   "metadata": {
    "collapsed": false
   },
   "outputs": [
    {
     "data": {
      "image/png": "[encoded data removed]",
      "text/plain": [
       "<matplotlib.figure.Figure at 0x20224182400>"
      ]
     },
     "metadata": {},
     "output_type": "display_data"
    }
   ],
   "source": [
    "## Graphical presentation\n",
    "# Make the x-array\n",
    "x = linspace(a, b, 1000)\n",
    "# Calculate the function values\n",
    "y = f(x)\n",
    "\n",
    "# Fill the integration area\n",
    "fill_between(x, y, alpha = 0.5)\n",
    "\n",
    "# Make another graph showing the function\n",
    "x2 = linspace(-1, 3, 1000)\n",
    "y2 = f(x2)\n",
    "plot(x2, y2)\n",
    "grid()"
   ]
  },
  {
   "cell_type": "code",
   "execution_count": 194,
   "metadata": {
    "collapsed": false
   },
   "outputs": [
    {
     "data": {
      "text/plain": [
       "(15.707963267948966, 0.0518162587565298)"
      ]
     },
     "execution_count": 194,
     "metadata": {},
     "output_type": "execute_result"
    }
   ],
   "source": [
    "# b) Integral by single application of the trapezoidal rule\n",
    "It = (b-a)*(f(a) + f(b))/2\n",
    "ea = abs(I_true-It)/I_true\n",
    "\n",
    "# The result and relative error\n",
    "It, ea"
   ]
  },
  {
   "cell_type": "code",
   "execution_count": 195,
   "metadata": {
    "collapsed": false
   },
   "outputs": [
    {
     "data": {
      "text/plain": [
       "(16.358608410233252, 0.0125412022320592)"
      ]
     },
     "execution_count": 195,
     "metadata": {},
     "output_type": "execute_result"
    }
   ],
   "source": [
    "# c) multiple-application trapezoidal rule, with n = 2\n",
    "\n",
    "n = 2\n",
    "x = linspace(a, b, n+1)\n",
    "\n",
    "# Calculate the y-values\n",
    "y = f(x)\n",
    "\n",
    "# Use the multiple-application Trapezoidal rule\n",
    "It2 = trapz(y, x)\n",
    "\n",
    "ea = abs(I_true-It2)/I_true\n",
    "\n",
    "# The result and relative error\n",
    "It2, ea"
   ]
  },
  {
   "cell_type": "code",
   "execution_count": 196,
   "metadata": {
    "collapsed": false
   },
   "outputs": [
    {
     "data": {
      "text/plain": [
       "(16.514833818250274, 0.00311092859797716)"
      ]
     },
     "execution_count": 196,
     "metadata": {},
     "output_type": "execute_result"
    }
   ],
   "source": [
    "# c) multiple-application trapezoidal rule, with n = 4\n",
    "\n",
    "n = 4\n",
    "x = linspace(a, b, n+1)\n",
    "\n",
    "# Calculate the y-values\n",
    "y = f(x)\n",
    "\n",
    "# Use the multiple-application Trapezoidal rule\n",
    "It4 = trapz(y, x)\n",
    "ea = abs(I_true-It4)/I_true\n",
    "\n",
    "# The result and relative error\n",
    "It4, ea"
   ]
  },
  {
   "cell_type": "code",
   "execution_count": 197,
   "metadata": {
    "collapsed": false
   },
   "outputs": [
    {
     "data": {
      "text/plain": [
       "(16.575490124328013, 0.000550483276097669)"
      ]
     },
     "execution_count": 197,
     "metadata": {},
     "output_type": "execute_result"
    }
   ],
   "source": [
    "# d) single application of Simpson’s 1/3 rule\n",
    "n = 2\n",
    "x = linspace(a, b, n+1)\n",
    "\n",
    "# Calculate the y-values\n",
    "y = f(x)\n",
    "\n",
    "# Use the single application of Simpson’s 1/3 rule\n",
    "Is = simps(y, x)\n",
    "ea = abs(I_true-Is)/I_true\n",
    "\n",
    "# The result and relative error\n",
    "Is, ea"
   ]
  },
  {
   "cell_type": "code",
   "execution_count": 198,
   "metadata": {
    "collapsed": false
   },
   "outputs": [
    {
     "data": {
      "text/plain": [
       "(16.560652523728564, 0.000345162544272216)"
      ]
     },
     "execution_count": 198,
     "metadata": {},
     "output_type": "execute_result"
    }
   ],
   "source": [
    "# e) multiple-application Simpson’s rule, with n = 5\n",
    "n = 5\n",
    "x = linspace(a, b, n+1)\n",
    "\n",
    "# Calculate the y-values\n",
    "y = f(x)\n",
    "\n",
    "# Use the single application of Simpson’s 1/3 rule\n",
    "Is5 = simps(y, x)\n",
    "ea = abs(I_true-Is5)/I_true\n",
    "\n",
    "# The result and relative error\n",
    "Is5, ea"
   ]
  },
  {
   "cell_type": "markdown",
   "metadata": {},
   "source": [
    "## Exercise 2\n",
    "Evaluate the following integral: \n",
    "$\\int_{1}^{3} (1 − e^{-x}) dx$   \n",
    "(a) analytically   \n",
    "(b) single application of the trapezoidal rule   \n",
    "(c) multiple-application trapezoidal rule, with n = 2 and n = 4   \n",
    "(d) single application of Simpson’s 1/3 rule   \n",
    "(e) multiple-application Simpson’s 1/3 rule, with n = 4   \n",
    "(f) multiple-application Simpson’s rule, with n = 5.   \n",
    "For each of the numerical estimates determine the percent relative true\n",
    "error based on the analytical solution."
   ]
  },
  {
   "cell_type": "code",
   "execution_count": 199,
   "metadata": {
    "collapsed": false
   },
   "outputs": [
    {
     "data": {
      "text/plain": [
       "1.68190762719642"
      ]
     },
     "execution_count": 199,
     "metadata": {},
     "output_type": "execute_result"
    }
   ],
   "source": [
    "# Define function f(x)\n",
    "def f(x):\n",
    "    return 1 - e**(-x)\n",
    "\n",
    "a = 1\n",
    "b = 3\n",
    "\n",
    "# a) Calculate the true integral result analytically\n",
    "I_true = sp.integrate(f(z), (z, a, b)).evalf()\n",
    "I_true"
   ]
  },
  {
   "cell_type": "code",
   "execution_count": 200,
   "metadata": {
    "collapsed": false
   },
   "outputs": [
    {
     "data": {
      "image/png": "[encoded data removed]",
      "text/plain": [
       "<matplotlib.figure.Figure at 0x202241d4f98>"
      ]
     },
     "metadata": {},
     "output_type": "display_data"
    }
   ],
   "source": [
    "## Graphical presentation\n",
    "# Make the x-array\n",
    "x = linspace(a, b, 1000)\n",
    "# Calculate the function values\n",
    "y = f(x)\n",
    "\n",
    "# Fill the integration area\n",
    "fill_between(x, y, alpha = 0.5)\n",
    "\n",
    "# Make another graph showing the function\n",
    "x2 = linspace(a-1, b+1, 1000)\n",
    "y2 = f(x2)\n",
    "plot(x2, y2)\n",
    "grid()"
   ]
  },
  {
   "cell_type": "code",
   "execution_count": 201,
   "metadata": {
    "collapsed": false
   },
   "outputs": [
    {
     "data": {
      "text/plain": [
       "(1.5823334904606936, 0.0592030948225787)"
      ]
     },
     "execution_count": 201,
     "metadata": {},
     "output_type": "execute_result"
    }
   ],
   "source": [
    "# b) Integral by single application of the trapezoidal rule\n",
    "It = (b-a)*(f(a) + f(b))/2\n",
    "ea = abs(I_true-It)/I_true\n",
    "\n",
    "# The result and relative error\n",
    "It, ea"
   ]
  },
  {
   "cell_type": "code",
   "execution_count": 202,
   "metadata": {
    "collapsed": false
   },
   "outputs": [
    {
     "data": {
      "text/plain": [
       "(1.655831461993734, 0.0155039223207247)"
      ]
     },
     "execution_count": 202,
     "metadata": {},
     "output_type": "execute_result"
    }
   ],
   "source": [
    "# c) multiple-application trapezoidal rule, with n = 2\n",
    "\n",
    "n = 2\n",
    "x = linspace(a, b, n+1)\n",
    "\n",
    "# Calculate the y-values\n",
    "y = f(x)\n",
    "\n",
    "# Use the multiple-application Trapezoidal rule\n",
    "It2 = trapz(y, x)\n",
    "ea = abs(I_true-It2)/I_true\n",
    "\n",
    "# The result and relative error\n",
    "It2, ea"
   ]
  },
  {
   "cell_type": "code",
   "execution_count": 203,
   "metadata": {
    "collapsed": false
   },
   "outputs": [
    {
     "data": {
      "text/plain": [
       "(1.6753081516107027, 0.00392380382787118)"
      ]
     },
     "execution_count": 203,
     "metadata": {},
     "output_type": "execute_result"
    }
   ],
   "source": [
    "# c) multiple-application trapezoidal rule, with n = 4\n",
    "\n",
    "n = 4\n",
    "x = linspace(a, b, n+1)\n",
    "\n",
    "# Calculate the y-values\n",
    "y = f(x)\n",
    "\n",
    "# Use the multiple-application Trapezoidal rule\n",
    "It4 = trapz(y, x)\n",
    "ea = abs(I_true-It4)/I_true\n",
    "\n",
    "# The result and relative error\n",
    "It4, ea"
   ]
  },
  {
   "cell_type": "code",
   "execution_count": 204,
   "metadata": {
    "collapsed": false
   },
   "outputs": [
    {
     "data": {
      "text/plain": [
       "(1.6803307858380809, 0.000937531486773290)"
      ]
     },
     "execution_count": 204,
     "metadata": {},
     "output_type": "execute_result"
    }
   ],
   "source": [
    "# d) single application of Simpson’s 1/3 rule\n",
    "n = 2\n",
    "x = linspace(a, b, n+1)\n",
    "\n",
    "# Calculate the y-values\n",
    "y = f(x)\n",
    "\n",
    "# Use the single application of Simpson’s 1/3 rule\n",
    "Is = simps(y, x)\n",
    "ea = abs(I_true-Is)/I_true\n",
    "\n",
    "# The result and relative error\n",
    "Is, ea"
   ]
  },
  {
   "cell_type": "code",
   "execution_count": 205,
   "metadata": {
    "collapsed": false
   },
   "outputs": [
    {
     "data": {
      "text/plain": [
       "(1.6818003814830256, 6.37643302533337e-5)"
      ]
     },
     "execution_count": 205,
     "metadata": {},
     "output_type": "execute_result"
    }
   ],
   "source": [
    "# e) multiple-application Simpson’s rule, with n = 4\n",
    "n = 4\n",
    "x = linspace(a, b, n+1)\n",
    "\n",
    "# Calculate the y-values\n",
    "y = f(x)\n",
    "\n",
    "# Use the single application of Simpson’s 1/3 rule\n",
    "Is4 = simps(y, x)\n",
    "ea = abs(I_true-Is4)/I_true\n",
    "\n",
    "# The result and relative error\n",
    "Is4, ea"
   ]
  },
  {
   "cell_type": "code",
   "execution_count": 206,
   "metadata": {
    "collapsed": false
   },
   "outputs": [
    {
     "data": {
      "text/plain": [
       "(1.6809041948423065, 0.000596603724181862)"
      ]
     },
     "execution_count": 206,
     "metadata": {},
     "output_type": "execute_result"
    }
   ],
   "source": [
    "# e) multiple-application Simpson’s rule, with n = 5\n",
    "n = 5\n",
    "x = linspace(a, b, n+1)\n",
    "\n",
    "# Calculate the y-values\n",
    "y = f(x)\n",
    "\n",
    "# Use the single application of Simpson’s 1/3 rule\n",
    "Is5 = simps(y, x)\n",
    "ea = abs(I_true-Is5)/I_true\n",
    "\n",
    "# The result and relative error\n",
    "Is5, ea"
   ]
  },
  {
   "cell_type": "markdown",
   "metadata": {},
   "source": [
    "## Exercise 4:\n",
    "Integrate the following function analytically and using the trapezoidal\n",
    "rule, with n = 1, 2, 3, ..., 20:   \n",
    "$\\int_{1}^{2} (x + 1/x)^2 dx$   \n",
    "Use the analytical solution to compute the true relative errors to evaluate\n",
    "the accuracy of the trapezoidal approximations. What do you\n",
    "observe?"
   ]
  },
  {
   "cell_type": "code",
   "execution_count": 207,
   "metadata": {
    "collapsed": false
   },
   "outputs": [
    {
     "data": {
      "text/plain": [
       "4.83333333333333"
      ]
     },
     "execution_count": 207,
     "metadata": {},
     "output_type": "execute_result"
    }
   ],
   "source": [
    "# Define function f(x)\n",
    "def f(x):\n",
    "    return (x+1/x)**2\n",
    "\n",
    "a = 1\n",
    "b = 2\n",
    "\n",
    "# a) Calculate the true integral result analytically\n",
    "I_true = sp.integrate(f(z), (z, a, b)).evalf()\n",
    "I_true"
   ]
  },
  {
   "cell_type": "code",
   "execution_count": 208,
   "metadata": {
    "collapsed": false
   },
   "outputs": [
    {
     "data": {
      "image/png": "[encoded data removed]",
      "text/plain": [
       "<matplotlib.figure.Figure at 0x20224103be0>"
      ]
     },
     "metadata": {},
     "output_type": "display_data"
    }
   ],
   "source": [
    "## Graphical presentation\n",
    "# Make the x-array\n",
    "x = linspace(a, b, 1000)\n",
    "# Calculate the function values\n",
    "y = f(x)\n",
    "\n",
    "# Fill the integration area\n",
    "fill_between(x, y, alpha = 0.5)\n",
    "\n",
    "# Make another graph showing the function\n",
    "x2 = linspace(a-0.5, b+1, 1000)\n",
    "y2 = f(x2)\n",
    "plot(x2, y2)\n",
    "grid()"
   ]
  },
  {
   "cell_type": "code",
   "execution_count": 209,
   "metadata": {
    "collapsed": false
   },
   "outputs": [
    {
     "name": "stdout",
     "output_type": "stream",
     "text": [
      "1 5.125 0.0603448275862070\n",
      "2 4.90972222222 0.0158045977011493\n",
      "3 4.86768518519 0.00710727969348648\n",
      "4 4.85274376417 0.00401595120806946\n",
      "5 4.84578310028 0.00257581385044454\n",
      "6 4.84198946016 0.00179092279069895\n",
      "7 4.83969763037 0.00131675111174072\n",
      "8 4.83820835033 0.00100862420544903\n",
      "9 4.83718647996 0.000797202751302779\n",
      "10 4.83645512746 0.000645888440998585\n",
      "11 4.83591378558 0.000533886671651582\n",
      "12 4.83550192278 0.000448673679018000\n",
      "13 4.83518131999 0.000382342067381421\n",
      "14 4.83492688363 0.000329700060348588\n",
      "15 4.83472158642 0.000287224777220617\n",
      "16 4.83455354513 0.000252457612482102\n",
      "17 4.83441426256 0.000223640529011004\n",
      "18 4.83429753259 0.000199489500911872\n",
      "19 4.83419873702 0.000179049038094901\n",
      "20 4.83411438188 0.000161596250670715\n"
     ]
    }
   ],
   "source": [
    "# single and multiple application trapezoidal rule, with n = 1, 2, 3, ..., 20\n",
    "for n in range(1, 21):\n",
    "    x = linspace(a, b, n+1)\n",
    "\n",
    "    # Calculate the y-values\n",
    "    y = f(x)\n",
    "\n",
    "    # Use the multiple-application Trapezoidal rule\n",
    "    It = trapz(y, x)\n",
    "    ea = abs(I_true-It)/I_true\n",
    "\n",
    "    # The result and relative error\n",
    "    print(n, It, ea)"
   ]
  },
  {
   "cell_type": "markdown",
   "metadata": {},
   "source": [
    "##### Answer: The accuracy increased when n increases"
   ]
  }
 ],
 "metadata": {
  "anaconda-cloud": {},
  "kernelspec": {
   "display_name": "Python [default]",
   "language": "python",
   "name": "python3"
  },
  "language_info": {
   "codemirror_mode": {
    "name": "ipython",
    "version": 3
   },
   "file_extension": ".py",
   "mimetype": "text/x-python",
   "name": "python",
   "nbconvert_exporter": "python",
   "pygments_lexer": "ipython3",
   "version": "3.5.2"
  }
 },
 "nbformat": 4,
 "nbformat_minor": 1
}
